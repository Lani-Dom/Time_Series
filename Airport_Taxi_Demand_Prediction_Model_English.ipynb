{
 "cells": [
  {
   "cell_type": "markdown",
   "metadata": {},
   "source": [
    "# Airport Taxi Demand Prediction Model"
   ]
  },
  {
   "cell_type": "markdown",
   "metadata": {},
   "source": [
    "-----"
   ]
  },
  {
   "cell_type": "markdown",
   "metadata": {},
   "source": [
    "## Overview"
   ]
  },
  {
   "cell_type": "markdown",
   "metadata": {},
   "source": [
    "### Description"
   ]
  },
  {
   "cell_type": "markdown",
   "metadata": {},
   "source": [
    "<div style=\"color: #196CC4;\">\n",
    "Sweet Lift Taxi aims to improve driver allocation during airport peak hours by accurately predicting taxi demand. Using historical order data, a time series forecasting model will be developed.\n",
    "</div>"
   ]
  },
  {
   "cell_type": "markdown",
   "metadata": {},
   "source": [
    "### Objective"
   ]
  },
  {
   "cell_type": "markdown",
   "metadata": {},
   "source": [
    "<div style=\"color: #196CC4;\">\n",
    "Build a time series forecasting model capable of accurately predicting the number of taxi orders at airports during the next hour. This will enable us to anticipate demand and allocate resources more efficiently, thereby improving customer satisfaction and operational efficiency. Success will be measured by the model's ability to meet a specified error threshold in demand prediction.\n",
    "</div>"
   ]
  },
  {
   "cell_type": "markdown",
   "metadata": {},
   "source": [
    "### Resources"
   ]
  },
  {
   "cell_type": "markdown",
   "metadata": {},
   "source": [
    "<div style=\"color: #196CC4;\">\n",
    "<b>Features</b><br>\n",
    "▶ datetime - order timestamp<br>\n",
    "▶ num_orders - number of orders<br>\n",
    "</div>"
   ]
  },
  {
   "cell_type": "markdown",
   "metadata": {},
   "source": [
    "### Methodology"
   ]
  },
  {
   "cell_type": "markdown",
   "metadata": {},
   "source": [
    "<div style=\"color: #196CC4;\">\n",
    "<ol>\n",
    "<li><strong>Initialization and Exploratory Data Analysis</strong>\n",
    "<ul>\n",
    "<li>Import libraries, modules, and a dataset: taxi.csv</li>\n",
    "<li>Perform a general understanding of the dataset with preliminary correlations between date, time, and number of trips requested</li>\n",
    "<li>Descriptive statistics</li>\n",
    "<li>Perform an outlier analysis, observing outliers, mean, and considering +- 3 standard deviations</li>\n",
    "<li>Resample the data in 1-hour intervals and verify that they are in chronological order</li>\n",
    "<li>Since it is a time series and we are not combining multiple features, there is no need to scale the data</li>\n",
    "<li>For feature engineering, consider Series such as year, month, day, day of the week to obtain additional information related to the seasonality of taxi requests</li>\n",
    "<li>Visualization of the new DataFrame with the changes made and a graph to visualize the number of orders over time and its Moving Average. Also, zoom in to observe the behavior of the Moving Average in detail</li>\n",
    "<li>Analysis of the resampled data to better understand the distribution of taxi orders over time with original data, trend, seasonality, and noise. A non-stationary trend is observed</li>\n",
    "\n",
    "</ul>\n",
    "</li>\n",
    "\n",
    "<li><strong>Training</strong>\n",
    "<ul>\n",
    "\n",
    "<li>Divide the data into training and testing sets with a 9:1 ratio</li>\n",
    "<li>Use Linear Regression, Random Forest, and LGBM with RMSE (Root Mean Squared Error) and prediction time to perform an analysis of the quality of the predictions</li></ul>\n",
    "</li>\n",
    "\n",
    "<li><strong>Model Evaluation</strong>\n",
    "    <ul>\n",
    "<li>Show a summary of the results and metrics obtained for each of the models used</li>\n",
    "<li>Perform a quality analysis of the predictions </li>\n",
    "<li>Perform an analysis of the prediction speed and training time of each model</li>\n",
    "\n",
    "</ul>\n",
    "</li>\n",
    "\n",
    "<li><strong>Conclusions</strong>\n",
    "    <ul>\n",
    "<li>Select the best model in terms of performance accuracy</li>\n",
    "    </ul>\n",
    "</li>\n",
    "</ol>\n",
    "\n",
    "</div>"
   ]
  },
  {
   "cell_type": "markdown",
   "metadata": {},
   "source": [
    "-----"
   ]
  },
  {
   "cell_type": "markdown",
   "metadata": {},
   "source": [
    "## General Information"
   ]
  },
  {
   "cell_type": "markdown",
   "metadata": {},
   "source": [
    "### Inicialization"
   ]
  },
  {
   "cell_type": "code",
   "execution_count": 1,
   "metadata": {},
   "outputs": [],
   "source": [
    "# Data analysis\n",
    "import pandas as pd\n",
    "\n",
    "# Numerical operations\n",
    "import numpy as np\n",
    "\n",
    "# Math\n",
    "import math\n",
    "\n",
    "# Statistic Models\n",
    "import statsmodels.api as sm\n",
    "\n",
    "# Testing sets\n",
    "from sklearn.model_selection import train_test_split\n",
    "\n",
    "# Metrics\n",
    "from sklearn.metrics import mean_squared_error\n",
    "import time\n",
    "\n",
    "# Time Series decompose\n",
    "from statsmodels.tsa.seasonal import seasonal_decompose\n",
    "\n",
    "# Statistical models & time series analysis methods\n",
    "import statsmodels.api as sm\n",
    "\n",
    "# Data visualization\n",
    "import matplotlib.pyplot as plt\n",
    "\n",
    "# Model training\n",
    "from sklearn.linear_model import LinearRegression\n",
    "from sklearn.ensemble import RandomForestRegressor\n",
    "from sklearn.model_selection import RandomizedSearchCV\n",
    "\n",
    "# Gradient boosting model training\n",
    "import lightgbm as lgb\n",
    "from lightgbm import LGBMRegressor"
   ]
  },
  {
   "cell_type": "code",
   "execution_count": 2,
   "metadata": {},
   "outputs": [],
   "source": [
    "# Import data\n",
    "taxis = pd.read_csv('datasets/taxi.csv', index_col=[0], parse_dates=[0])"
   ]
  },
  {
   "cell_type": "markdown",
   "metadata": {},
   "source": [
    "### Dataset general overview\n"
   ]
  },
  {
   "cell_type": "markdown",
   "metadata": {},
   "source": [
    "<div style=\"color: #196CC4;\">\n",
    "▶ Dataframes general properties\n",
    "</div>"
   ]
  },
  {
   "cell_type": "code",
   "execution_count": 3,
   "metadata": {},
   "outputs": [
    {
     "name": "stdout",
     "output_type": "stream",
     "text": [
      "<class 'pandas.core.frame.DataFrame'>\n",
      "DatetimeIndex: 26496 entries, 2018-03-01 00:00:00 to 2018-08-31 23:50:00\n",
      "Data columns (total 1 columns):\n",
      " #   Column      Non-Null Count  Dtype\n",
      "---  ------      --------------  -----\n",
      " 0   num_orders  26496 non-null  int64\n",
      "dtypes: int64(1)\n",
      "memory usage: 414.0 KB\n"
     ]
    }
   ],
   "source": [
    "# General Dataframe properties\n",
    "taxis.info()"
   ]
  },
  {
   "cell_type": "code",
   "execution_count": 4,
   "metadata": {},
   "outputs": [
    {
     "data": {
      "text/html": [
       "<div>\n",
       "<style scoped>\n",
       "    .dataframe tbody tr th:only-of-type {\n",
       "        vertical-align: middle;\n",
       "    }\n",
       "\n",
       "    .dataframe tbody tr th {\n",
       "        vertical-align: top;\n",
       "    }\n",
       "\n",
       "    .dataframe thead th {\n",
       "        text-align: right;\n",
       "    }\n",
       "</style>\n",
       "<table border=\"1\" class=\"dataframe\">\n",
       "  <thead>\n",
       "    <tr style=\"text-align: right;\">\n",
       "      <th></th>\n",
       "      <th>num_orders</th>\n",
       "    </tr>\n",
       "    <tr>\n",
       "      <th>datetime</th>\n",
       "      <th></th>\n",
       "    </tr>\n",
       "  </thead>\n",
       "  <tbody>\n",
       "    <tr>\n",
       "      <th>2018-03-01 00:00:00</th>\n",
       "      <td>9</td>\n",
       "    </tr>\n",
       "    <tr>\n",
       "      <th>2018-03-01 00:10:00</th>\n",
       "      <td>14</td>\n",
       "    </tr>\n",
       "    <tr>\n",
       "      <th>2018-03-01 00:20:00</th>\n",
       "      <td>28</td>\n",
       "    </tr>\n",
       "  </tbody>\n",
       "</table>\n",
       "</div>"
      ],
      "text/plain": [
       "                     num_orders\n",
       "datetime                       \n",
       "2018-03-01 00:00:00           9\n",
       "2018-03-01 00:10:00          14\n",
       "2018-03-01 00:20:00          28"
      ]
     },
     "metadata": {},
     "output_type": "display_data"
    }
   ],
   "source": [
    "# General data overview\n",
    "display(taxis.head(3))"
   ]
  },
  {
   "cell_type": "markdown",
   "metadata": {},
   "source": [
    "<div style=\"color: #196CC4;\">\n",
    "▶ Descriptive statistics for numerical data.\n",
    "</div>"
   ]
  },
  {
   "cell_type": "code",
   "execution_count": 5,
   "metadata": {},
   "outputs": [
    {
     "data": {
      "text/html": [
       "<div>\n",
       "<style scoped>\n",
       "    .dataframe tbody tr th:only-of-type {\n",
       "        vertical-align: middle;\n",
       "    }\n",
       "\n",
       "    .dataframe tbody tr th {\n",
       "        vertical-align: top;\n",
       "    }\n",
       "\n",
       "    .dataframe thead th {\n",
       "        text-align: right;\n",
       "    }\n",
       "</style>\n",
       "<table border=\"1\" class=\"dataframe\">\n",
       "  <thead>\n",
       "    <tr style=\"text-align: right;\">\n",
       "      <th></th>\n",
       "      <th>num_orders</th>\n",
       "    </tr>\n",
       "  </thead>\n",
       "  <tbody>\n",
       "    <tr>\n",
       "      <th>count</th>\n",
       "      <td>26496.000000</td>\n",
       "    </tr>\n",
       "    <tr>\n",
       "      <th>mean</th>\n",
       "      <td>14.070463</td>\n",
       "    </tr>\n",
       "    <tr>\n",
       "      <th>std</th>\n",
       "      <td>9.211330</td>\n",
       "    </tr>\n",
       "    <tr>\n",
       "      <th>min</th>\n",
       "      <td>0.000000</td>\n",
       "    </tr>\n",
       "    <tr>\n",
       "      <th>0%</th>\n",
       "      <td>0.000000</td>\n",
       "    </tr>\n",
       "    <tr>\n",
       "      <th>10%</th>\n",
       "      <td>4.000000</td>\n",
       "    </tr>\n",
       "    <tr>\n",
       "      <th>20%</th>\n",
       "      <td>7.000000</td>\n",
       "    </tr>\n",
       "    <tr>\n",
       "      <th>30%</th>\n",
       "      <td>9.000000</td>\n",
       "    </tr>\n",
       "    <tr>\n",
       "      <th>40%</th>\n",
       "      <td>11.000000</td>\n",
       "    </tr>\n",
       "    <tr>\n",
       "      <th>50%</th>\n",
       "      <td>13.000000</td>\n",
       "    </tr>\n",
       "    <tr>\n",
       "      <th>60%</th>\n",
       "      <td>15.000000</td>\n",
       "    </tr>\n",
       "    <tr>\n",
       "      <th>70%</th>\n",
       "      <td>17.000000</td>\n",
       "    </tr>\n",
       "    <tr>\n",
       "      <th>80%</th>\n",
       "      <td>21.000000</td>\n",
       "    </tr>\n",
       "    <tr>\n",
       "      <th>90%</th>\n",
       "      <td>26.000000</td>\n",
       "    </tr>\n",
       "    <tr>\n",
       "      <th>max</th>\n",
       "      <td>119.000000</td>\n",
       "    </tr>\n",
       "  </tbody>\n",
       "</table>\n",
       "</div>"
      ],
      "text/plain": [
       "         num_orders\n",
       "count  26496.000000\n",
       "mean      14.070463\n",
       "std        9.211330\n",
       "min        0.000000\n",
       "0%         0.000000\n",
       "10%        4.000000\n",
       "20%        7.000000\n",
       "30%        9.000000\n",
       "40%       11.000000\n",
       "50%       13.000000\n",
       "60%       15.000000\n",
       "70%       17.000000\n",
       "80%       21.000000\n",
       "90%       26.000000\n",
       "max      119.000000"
      ]
     },
     "execution_count": 5,
     "metadata": {},
     "output_type": "execute_result"
    }
   ],
   "source": [
    "# Descriptive statistics\n",
    "taxis.describe(percentiles=np.arange(0,1,0.1))"
   ]
  },
  {
   "cell_type": "markdown",
   "metadata": {},
   "source": [
    "### Initial Observations"
   ]
  },
  {
   "cell_type": "markdown",
   "metadata": {},
   "source": [
    "<div style=\"color: #196CC4;\">\n",
    "▶ Series names are in lowercase<br>\n",
    "▶ All Series will be essential for the project<br>\n",
    "▶ There are no missing values<br>\n",
    "▶ The Series \"num_orders\" is of type \"object\" but should be of type date<br>\n",
    "▶ According to descriptive statistics, there are outliers in the Series \"num_orders\"\n",
    "</div>"
   ]
  },
  {
   "cell_type": "markdown",
   "metadata": {},
   "source": [
    "-----"
   ]
  },
  {
   "cell_type": "markdown",
   "metadata": {},
   "source": [
    "## Exploratory Data Analysis (EDA)"
   ]
  },
  {
   "cell_type": "markdown",
   "metadata": {},
   "source": [
    "### Outliers"
   ]
  },
  {
   "cell_type": "code",
   "execution_count": 6,
   "metadata": {},
   "outputs": [
    {
     "data": {
      "image/png": "[encoded data removed]",
      "text/plain": [
       "<Figure size 1200x400 with 1 Axes>"
      ]
     },
     "metadata": {},
     "output_type": "display_data"
    }
   ],
   "source": [
    "# Boxplot\n",
    "plt.figure(figsize=(12, 4))\n",
    "plt.plot(taxis['num_orders'], color='blue')\n",
    "plt.title('Number of Taxi Orders Over Time')\n",
    "plt.xlabel('Date and Time')\n",
    "plt.ylabel('Number of Orders')\n",
    "plt.grid(True)\n",
    "plt.show()"
   ]
  },
  {
   "cell_type": "markdown",
   "metadata": {},
   "source": [
    "<div style=\"color: #196CC4;\">\n",
    "<b>Outliers</b><br>\n",
    "▶ According to descriptive statistics, the \"num_orders\" values range from 0 to 119, with a mean of 14.07. Considering that the maximum value of 119 is quite far from the 75th percentile, it can be considered a potential outlier.<br>\n",
    "▶ A box plot is shown below to visualize the data distribution for \"num_orders\".\n",
    "</div>"
   ]
  },
  {
   "cell_type": "code",
   "execution_count": 7,
   "metadata": {
    "scrolled": false
   },
   "outputs": [
    {
     "data": {
      "image/png": "[encoded data removed]",
      "text/plain": [
       "<Figure size 600x500 with 1 Axes>"
      ]
     },
     "metadata": {},
     "output_type": "display_data"
    }
   ],
   "source": [
    "# Boxplot\n",
    "plt.figure(figsize=(6, 5))\n",
    "plt.boxplot(taxis['num_orders'])\n",
    "plt.title('Distribution of Number of Orders')\n",
    "plt.ylabel('Number of Orders')\n",
    "plt.show()"
   ]
  },
  {
   "cell_type": "markdown",
   "metadata": {},
   "source": [
    "<div style=\"color: #196CC4;\">\n",
    "<b>Mean and Standard Deviation</b><br>\n",
    "▶ The specific values for the mean and standard deviation of \"num_orders\" are calculated below.\n",
    "</div>"
   ]
  },
  {
   "cell_type": "code",
   "execution_count": 8,
   "metadata": {},
   "outputs": [
    {
     "name": "stdout",
     "output_type": "stream",
     "text": [
      "Mean of 'num_orders' column: 14.070463466183575\n",
      "Standard deviation of 'num_orders' column: 9.211329545049038\n"
     ]
    }
   ],
   "source": [
    "# Mean and the Standard Deviation\n",
    "mean_num = taxis['num_orders'].mean()\n",
    "std_num = taxis['num_orders'].std()\n",
    "\n",
    "# Print\n",
    "print(\"Mean of 'num_orders' column:\", mean_num)\n",
    "print(\"Standard deviation of 'num_orders' column:\", std_num)"
   ]
  },
  {
   "cell_type": "markdown",
   "metadata": {},
   "source": [
    "<div style=\"color: #196CC4;\">\n",
    "▶ Based on these values, the limits for identifying outliers will be ±3 standard deviations from the mean.\n",
    "</div>"
   ]
  },
  {
   "cell_type": "code",
   "execution_count": 9,
   "metadata": {},
   "outputs": [],
   "source": [
    "# Limit Outliers\n",
    "lower_bound_num = mean_num - 3 * std_num\n",
    "upper_bound_num = mean_num + 3 * std_num"
   ]
  },
  {
   "cell_type": "markdown",
   "metadata": {},
   "source": [
    "<div style=\"color: #196CC4;\">\n",
    "▶ These limits will be used to identify and remove outliers.\n",
    "</div>"
   ]
  },
  {
   "cell_type": "code",
   "execution_count": 10,
   "metadata": {},
   "outputs": [],
   "source": [
    "# Delete Outliers\n",
    "taxis = taxis[(taxis['num_orders'] >= lower_bound_num) & (taxis['num_orders'] <= upper_bound_num)]"
   ]
  },
  {
   "cell_type": "markdown",
   "metadata": {},
   "source": [
    "<div style=\"color: #196CC4;\">\n",
    "▶ Checking descriptive statistics\n",
    "</div>"
   ]
  },
  {
   "cell_type": "code",
   "execution_count": 11,
   "metadata": {},
   "outputs": [
    {
     "data": {
      "text/html": [
       "<div>\n",
       "<style scoped>\n",
       "    .dataframe tbody tr th:only-of-type {\n",
       "        vertical-align: middle;\n",
       "    }\n",
       "\n",
       "    .dataframe tbody tr th {\n",
       "        vertical-align: top;\n",
       "    }\n",
       "\n",
       "    .dataframe thead th {\n",
       "        text-align: right;\n",
       "    }\n",
       "</style>\n",
       "<table border=\"1\" class=\"dataframe\">\n",
       "  <thead>\n",
       "    <tr style=\"text-align: right;\">\n",
       "      <th></th>\n",
       "      <th>num_orders</th>\n",
       "    </tr>\n",
       "  </thead>\n",
       "  <tbody>\n",
       "    <tr>\n",
       "      <th>count</th>\n",
       "      <td>26179.000000</td>\n",
       "    </tr>\n",
       "    <tr>\n",
       "      <th>mean</th>\n",
       "      <td>13.630314</td>\n",
       "    </tr>\n",
       "    <tr>\n",
       "      <th>std</th>\n",
       "      <td>8.251699</td>\n",
       "    </tr>\n",
       "    <tr>\n",
       "      <th>min</th>\n",
       "      <td>0.000000</td>\n",
       "    </tr>\n",
       "    <tr>\n",
       "      <th>0%</th>\n",
       "      <td>0.000000</td>\n",
       "    </tr>\n",
       "    <tr>\n",
       "      <th>10%</th>\n",
       "      <td>4.000000</td>\n",
       "    </tr>\n",
       "    <tr>\n",
       "      <th>20%</th>\n",
       "      <td>6.000000</td>\n",
       "    </tr>\n",
       "    <tr>\n",
       "      <th>30%</th>\n",
       "      <td>9.000000</td>\n",
       "    </tr>\n",
       "    <tr>\n",
       "      <th>40%</th>\n",
       "      <td>11.000000</td>\n",
       "    </tr>\n",
       "    <tr>\n",
       "      <th>50%</th>\n",
       "      <td>12.000000</td>\n",
       "    </tr>\n",
       "    <tr>\n",
       "      <th>60%</th>\n",
       "      <td>15.000000</td>\n",
       "    </tr>\n",
       "    <tr>\n",
       "      <th>70%</th>\n",
       "      <td>17.000000</td>\n",
       "    </tr>\n",
       "    <tr>\n",
       "      <th>80%</th>\n",
       "      <td>20.000000</td>\n",
       "    </tr>\n",
       "    <tr>\n",
       "      <th>90%</th>\n",
       "      <td>25.000000</td>\n",
       "    </tr>\n",
       "    <tr>\n",
       "      <th>max</th>\n",
       "      <td>41.000000</td>\n",
       "    </tr>\n",
       "  </tbody>\n",
       "</table>\n",
       "</div>"
      ],
      "text/plain": [
       "         num_orders\n",
       "count  26179.000000\n",
       "mean      13.630314\n",
       "std        8.251699\n",
       "min        0.000000\n",
       "0%         0.000000\n",
       "10%        4.000000\n",
       "20%        6.000000\n",
       "30%        9.000000\n",
       "40%       11.000000\n",
       "50%       12.000000\n",
       "60%       15.000000\n",
       "70%       17.000000\n",
       "80%       20.000000\n",
       "90%       25.000000\n",
       "max       41.000000"
      ]
     },
     "execution_count": 11,
     "metadata": {},
     "output_type": "execute_result"
    }
   ],
   "source": [
    "# Descriptive statistics\n",
    "taxis.describe(percentiles=np.arange(0,1,0.1))"
   ]
  },
  {
   "cell_type": "markdown",
   "metadata": {},
   "source": [
    "<div style=\"color: #196CC4;\">\n",
    "▶ Display of data after removing outliers\n",
    "</div>"
   ]
  },
  {
   "cell_type": "code",
   "execution_count": 12,
   "metadata": {},
   "outputs": [
    {
     "data": {
      "image/png": "[encoded data removed]",
      "text/plain": [
       "<Figure size 1200x400 with 1 Axes>"
      ]
     },
     "metadata": {},
     "output_type": "display_data"
    }
   ],
   "source": [
    "# Plot\n",
    "plt.figure(figsize=(12, 4))\n",
    "plt.plot(taxis['num_orders'], color='blue')\n",
    "plt.title('Number of Taxi Orders over Time')\n",
    "plt.xlabel('Date and Time')\n",
    "plt.ylabel('Number of Orders')\n",
    "plt.grid(True)\n",
    "plt.show()"
   ]
  },
  {
   "cell_type": "markdown",
   "metadata": {},
   "source": [
    "### Data resampling"
   ]
  },
  {
   "cell_type": "markdown",
   "metadata": {},
   "source": [
    "<div style=\"color: #196CC4;\">\n",
    "▶ Next, the 'taxis' DataFrame is sorted by its index. The data in the 'taxis' DataFrame is resampled to 1-hour intervals ('1H'), summing the values within each interval. Finally, it is verified that the dates and times are in chronological order using 'is_monotonic'.\n",
    "</div>"
   ]
  },
  {
   "cell_type": "code",
   "execution_count": 13,
   "metadata": {},
   "outputs": [
    {
     "name": "stdout",
     "output_type": "stream",
     "text": [
      "True\n"
     ]
    },
    {
     "name": "stderr",
     "output_type": "stream",
     "text": [
      "C:\\Users\\dguez\\AppData\\Local\\Temp\\ipykernel_13756\\3355078505.py:2: FutureWarning: 'H' is deprecated and will be removed in a future version, please use 'h' instead.\n",
      "  taxis = taxis.resample('1H').sum()\n"
     ]
    }
   ],
   "source": [
    "taxis.sort_index(inplace=True)\n",
    "taxis = taxis.resample('1H').sum()\n",
    "\n",
    "# Is monotonic increasing?\n",
    "print(taxis.index.is_monotonic_increasing)"
   ]
  },
  {
   "cell_type": "markdown",
   "metadata": {},
   "source": [
    "### Data scaling"
   ]
  },
  {
   "cell_type": "markdown",
   "metadata": {},
   "source": [
    "<div style=\"color: #196CC4;\">\n",
    "▶ In the case of a single time series, without the combination of multiple features with different scales, data scaling is not required.</div>"
   ]
  },
  {
   "cell_type": "code",
   "execution_count": 14,
   "metadata": {},
   "outputs": [
    {
     "data": {
      "text/html": [
       "<div>\n",
       "<style scoped>\n",
       "    .dataframe tbody tr th:only-of-type {\n",
       "        vertical-align: middle;\n",
       "    }\n",
       "\n",
       "    .dataframe tbody tr th {\n",
       "        vertical-align: top;\n",
       "    }\n",
       "\n",
       "    .dataframe thead th {\n",
       "        text-align: right;\n",
       "    }\n",
       "</style>\n",
       "<table border=\"1\" class=\"dataframe\">\n",
       "  <thead>\n",
       "    <tr style=\"text-align: right;\">\n",
       "      <th></th>\n",
       "      <th>num_orders</th>\n",
       "    </tr>\n",
       "    <tr>\n",
       "      <th>datetime</th>\n",
       "      <th></th>\n",
       "    </tr>\n",
       "  </thead>\n",
       "  <tbody>\n",
       "    <tr>\n",
       "      <th>2018-03-01 00:00:00</th>\n",
       "      <td>124</td>\n",
       "    </tr>\n",
       "    <tr>\n",
       "      <th>2018-03-01 01:00:00</th>\n",
       "      <td>85</td>\n",
       "    </tr>\n",
       "    <tr>\n",
       "      <th>2018-03-01 02:00:00</th>\n",
       "      <td>71</td>\n",
       "    </tr>\n",
       "    <tr>\n",
       "      <th>2018-03-01 03:00:00</th>\n",
       "      <td>66</td>\n",
       "    </tr>\n",
       "    <tr>\n",
       "      <th>2018-03-01 04:00:00</th>\n",
       "      <td>43</td>\n",
       "    </tr>\n",
       "    <tr>\n",
       "      <th>...</th>\n",
       "      <td>...</td>\n",
       "    </tr>\n",
       "    <tr>\n",
       "      <th>2018-08-31 19:00:00</th>\n",
       "      <td>136</td>\n",
       "    </tr>\n",
       "    <tr>\n",
       "      <th>2018-08-31 20:00:00</th>\n",
       "      <td>154</td>\n",
       "    </tr>\n",
       "    <tr>\n",
       "      <th>2018-08-31 21:00:00</th>\n",
       "      <td>159</td>\n",
       "    </tr>\n",
       "    <tr>\n",
       "      <th>2018-08-31 22:00:00</th>\n",
       "      <td>175</td>\n",
       "    </tr>\n",
       "    <tr>\n",
       "      <th>2018-08-31 23:00:00</th>\n",
       "      <td>152</td>\n",
       "    </tr>\n",
       "  </tbody>\n",
       "</table>\n",
       "<p>4416 rows × 1 columns</p>\n",
       "</div>"
      ],
      "text/plain": [
       "                     num_orders\n",
       "datetime                       \n",
       "2018-03-01 00:00:00         124\n",
       "2018-03-01 01:00:00          85\n",
       "2018-03-01 02:00:00          71\n",
       "2018-03-01 03:00:00          66\n",
       "2018-03-01 04:00:00          43\n",
       "...                         ...\n",
       "2018-08-31 19:00:00         136\n",
       "2018-08-31 20:00:00         154\n",
       "2018-08-31 21:00:00         159\n",
       "2018-08-31 22:00:00         175\n",
       "2018-08-31 23:00:00         152\n",
       "\n",
       "[4416 rows x 1 columns]"
      ]
     },
     "execution_count": 14,
     "metadata": {},
     "output_type": "execute_result"
    }
   ],
   "source": [
    "# Print\n",
    "taxis"
   ]
  },
  {
   "cell_type": "code",
   "execution_count": 15,
   "metadata": {},
   "outputs": [],
   "source": [
    "# Dataframe copy for time series models\n",
    "taxis_default = taxis.copy()"
   ]
  },
  {
   "cell_type": "markdown",
   "metadata": {},
   "source": [
    "### Feature Engineering"
   ]
  },
  {
   "cell_type": "markdown",
   "metadata": {},
   "source": [
    "<div style=\"color: #196CC4;\">\n",
    "▶ It's advisable to include basic features such as year, month, day, and day of the week in your dataset for time series analysis. These features can provide additional information about seasonal, monthly, or daily variations in the number of taxi orders.<br>\n",
    "▶ Adding lag features can capture temporal dependencies between past and present values of the time series.<br>\n",
    "▶ Considering a Moving Average can also be beneficial as it can smooth short-term fluctuations and highlight long-term trends.\n",
    "</div>"
   ]
  },
  {
   "cell_type": "code",
   "execution_count": 16,
   "metadata": {},
   "outputs": [],
   "source": [
    "def make_features(data, max_lag, rolling_mean_size):\n",
    "    \n",
    "    # New time features\n",
    "    data['year'] = data.index.year\n",
    "    data['month'] = data.index.month\n",
    "    data['day'] = data.index.day\n",
    "    data['dayofweek'] = data.index.dayofweek\n",
    "\n",
    "    # Delay\n",
    "    for lag in range(1, max_lag + 1):\n",
    "        data['lag_{}'.format(lag)] = data['num_orders'].shift(lag)\n",
    "\n",
    "    # Moving Average\n",
    "    data['rolling_mean'] = (data['num_orders'].shift().rolling(rolling_mean_size).mean())"
   ]
  },
  {
   "cell_type": "code",
   "execution_count": 17,
   "metadata": {},
   "outputs": [],
   "source": [
    "# New features function\n",
    "make_features(taxis, 6, 20)"
   ]
  },
  {
   "cell_type": "markdown",
   "metadata": {},
   "source": [
    "### Display of Information"
   ]
  },
  {
   "cell_type": "markdown",
   "metadata": {},
   "source": [
    "<div style=\"color: #196CC4;\">\n",
    "▶ I will now proceed to inspect the modifications made to the properties of the 'taxis' DataFrame and visualize a sample of the data.<br>\n",
    "</div>"
   ]
  },
  {
   "cell_type": "code",
   "execution_count": 18,
   "metadata": {},
   "outputs": [
    {
     "data": {
      "text/html": [
       "<div>\n",
       "<style scoped>\n",
       "    .dataframe tbody tr th:only-of-type {\n",
       "        vertical-align: middle;\n",
       "    }\n",
       "\n",
       "    .dataframe tbody tr th {\n",
       "        vertical-align: top;\n",
       "    }\n",
       "\n",
       "    .dataframe thead th {\n",
       "        text-align: right;\n",
       "    }\n",
       "</style>\n",
       "<table border=\"1\" class=\"dataframe\">\n",
       "  <thead>\n",
       "    <tr style=\"text-align: right;\">\n",
       "      <th></th>\n",
       "      <th>num_orders</th>\n",
       "      <th>year</th>\n",
       "      <th>month</th>\n",
       "      <th>day</th>\n",
       "      <th>dayofweek</th>\n",
       "      <th>lag_1</th>\n",
       "      <th>lag_2</th>\n",
       "      <th>lag_3</th>\n",
       "      <th>lag_4</th>\n",
       "      <th>lag_5</th>\n",
       "      <th>lag_6</th>\n",
       "      <th>rolling_mean</th>\n",
       "    </tr>\n",
       "    <tr>\n",
       "      <th>datetime</th>\n",
       "      <th></th>\n",
       "      <th></th>\n",
       "      <th></th>\n",
       "      <th></th>\n",
       "      <th></th>\n",
       "      <th></th>\n",
       "      <th></th>\n",
       "      <th></th>\n",
       "      <th></th>\n",
       "      <th></th>\n",
       "      <th></th>\n",
       "      <th></th>\n",
       "    </tr>\n",
       "  </thead>\n",
       "  <tbody>\n",
       "    <tr>\n",
       "      <th>2018-03-01 00:00:00</th>\n",
       "      <td>124</td>\n",
       "      <td>2018</td>\n",
       "      <td>3</td>\n",
       "      <td>1</td>\n",
       "      <td>3</td>\n",
       "      <td>NaN</td>\n",
       "      <td>NaN</td>\n",
       "      <td>NaN</td>\n",
       "      <td>NaN</td>\n",
       "      <td>NaN</td>\n",
       "      <td>NaN</td>\n",
       "      <td>NaN</td>\n",
       "    </tr>\n",
       "    <tr>\n",
       "      <th>2018-03-01 01:00:00</th>\n",
       "      <td>85</td>\n",
       "      <td>2018</td>\n",
       "      <td>3</td>\n",
       "      <td>1</td>\n",
       "      <td>3</td>\n",
       "      <td>124.0</td>\n",
       "      <td>NaN</td>\n",
       "      <td>NaN</td>\n",
       "      <td>NaN</td>\n",
       "      <td>NaN</td>\n",
       "      <td>NaN</td>\n",
       "      <td>NaN</td>\n",
       "    </tr>\n",
       "    <tr>\n",
       "      <th>2018-03-01 02:00:00</th>\n",
       "      <td>71</td>\n",
       "      <td>2018</td>\n",
       "      <td>3</td>\n",
       "      <td>1</td>\n",
       "      <td>3</td>\n",
       "      <td>85.0</td>\n",
       "      <td>124.0</td>\n",
       "      <td>NaN</td>\n",
       "      <td>NaN</td>\n",
       "      <td>NaN</td>\n",
       "      <td>NaN</td>\n",
       "      <td>NaN</td>\n",
       "    </tr>\n",
       "    <tr>\n",
       "      <th>2018-03-01 03:00:00</th>\n",
       "      <td>66</td>\n",
       "      <td>2018</td>\n",
       "      <td>3</td>\n",
       "      <td>1</td>\n",
       "      <td>3</td>\n",
       "      <td>71.0</td>\n",
       "      <td>85.0</td>\n",
       "      <td>124.0</td>\n",
       "      <td>NaN</td>\n",
       "      <td>NaN</td>\n",
       "      <td>NaN</td>\n",
       "      <td>NaN</td>\n",
       "    </tr>\n",
       "    <tr>\n",
       "      <th>2018-03-01 04:00:00</th>\n",
       "      <td>43</td>\n",
       "      <td>2018</td>\n",
       "      <td>3</td>\n",
       "      <td>1</td>\n",
       "      <td>3</td>\n",
       "      <td>66.0</td>\n",
       "      <td>71.0</td>\n",
       "      <td>85.0</td>\n",
       "      <td>124.0</td>\n",
       "      <td>NaN</td>\n",
       "      <td>NaN</td>\n",
       "      <td>NaN</td>\n",
       "    </tr>\n",
       "    <tr>\n",
       "      <th>...</th>\n",
       "      <td>...</td>\n",
       "      <td>...</td>\n",
       "      <td>...</td>\n",
       "      <td>...</td>\n",
       "      <td>...</td>\n",
       "      <td>...</td>\n",
       "      <td>...</td>\n",
       "      <td>...</td>\n",
       "      <td>...</td>\n",
       "      <td>...</td>\n",
       "      <td>...</td>\n",
       "      <td>...</td>\n",
       "    </tr>\n",
       "    <tr>\n",
       "      <th>2018-08-31 19:00:00</th>\n",
       "      <td>136</td>\n",
       "      <td>2018</td>\n",
       "      <td>8</td>\n",
       "      <td>31</td>\n",
       "      <td>4</td>\n",
       "      <td>165.0</td>\n",
       "      <td>173.0</td>\n",
       "      <td>197.0</td>\n",
       "      <td>116.0</td>\n",
       "      <td>133.0</td>\n",
       "      <td>166.0</td>\n",
       "      <td>123.15</td>\n",
       "    </tr>\n",
       "    <tr>\n",
       "      <th>2018-08-31 20:00:00</th>\n",
       "      <td>154</td>\n",
       "      <td>2018</td>\n",
       "      <td>8</td>\n",
       "      <td>31</td>\n",
       "      <td>4</td>\n",
       "      <td>136.0</td>\n",
       "      <td>165.0</td>\n",
       "      <td>173.0</td>\n",
       "      <td>197.0</td>\n",
       "      <td>116.0</td>\n",
       "      <td>133.0</td>\n",
       "      <td>122.20</td>\n",
       "    </tr>\n",
       "    <tr>\n",
       "      <th>2018-08-31 21:00:00</th>\n",
       "      <td>159</td>\n",
       "      <td>2018</td>\n",
       "      <td>8</td>\n",
       "      <td>31</td>\n",
       "      <td>4</td>\n",
       "      <td>154.0</td>\n",
       "      <td>136.0</td>\n",
       "      <td>165.0</td>\n",
       "      <td>173.0</td>\n",
       "      <td>197.0</td>\n",
       "      <td>116.0</td>\n",
       "      <td>126.20</td>\n",
       "    </tr>\n",
       "    <tr>\n",
       "      <th>2018-08-31 22:00:00</th>\n",
       "      <td>175</td>\n",
       "      <td>2018</td>\n",
       "      <td>8</td>\n",
       "      <td>31</td>\n",
       "      <td>4</td>\n",
       "      <td>159.0</td>\n",
       "      <td>154.0</td>\n",
       "      <td>136.0</td>\n",
       "      <td>165.0</td>\n",
       "      <td>173.0</td>\n",
       "      <td>197.0</td>\n",
       "      <td>129.25</td>\n",
       "    </tr>\n",
       "    <tr>\n",
       "      <th>2018-08-31 23:00:00</th>\n",
       "      <td>152</td>\n",
       "      <td>2018</td>\n",
       "      <td>8</td>\n",
       "      <td>31</td>\n",
       "      <td>4</td>\n",
       "      <td>175.0</td>\n",
       "      <td>159.0</td>\n",
       "      <td>154.0</td>\n",
       "      <td>136.0</td>\n",
       "      <td>165.0</td>\n",
       "      <td>173.0</td>\n",
       "      <td>131.90</td>\n",
       "    </tr>\n",
       "  </tbody>\n",
       "</table>\n",
       "<p>4416 rows × 12 columns</p>\n",
       "</div>"
      ],
      "text/plain": [
       "                     num_orders  year  month  day  dayofweek  lag_1  lag_2  \\\n",
       "datetime                                                                     \n",
       "2018-03-01 00:00:00         124  2018      3    1          3    NaN    NaN   \n",
       "2018-03-01 01:00:00          85  2018      3    1          3  124.0    NaN   \n",
       "2018-03-01 02:00:00          71  2018      3    1          3   85.0  124.0   \n",
       "2018-03-01 03:00:00          66  2018      3    1          3   71.0   85.0   \n",
       "2018-03-01 04:00:00          43  2018      3    1          3   66.0   71.0   \n",
       "...                         ...   ...    ...  ...        ...    ...    ...   \n",
       "2018-08-31 19:00:00         136  2018      8   31          4  165.0  173.0   \n",
       "2018-08-31 20:00:00         154  2018      8   31          4  136.0  165.0   \n",
       "2018-08-31 21:00:00         159  2018      8   31          4  154.0  136.0   \n",
       "2018-08-31 22:00:00         175  2018      8   31          4  159.0  154.0   \n",
       "2018-08-31 23:00:00         152  2018      8   31          4  175.0  159.0   \n",
       "\n",
       "                     lag_3  lag_4  lag_5  lag_6  rolling_mean  \n",
       "datetime                                                       \n",
       "2018-03-01 00:00:00    NaN    NaN    NaN    NaN           NaN  \n",
       "2018-03-01 01:00:00    NaN    NaN    NaN    NaN           NaN  \n",
       "2018-03-01 02:00:00    NaN    NaN    NaN    NaN           NaN  \n",
       "2018-03-01 03:00:00  124.0    NaN    NaN    NaN           NaN  \n",
       "2018-03-01 04:00:00   85.0  124.0    NaN    NaN           NaN  \n",
       "...                    ...    ...    ...    ...           ...  \n",
       "2018-08-31 19:00:00  197.0  116.0  133.0  166.0        123.15  \n",
       "2018-08-31 20:00:00  173.0  197.0  116.0  133.0        122.20  \n",
       "2018-08-31 21:00:00  165.0  173.0  197.0  116.0        126.20  \n",
       "2018-08-31 22:00:00  136.0  165.0  173.0  197.0        129.25  \n",
       "2018-08-31 23:00:00  154.0  136.0  165.0  173.0        131.90  \n",
       "\n",
       "[4416 rows x 12 columns]"
      ]
     },
     "execution_count": 18,
     "metadata": {},
     "output_type": "execute_result"
    }
   ],
   "source": [
    "taxis"
   ]
  },
  {
   "cell_type": "markdown",
   "metadata": {},
   "source": [
    "<div style=\"color: #196CC4;\">\n",
    "▶ The complete graph with its moving average is shown below.<br>\n",
    "</div>"
   ]
  },
  {
   "cell_type": "code",
   "execution_count": 19,
   "metadata": {},
   "outputs": [
    {
     "data": {
      "image/png": "[encoded data removed]",
      "text/plain": [
       "<Figure size 1100x500 with 1 Axes>"
      ]
     },
     "metadata": {},
     "output_type": "display_data"
    }
   ],
   "source": [
    "# Selected series\n",
    "series_1 = taxis['num_orders']\n",
    "series_2 = taxis['rolling_mean']\n",
    "\n",
    "# Graph\n",
    "plt.figure(figsize=(11, 5))\n",
    "plt.plot(series_1, label='Number of orders')\n",
    "plt.plot(series_2, label='Moving average')\n",
    "\n",
    "# Labels\n",
    "plt.xlabel('Date and time')\n",
    "plt.ylabel('Number of orders')\n",
    "plt.title('Number of Taxi Orders Over Time')\n",
    "plt.legend()\n",
    "\n",
    "# Print\n",
    "plt.show()"
   ]
  },
  {
   "cell_type": "markdown",
   "metadata": {},
   "source": [
    "<div style=\"color: #196CC4;\">\n",
    "▶ A zoomed-in view of the graph is shown below to better visualize the pattern followed by the moving average.<br>\n",
    "</div>"
   ]
  },
  {
   "cell_type": "code",
   "execution_count": 20,
   "metadata": {},
   "outputs": [
    {
     "data": {
      "image/png": "[encoded data removed]",
      "text/plain": [
       "<Figure size 1100x500 with 1 Axes>"
      ]
     },
     "metadata": {},
     "output_type": "display_data"
    }
   ],
   "source": [
    "# Selected series\n",
    "series_1 = taxis['2018-07-01':'2018-09-30']['num_orders']\n",
    "series_2 = taxis['2018-07-01':'2018-09-30']['rolling_mean']\n",
    "\n",
    "# Graph\n",
    "plt.figure(figsize=(11, 5))\n",
    "plt.plot(series_1, label='Number of orders')\n",
    "plt.plot(series_2, label='Moving average')\n",
    "\n",
    "# Labels\n",
    "plt.xlabel('Date and time')\n",
    "plt.ylabel('Number of orders')\n",
    "plt.title('Number of Taxi Orders Over Time')\n",
    "plt.legend()\n",
    "\n",
    "# Print\n",
    "plt.show()"
   ]
  },
  {
   "cell_type": "markdown",
   "metadata": {},
   "source": [
    "<div style=\"color: #196CC4;\">\n",
    "▶ Next, we'll verify the properties and overview of the data ready for training.\n",
    "</div>"
   ]
  },
  {
   "cell_type": "code",
   "execution_count": 21,
   "metadata": {},
   "outputs": [
    {
     "name": "stdout",
     "output_type": "stream",
     "text": [
      "<class 'pandas.core.frame.DataFrame'>\n",
      "DatetimeIndex: 4416 entries, 2018-03-01 00:00:00 to 2018-08-31 23:00:00\n",
      "Freq: h\n",
      "Data columns (total 12 columns):\n",
      " #   Column        Non-Null Count  Dtype  \n",
      "---  ------        --------------  -----  \n",
      " 0   num_orders    4416 non-null   int64  \n",
      " 1   year          4416 non-null   int32  \n",
      " 2   month         4416 non-null   int32  \n",
      " 3   day           4416 non-null   int32  \n",
      " 4   dayofweek     4416 non-null   int32  \n",
      " 5   lag_1         4415 non-null   float64\n",
      " 6   lag_2         4414 non-null   float64\n",
      " 7   lag_3         4413 non-null   float64\n",
      " 8   lag_4         4412 non-null   float64\n",
      " 9   lag_5         4411 non-null   float64\n",
      " 10  lag_6         4410 non-null   float64\n",
      " 11  rolling_mean  4396 non-null   float64\n",
      "dtypes: float64(7), int32(4), int64(1)\n",
      "memory usage: 508.5 KB\n"
     ]
    }
   ],
   "source": [
    "# Data displayment\n",
    "taxis.info()"
   ]
  },
  {
   "cell_type": "code",
   "execution_count": 22,
   "metadata": {
    "scrolled": true
   },
   "outputs": [
    {
     "data": {
      "text/html": [
       "<div>\n",
       "<style scoped>\n",
       "    .dataframe tbody tr th:only-of-type {\n",
       "        vertical-align: middle;\n",
       "    }\n",
       "\n",
       "    .dataframe tbody tr th {\n",
       "        vertical-align: top;\n",
       "    }\n",
       "\n",
       "    .dataframe thead th {\n",
       "        text-align: right;\n",
       "    }\n",
       "</style>\n",
       "<table border=\"1\" class=\"dataframe\">\n",
       "  <thead>\n",
       "    <tr style=\"text-align: right;\">\n",
       "      <th></th>\n",
       "      <th>num_orders</th>\n",
       "      <th>year</th>\n",
       "      <th>month</th>\n",
       "      <th>day</th>\n",
       "      <th>dayofweek</th>\n",
       "      <th>lag_1</th>\n",
       "      <th>lag_2</th>\n",
       "      <th>lag_3</th>\n",
       "      <th>lag_4</th>\n",
       "      <th>lag_5</th>\n",
       "      <th>lag_6</th>\n",
       "      <th>rolling_mean</th>\n",
       "    </tr>\n",
       "    <tr>\n",
       "      <th>datetime</th>\n",
       "      <th></th>\n",
       "      <th></th>\n",
       "      <th></th>\n",
       "      <th></th>\n",
       "      <th></th>\n",
       "      <th></th>\n",
       "      <th></th>\n",
       "      <th></th>\n",
       "      <th></th>\n",
       "      <th></th>\n",
       "      <th></th>\n",
       "      <th></th>\n",
       "    </tr>\n",
       "  </thead>\n",
       "  <tbody>\n",
       "    <tr>\n",
       "      <th>2018-03-01 00:00:00</th>\n",
       "      <td>124</td>\n",
       "      <td>2018</td>\n",
       "      <td>3</td>\n",
       "      <td>1</td>\n",
       "      <td>3</td>\n",
       "      <td>NaN</td>\n",
       "      <td>NaN</td>\n",
       "      <td>NaN</td>\n",
       "      <td>NaN</td>\n",
       "      <td>NaN</td>\n",
       "      <td>NaN</td>\n",
       "      <td>NaN</td>\n",
       "    </tr>\n",
       "    <tr>\n",
       "      <th>2018-03-01 01:00:00</th>\n",
       "      <td>85</td>\n",
       "      <td>2018</td>\n",
       "      <td>3</td>\n",
       "      <td>1</td>\n",
       "      <td>3</td>\n",
       "      <td>124.0</td>\n",
       "      <td>NaN</td>\n",
       "      <td>NaN</td>\n",
       "      <td>NaN</td>\n",
       "      <td>NaN</td>\n",
       "      <td>NaN</td>\n",
       "      <td>NaN</td>\n",
       "    </tr>\n",
       "    <tr>\n",
       "      <th>2018-03-01 02:00:00</th>\n",
       "      <td>71</td>\n",
       "      <td>2018</td>\n",
       "      <td>3</td>\n",
       "      <td>1</td>\n",
       "      <td>3</td>\n",
       "      <td>85.0</td>\n",
       "      <td>124.0</td>\n",
       "      <td>NaN</td>\n",
       "      <td>NaN</td>\n",
       "      <td>NaN</td>\n",
       "      <td>NaN</td>\n",
       "      <td>NaN</td>\n",
       "    </tr>\n",
       "    <tr>\n",
       "      <th>2018-03-01 03:00:00</th>\n",
       "      <td>66</td>\n",
       "      <td>2018</td>\n",
       "      <td>3</td>\n",
       "      <td>1</td>\n",
       "      <td>3</td>\n",
       "      <td>71.0</td>\n",
       "      <td>85.0</td>\n",
       "      <td>124.0</td>\n",
       "      <td>NaN</td>\n",
       "      <td>NaN</td>\n",
       "      <td>NaN</td>\n",
       "      <td>NaN</td>\n",
       "    </tr>\n",
       "    <tr>\n",
       "      <th>2018-03-01 04:00:00</th>\n",
       "      <td>43</td>\n",
       "      <td>2018</td>\n",
       "      <td>3</td>\n",
       "      <td>1</td>\n",
       "      <td>3</td>\n",
       "      <td>66.0</td>\n",
       "      <td>71.0</td>\n",
       "      <td>85.0</td>\n",
       "      <td>124.0</td>\n",
       "      <td>NaN</td>\n",
       "      <td>NaN</td>\n",
       "      <td>NaN</td>\n",
       "    </tr>\n",
       "    <tr>\n",
       "      <th>2018-03-01 05:00:00</th>\n",
       "      <td>6</td>\n",
       "      <td>2018</td>\n",
       "      <td>3</td>\n",
       "      <td>1</td>\n",
       "      <td>3</td>\n",
       "      <td>43.0</td>\n",
       "      <td>66.0</td>\n",
       "      <td>71.0</td>\n",
       "      <td>85.0</td>\n",
       "      <td>124.0</td>\n",
       "      <td>NaN</td>\n",
       "      <td>NaN</td>\n",
       "    </tr>\n",
       "    <tr>\n",
       "      <th>2018-03-01 06:00:00</th>\n",
       "      <td>12</td>\n",
       "      <td>2018</td>\n",
       "      <td>3</td>\n",
       "      <td>1</td>\n",
       "      <td>3</td>\n",
       "      <td>6.0</td>\n",
       "      <td>43.0</td>\n",
       "      <td>66.0</td>\n",
       "      <td>71.0</td>\n",
       "      <td>85.0</td>\n",
       "      <td>124.0</td>\n",
       "      <td>NaN</td>\n",
       "    </tr>\n",
       "    <tr>\n",
       "      <th>2018-03-01 07:00:00</th>\n",
       "      <td>15</td>\n",
       "      <td>2018</td>\n",
       "      <td>3</td>\n",
       "      <td>1</td>\n",
       "      <td>3</td>\n",
       "      <td>12.0</td>\n",
       "      <td>6.0</td>\n",
       "      <td>43.0</td>\n",
       "      <td>66.0</td>\n",
       "      <td>71.0</td>\n",
       "      <td>85.0</td>\n",
       "      <td>NaN</td>\n",
       "    </tr>\n",
       "    <tr>\n",
       "      <th>2018-03-01 08:00:00</th>\n",
       "      <td>34</td>\n",
       "      <td>2018</td>\n",
       "      <td>3</td>\n",
       "      <td>1</td>\n",
       "      <td>3</td>\n",
       "      <td>15.0</td>\n",
       "      <td>12.0</td>\n",
       "      <td>6.0</td>\n",
       "      <td>43.0</td>\n",
       "      <td>66.0</td>\n",
       "      <td>71.0</td>\n",
       "      <td>NaN</td>\n",
       "    </tr>\n",
       "    <tr>\n",
       "      <th>2018-03-01 09:00:00</th>\n",
       "      <td>69</td>\n",
       "      <td>2018</td>\n",
       "      <td>3</td>\n",
       "      <td>1</td>\n",
       "      <td>3</td>\n",
       "      <td>34.0</td>\n",
       "      <td>15.0</td>\n",
       "      <td>12.0</td>\n",
       "      <td>6.0</td>\n",
       "      <td>43.0</td>\n",
       "      <td>66.0</td>\n",
       "      <td>NaN</td>\n",
       "    </tr>\n",
       "    <tr>\n",
       "      <th>2018-03-01 10:00:00</th>\n",
       "      <td>64</td>\n",
       "      <td>2018</td>\n",
       "      <td>3</td>\n",
       "      <td>1</td>\n",
       "      <td>3</td>\n",
       "      <td>69.0</td>\n",
       "      <td>34.0</td>\n",
       "      <td>15.0</td>\n",
       "      <td>12.0</td>\n",
       "      <td>6.0</td>\n",
       "      <td>43.0</td>\n",
       "      <td>NaN</td>\n",
       "    </tr>\n",
       "    <tr>\n",
       "      <th>2018-03-01 11:00:00</th>\n",
       "      <td>96</td>\n",
       "      <td>2018</td>\n",
       "      <td>3</td>\n",
       "      <td>1</td>\n",
       "      <td>3</td>\n",
       "      <td>64.0</td>\n",
       "      <td>69.0</td>\n",
       "      <td>34.0</td>\n",
       "      <td>15.0</td>\n",
       "      <td>12.0</td>\n",
       "      <td>6.0</td>\n",
       "      <td>NaN</td>\n",
       "    </tr>\n",
       "    <tr>\n",
       "      <th>2018-03-01 12:00:00</th>\n",
       "      <td>30</td>\n",
       "      <td>2018</td>\n",
       "      <td>3</td>\n",
       "      <td>1</td>\n",
       "      <td>3</td>\n",
       "      <td>96.0</td>\n",
       "      <td>64.0</td>\n",
       "      <td>69.0</td>\n",
       "      <td>34.0</td>\n",
       "      <td>15.0</td>\n",
       "      <td>12.0</td>\n",
       "      <td>NaN</td>\n",
       "    </tr>\n",
       "    <tr>\n",
       "      <th>2018-03-01 13:00:00</th>\n",
       "      <td>32</td>\n",
       "      <td>2018</td>\n",
       "      <td>3</td>\n",
       "      <td>1</td>\n",
       "      <td>3</td>\n",
       "      <td>30.0</td>\n",
       "      <td>96.0</td>\n",
       "      <td>64.0</td>\n",
       "      <td>69.0</td>\n",
       "      <td>34.0</td>\n",
       "      <td>15.0</td>\n",
       "      <td>NaN</td>\n",
       "    </tr>\n",
       "    <tr>\n",
       "      <th>2018-03-01 14:00:00</th>\n",
       "      <td>48</td>\n",
       "      <td>2018</td>\n",
       "      <td>3</td>\n",
       "      <td>1</td>\n",
       "      <td>3</td>\n",
       "      <td>32.0</td>\n",
       "      <td>30.0</td>\n",
       "      <td>96.0</td>\n",
       "      <td>64.0</td>\n",
       "      <td>69.0</td>\n",
       "      <td>34.0</td>\n",
       "      <td>NaN</td>\n",
       "    </tr>\n",
       "    <tr>\n",
       "      <th>2018-03-01 15:00:00</th>\n",
       "      <td>66</td>\n",
       "      <td>2018</td>\n",
       "      <td>3</td>\n",
       "      <td>1</td>\n",
       "      <td>3</td>\n",
       "      <td>48.0</td>\n",
       "      <td>32.0</td>\n",
       "      <td>30.0</td>\n",
       "      <td>96.0</td>\n",
       "      <td>64.0</td>\n",
       "      <td>69.0</td>\n",
       "      <td>NaN</td>\n",
       "    </tr>\n",
       "    <tr>\n",
       "      <th>2018-03-01 16:00:00</th>\n",
       "      <td>43</td>\n",
       "      <td>2018</td>\n",
       "      <td>3</td>\n",
       "      <td>1</td>\n",
       "      <td>3</td>\n",
       "      <td>66.0</td>\n",
       "      <td>48.0</td>\n",
       "      <td>32.0</td>\n",
       "      <td>30.0</td>\n",
       "      <td>96.0</td>\n",
       "      <td>64.0</td>\n",
       "      <td>NaN</td>\n",
       "    </tr>\n",
       "    <tr>\n",
       "      <th>2018-03-01 17:00:00</th>\n",
       "      <td>44</td>\n",
       "      <td>2018</td>\n",
       "      <td>3</td>\n",
       "      <td>1</td>\n",
       "      <td>3</td>\n",
       "      <td>43.0</td>\n",
       "      <td>66.0</td>\n",
       "      <td>48.0</td>\n",
       "      <td>32.0</td>\n",
       "      <td>30.0</td>\n",
       "      <td>96.0</td>\n",
       "      <td>NaN</td>\n",
       "    </tr>\n",
       "    <tr>\n",
       "      <th>2018-03-01 18:00:00</th>\n",
       "      <td>73</td>\n",
       "      <td>2018</td>\n",
       "      <td>3</td>\n",
       "      <td>1</td>\n",
       "      <td>3</td>\n",
       "      <td>44.0</td>\n",
       "      <td>43.0</td>\n",
       "      <td>66.0</td>\n",
       "      <td>48.0</td>\n",
       "      <td>32.0</td>\n",
       "      <td>30.0</td>\n",
       "      <td>NaN</td>\n",
       "    </tr>\n",
       "    <tr>\n",
       "      <th>2018-03-01 19:00:00</th>\n",
       "      <td>45</td>\n",
       "      <td>2018</td>\n",
       "      <td>3</td>\n",
       "      <td>1</td>\n",
       "      <td>3</td>\n",
       "      <td>73.0</td>\n",
       "      <td>44.0</td>\n",
       "      <td>43.0</td>\n",
       "      <td>66.0</td>\n",
       "      <td>48.0</td>\n",
       "      <td>32.0</td>\n",
       "      <td>NaN</td>\n",
       "    </tr>\n",
       "    <tr>\n",
       "      <th>2018-03-01 20:00:00</th>\n",
       "      <td>61</td>\n",
       "      <td>2018</td>\n",
       "      <td>3</td>\n",
       "      <td>1</td>\n",
       "      <td>3</td>\n",
       "      <td>45.0</td>\n",
       "      <td>73.0</td>\n",
       "      <td>44.0</td>\n",
       "      <td>43.0</td>\n",
       "      <td>66.0</td>\n",
       "      <td>48.0</td>\n",
       "      <td>53.30</td>\n",
       "    </tr>\n",
       "    <tr>\n",
       "      <th>2018-03-01 21:00:00</th>\n",
       "      <td>66</td>\n",
       "      <td>2018</td>\n",
       "      <td>3</td>\n",
       "      <td>1</td>\n",
       "      <td>3</td>\n",
       "      <td>61.0</td>\n",
       "      <td>45.0</td>\n",
       "      <td>73.0</td>\n",
       "      <td>44.0</td>\n",
       "      <td>43.0</td>\n",
       "      <td>66.0</td>\n",
       "      <td>50.15</td>\n",
       "    </tr>\n",
       "    <tr>\n",
       "      <th>2018-03-01 22:00:00</th>\n",
       "      <td>113</td>\n",
       "      <td>2018</td>\n",
       "      <td>3</td>\n",
       "      <td>1</td>\n",
       "      <td>3</td>\n",
       "      <td>66.0</td>\n",
       "      <td>61.0</td>\n",
       "      <td>45.0</td>\n",
       "      <td>73.0</td>\n",
       "      <td>44.0</td>\n",
       "      <td>43.0</td>\n",
       "      <td>49.20</td>\n",
       "    </tr>\n",
       "    <tr>\n",
       "      <th>2018-03-01 23:00:00</th>\n",
       "      <td>58</td>\n",
       "      <td>2018</td>\n",
       "      <td>3</td>\n",
       "      <td>1</td>\n",
       "      <td>3</td>\n",
       "      <td>113.0</td>\n",
       "      <td>66.0</td>\n",
       "      <td>61.0</td>\n",
       "      <td>45.0</td>\n",
       "      <td>73.0</td>\n",
       "      <td>44.0</td>\n",
       "      <td>51.30</td>\n",
       "    </tr>\n",
       "    <tr>\n",
       "      <th>2018-03-02 00:00:00</th>\n",
       "      <td>90</td>\n",
       "      <td>2018</td>\n",
       "      <td>3</td>\n",
       "      <td>2</td>\n",
       "      <td>4</td>\n",
       "      <td>58.0</td>\n",
       "      <td>113.0</td>\n",
       "      <td>66.0</td>\n",
       "      <td>61.0</td>\n",
       "      <td>45.0</td>\n",
       "      <td>73.0</td>\n",
       "      <td>50.90</td>\n",
       "    </tr>\n",
       "  </tbody>\n",
       "</table>\n",
       "</div>"
      ],
      "text/plain": [
       "                     num_orders  year  month  day  dayofweek  lag_1  lag_2  \\\n",
       "datetime                                                                     \n",
       "2018-03-01 00:00:00         124  2018      3    1          3    NaN    NaN   \n",
       "2018-03-01 01:00:00          85  2018      3    1          3  124.0    NaN   \n",
       "2018-03-01 02:00:00          71  2018      3    1          3   85.0  124.0   \n",
       "2018-03-01 03:00:00          66  2018      3    1          3   71.0   85.0   \n",
       "2018-03-01 04:00:00          43  2018      3    1          3   66.0   71.0   \n",
       "2018-03-01 05:00:00           6  2018      3    1          3   43.0   66.0   \n",
       "2018-03-01 06:00:00          12  2018      3    1          3    6.0   43.0   \n",
       "2018-03-01 07:00:00          15  2018      3    1          3   12.0    6.0   \n",
       "2018-03-01 08:00:00          34  2018      3    1          3   15.0   12.0   \n",
       "2018-03-01 09:00:00          69  2018      3    1          3   34.0   15.0   \n",
       "2018-03-01 10:00:00          64  2018      3    1          3   69.0   34.0   \n",
       "2018-03-01 11:00:00          96  2018      3    1          3   64.0   69.0   \n",
       "2018-03-01 12:00:00          30  2018      3    1          3   96.0   64.0   \n",
       "2018-03-01 13:00:00          32  2018      3    1          3   30.0   96.0   \n",
       "2018-03-01 14:00:00          48  2018      3    1          3   32.0   30.0   \n",
       "2018-03-01 15:00:00          66  2018      3    1          3   48.0   32.0   \n",
       "2018-03-01 16:00:00          43  2018      3    1          3   66.0   48.0   \n",
       "2018-03-01 17:00:00          44  2018      3    1          3   43.0   66.0   \n",
       "2018-03-01 18:00:00          73  2018      3    1          3   44.0   43.0   \n",
       "2018-03-01 19:00:00          45  2018      3    1          3   73.0   44.0   \n",
       "2018-03-01 20:00:00          61  2018      3    1          3   45.0   73.0   \n",
       "2018-03-01 21:00:00          66  2018      3    1          3   61.0   45.0   \n",
       "2018-03-01 22:00:00         113  2018      3    1          3   66.0   61.0   \n",
       "2018-03-01 23:00:00          58  2018      3    1          3  113.0   66.0   \n",
       "2018-03-02 00:00:00          90  2018      3    2          4   58.0  113.0   \n",
       "\n",
       "                     lag_3  lag_4  lag_5  lag_6  rolling_mean  \n",
       "datetime                                                       \n",
       "2018-03-01 00:00:00    NaN    NaN    NaN    NaN           NaN  \n",
       "2018-03-01 01:00:00    NaN    NaN    NaN    NaN           NaN  \n",
       "2018-03-01 02:00:00    NaN    NaN    NaN    NaN           NaN  \n",
       "2018-03-01 03:00:00  124.0    NaN    NaN    NaN           NaN  \n",
       "2018-03-01 04:00:00   85.0  124.0    NaN    NaN           NaN  \n",
       "2018-03-01 05:00:00   71.0   85.0  124.0    NaN           NaN  \n",
       "2018-03-01 06:00:00   66.0   71.0   85.0  124.0           NaN  \n",
       "2018-03-01 07:00:00   43.0   66.0   71.0   85.0           NaN  \n",
       "2018-03-01 08:00:00    6.0   43.0   66.0   71.0           NaN  \n",
       "2018-03-01 09:00:00   12.0    6.0   43.0   66.0           NaN  \n",
       "2018-03-01 10:00:00   15.0   12.0    6.0   43.0           NaN  \n",
       "2018-03-01 11:00:00   34.0   15.0   12.0    6.0           NaN  \n",
       "2018-03-01 12:00:00   69.0   34.0   15.0   12.0           NaN  \n",
       "2018-03-01 13:00:00   64.0   69.0   34.0   15.0           NaN  \n",
       "2018-03-01 14:00:00   96.0   64.0   69.0   34.0           NaN  \n",
       "2018-03-01 15:00:00   30.0   96.0   64.0   69.0           NaN  \n",
       "2018-03-01 16:00:00   32.0   30.0   96.0   64.0           NaN  \n",
       "2018-03-01 17:00:00   48.0   32.0   30.0   96.0           NaN  \n",
       "2018-03-01 18:00:00   66.0   48.0   32.0   30.0           NaN  \n",
       "2018-03-01 19:00:00   43.0   66.0   48.0   32.0           NaN  \n",
       "2018-03-01 20:00:00   44.0   43.0   66.0   48.0         53.30  \n",
       "2018-03-01 21:00:00   73.0   44.0   43.0   66.0         50.15  \n",
       "2018-03-01 22:00:00   45.0   73.0   44.0   43.0         49.20  \n",
       "2018-03-01 23:00:00   61.0   45.0   73.0   44.0         51.30  \n",
       "2018-03-02 00:00:00   66.0   61.0   45.0   73.0         50.90  "
      ]
     },
     "metadata": {},
     "output_type": "display_data"
    }
   ],
   "source": [
    "# Data displayment\n",
    "display(taxis.head(25))"
   ]
  },
  {
   "cell_type": "markdown",
   "metadata": {},
   "source": [
    "### Analysis of resampled datasets"
   ]
  },
  {
   "cell_type": "markdown",
   "metadata": {},
   "source": [
    "<div style=\"color: #196CC4;\">\n",
    "▶ Next, we'll perform an exploratory data analysis on the resampled data to better understand the distribution of taxi orders over time."
   ]
  },
  {
   "cell_type": "code",
   "execution_count": 23,
   "metadata": {},
   "outputs": [
    {
     "data": {
      "image/png": "[encoded data removed]",
      "text/plain": [
       "<Figure size 640x480 with 1 Axes>"
      ]
     },
     "metadata": {},
     "output_type": "display_data"
    }
   ],
   "source": [
    "# Decomposition\n",
    "decomposition = sm.tsa.seasonal_decompose(\n",
    "    taxis['num_orders'], model='additive')\n",
    "\n",
    "# Trend extraction\n",
    "trend = decomposition.trend\n",
    "\n",
    "# Seasonality extraction\n",
    "seasonality = decomposition.seasonal\n",
    "\n",
    "# Noise extraction\n",
    "noise = decomposition.resid\n",
    "\n",
    "# Plots\n",
    "# Changed label to \"Original Data\"\n",
    "plt.plot(taxis['num_orders'], label='Original Data')\n",
    "plt.plot(trend, label='Trend')\n",
    "plt.plot(seasonality, label='Seasonality')\n",
    "plt.plot(noise, label='Noise')\n",
    "plt.legend()\n",
    "\n",
    "# Print\n",
    "plt.show()"
   ]
  },
  {
   "cell_type": "markdown",
   "metadata": {},
   "source": [
    "<div style=\"color: #196CC4;\">\n",
    "▶ A seasonal decomposition of the time series is presented below.\n",
    "</div>\n"
   ]
  },
  {
   "cell_type": "code",
   "execution_count": 24,
   "metadata": {},
   "outputs": [
    {
     "data": {
      "image/png": "[encoded data removed]",
      "text/plain": [
       "<Figure size 600x800 with 3 Axes>"
      ]
     },
     "metadata": {},
     "output_type": "display_data"
    }
   ],
   "source": [
    "# Decompose\n",
    "decomposed = seasonal_decompose(taxis['num_orders'])\n",
    "\n",
    "# Plot size\n",
    "plt.figure(figsize=(6, 8))\n",
    "\n",
    "# Trend\n",
    "plt.subplot(311)\n",
    "decomposed.trend.plot(ax=plt.gca())\n",
    "plt.title('Trend')\n",
    "\n",
    "# Seasonality\n",
    "plt.subplot(312)\n",
    "decomposed.seasonal.plot(ax=plt.gca())\n",
    "plt.title('Seasonality')\n",
    "\n",
    "# Residuals\n",
    "plt.subplot(313)\n",
    "decomposed.resid.plot(ax=plt.gca())\n",
    "plt.title('Noise') \n",
    "\n",
    "plt.tight_layout()"
   ]
  },
  {
   "cell_type": "markdown",
   "metadata": {},
   "source": [
    "<div style=\"color: #196CC4;\">\n",
    "<b>Analysis</b><br>\n",
    "▶ The preceding graphs reveal a non-stationary trend, indicated by a consistent upward movement over time. This suggests a continuous increase in taxi demand. <br>\n",
    "▶ The seasonality exhibits repetitive and consistent patterns over time, implying that the stability of the underlying factors contributes to the apparent lack of change in these seasonal cycles.\n",
    "</div>"
   ]
  },
  {
   "cell_type": "markdown",
   "metadata": {},
   "source": [
    "-----"
   ]
  },
  {
   "cell_type": "markdown",
   "metadata": {},
   "source": [
    "## Training"
   ]
  },
  {
   "cell_type": "markdown",
   "metadata": {},
   "source": [
    "### Data Splitting"
   ]
  },
  {
   "cell_type": "markdown",
   "metadata": {},
   "source": [
    "<div style=\"color: #196CC4;\">\n",
    "<b>The data is divided as follows to achieve a 6:2:2 ratio</b><br>\n",
    "▶ 60% Training dataset<br>\n",
    "▶ 20% Validation dataset<br>\n",
    "▶ 20% Test dataset<br><br>\n",
    "The larger the training set, the more data the model will have to learn patterns and relationships in the data. On the other hand, the validation dataset will be used to evaluate the model's performance, and the test dataset will be reserved for the final performance evaluation of the model (when the training and validation processes are complete).\n",
    "</div>\n"
   ]
  },
  {
   "cell_type": "code",
   "execution_count": 25,
   "metadata": {},
   "outputs": [],
   "source": [
    "# Split the data into a training set (60%), a test set (20%) and validation set (20%)\n",
    "df_train, df_temp = train_test_split(taxis, shuffle=False, test_size=0.4)\n",
    "df_test, df_valid = train_test_split(df_temp, shuffle=False, test_size=0.5)\n",
    "\n",
    "# Drop rows with missing values from training set\n",
    "df_train = df_train.dropna()"
   ]
  },
  {
   "cell_type": "code",
   "execution_count": 26,
   "metadata": {},
   "outputs": [],
   "source": [
    "min_size = min(len(df_valid), len(df_test))\n",
    "df_valid = df_valid.sample(n=min_size, random_state=42)\n",
    "df_test = df_test.sample(n=min_size, random_state=42)"
   ]
  },
  {
   "cell_type": "markdown",
   "metadata": {},
   "source": [
    "<div style=\"color: #196CC4;\">\n",
    "▶ In these lines of code, the data is being prepared for training, validation and testing a machine learning model. A separation is performed between the features and the target variable in each dataset.\n",
    "</div>"
   ]
  },
  {
   "cell_type": "code",
   "execution_count": 27,
   "metadata": {},
   "outputs": [],
   "source": [
    "# Extract features and target variables from the training, test and validation sets\n",
    "features_train = df_train.drop(['num_orders'], axis=1)\n",
    "target_train = df_train['num_orders']\n",
    "\n",
    "features_valid = df_valid.drop(['num_orders'], axis=1)\n",
    "target_valid = df_valid['num_orders']\n",
    "\n",
    "features_test = df_test.drop(['num_orders'], axis=1)\n",
    "target_test = df_test['num_orders']"
   ]
  },
  {
   "cell_type": "code",
   "execution_count": 28,
   "metadata": {},
   "outputs": [
    {
     "name": "stdout",
     "output_type": "stream",
     "text": [
      "Size of features_train 2629\n",
      "Size of target_train: 2629\n",
      "Size of features_valid: 883\n",
      "Size of target_valid: 883\n",
      "Size of features_test: 883\n",
      "Size of target_test: 883\n"
     ]
    }
   ],
   "source": [
    "print(\"Size of features_train\", len(features_train))\n",
    "print(\"Size of target_train:\", len(target_train))\n",
    "print(\"Size of features_valid:\", len(features_valid))\n",
    "print(\"Size of target_valid:\", len(target_valid))\n",
    "print(\"Size of features_test:\", len(features_test))\n",
    "print(\"Size of target_test:\", len(target_test))"
   ]
  },
  {
   "cell_type": "markdown",
   "metadata": {},
   "source": [
    "### Linear Regression"
   ]
  },
  {
   "cell_type": "markdown",
   "metadata": {},
   "source": [
    "<div style=\"color: #196CC4;\">\n",
    "▶ Linear regression is a model that assumes a linear relationship between an object's features and its value. It seeks to find the best-fitting straight line to the data in order to make predictions.\n",
    "</div>"
   ]
  },
  {
   "cell_type": "code",
   "execution_count": 29,
   "metadata": {},
   "outputs": [],
   "source": [
    "# Model\n",
    "linear_reg = LinearRegression()\n",
    "\n",
    "# Train\n",
    "rlineal_start_train_time = time.time()\n",
    "linear_reg.fit(features_train, target_train)\n",
    "\n",
    "# Training time\n",
    "rlineal_end_train_time = time.time()\n",
    "rlineal_train_time = rlineal_end_train_time - rlineal_start_train_time\n",
    "\n",
    "# Price prediction\n",
    "rlineal_start_pred_time = time.time()\n",
    "linear_reg_pred_train = linear_reg.predict(features_train)\n",
    "linear_reg_pred_test = linear_reg.predict(features_valid)\n",
    "\n",
    "# Predictions time\n",
    "rlineal_end_pred_time = time.time()\n",
    "rlineal_pred_time = rlineal_end_pred_time - rlineal_start_pred_time"
   ]
  },
  {
   "cell_type": "code",
   "execution_count": 30,
   "metadata": {},
   "outputs": [
    {
     "name": "stdout",
     "output_type": "stream",
     "text": [
      "Linear Regression Model\n",
      "\n",
      "Root Mean Squared Error (RMSE): 39.006888531251484\n",
      "Prediction Time: 0.0030012130737304688 seconds\n"
     ]
    }
   ],
   "source": [
    "# Quality of trainning metrics\n",
    "rlineal_train_mse = mean_squared_error(target_train, linear_reg_pred_train)\n",
    "rlineal_train_rmse = rlineal_train_mse ** 0.5\n",
    "\n",
    "# Quality of prediction metrics\n",
    "rlineal_pred_mse = mean_squared_error(target_test, linear_reg_pred_test)\n",
    "rlineal_pred_rmse = rlineal_pred_mse ** 0.5\n",
    "\n",
    "# Print LinealRegression\n",
    "print(\"Linear Regression Model\")\n",
    "print()\n",
    "\n",
    "# Print metrics\n",
    "print(\"Root Mean Squared Error (RMSE):\", rlineal_pred_rmse)\n",
    "\n",
    "# Print time\n",
    "print(\"Prediction Time:\", rlineal_pred_time, \"seconds\")"
   ]
  },
  {
   "cell_type": "markdown",
   "metadata": {},
   "source": [
    "### Random Forest"
   ]
  },
  {
   "cell_type": "markdown",
   "metadata": {},
   "source": [
    "<div style=\"color: #196CC4;\">\n",
    "▶ Random Forest is an ensemble method that consists of many decision trees. Each tree is trained on a different subset of the data, and their outputs are combined to produce a more accurate and robust prediction.\n",
    "</div>"
   ]
  },
  {
   "cell_type": "code",
   "execution_count": 31,
   "metadata": {},
   "outputs": [
    {
     "name": "stdout",
     "output_type": "stream",
     "text": [
      "Best model parameters:\n",
      "{'bootstrap': True, 'ccp_alpha': 0.0, 'criterion': 'squared_error', 'max_depth': 5, 'max_features': 1.0, 'max_leaf_nodes': None, 'max_samples': None, 'min_impurity_decrease': 0.0, 'min_samples_leaf': 3, 'min_samples_split': 2, 'min_weight_fraction_leaf': 0.0, 'monotonic_cst': None, 'n_estimators': 100, 'n_jobs': None, 'oob_score': False, 'random_state': 12345, 'verbose': 0, 'warm_start': False}\n"
     ]
    }
   ],
   "source": [
    "# Parameters\n",
    "param_dist_forest = {\n",
    "    'n_estimators': [50, 100, 150],\n",
    "    'max_depth': [3, 5, 7],\n",
    "    'min_samples_leaf': [1, 3, 5],\n",
    "    'min_samples_split': [2, 4, 6]\n",
    "}\n",
    "\n",
    "# Randomized search & cross-validation\n",
    "random_search_forest = RandomizedSearchCV(RandomForestRegressor(\n",
    "    random_state=12345), param_dist_forest, scoring='neg_mean_squared_error', cv=2, n_iter=10)\n",
    "\n",
    "# Training\n",
    "forest_start_train_time = time.time()\n",
    "random_search_forest.fit(features_train, target_train)\n",
    "\n",
    "# Training time\n",
    "forest_end_train_time = time.time()\n",
    "forest_train_time = forest_end_train_time - forest_start_train_time\n",
    "\n",
    "# Best model\n",
    "best_model_forest = random_search_forest.best_estimator_\n",
    "\n",
    "# Print best model parameters\n",
    "print(\"Best model parameters:\")\n",
    "print(best_model_forest.get_params())\n",
    "\n",
    "# Predictions\n",
    "forest_start_pred_time = time.time()\n",
    "predicted_train_forest_random = best_model_forest.predict(features_train)\n",
    "predicted_test_forest_random = best_model_forest.predict(features_valid)\n",
    "\n",
    "# Predictions time\n",
    "forest_end_pred_time = time.time()\n",
    "forest_pred_time = forest_end_pred_time - forest_start_pred_time"
   ]
  },
  {
   "cell_type": "code",
   "execution_count": 32,
   "metadata": {},
   "outputs": [
    {
     "name": "stdout",
     "output_type": "stream",
     "text": [
      "Random Forest Model\n",
      "\n",
      "Root Mean Squared Error (RMSE): 38.31770517231823\n",
      "Prediction Time: 0.014155864715576172 seconds\n"
     ]
    }
   ],
   "source": [
    "# Quality of prediction metrics\n",
    "forest_train_mse = mean_squared_error(target_train, predicted_train_forest_random)\n",
    "forest_train_rmse = forest_train_mse ** 0.5\n",
    "\n",
    "# Quality of prediction metrics\n",
    "forest_pred_mse = mean_squared_error(target_test, predicted_test_forest_random)\n",
    "forest_pred_rmse = forest_pred_mse ** 0.5\n",
    "\n",
    "# Print Random Forest\n",
    "print(\"Random Forest Model\")\n",
    "print()\n",
    "\n",
    "# Print metrics\n",
    "print(\"Root Mean Squared Error (RMSE):\", forest_pred_rmse)\n",
    "\n",
    "# Print time\n",
    "print(\"Prediction Time:\", forest_pred_time, \"seconds\")"
   ]
  },
  {
   "cell_type": "markdown",
   "metadata": {},
   "source": [
    "### LGBM"
   ]
  },
  {
   "cell_type": "markdown",
   "metadata": {},
   "source": [
    "<div style=\"color: #196CC4;\">\n",
    "▶ <b>LightGBM</b> is a gradient boosting framework that also uses decision trees. It is highly efficient and fast, making it ideal for large datasets. LGBM trains trees sequentially, with each tree learning from the mistakes of the previous one to improve predictions.\n",
    "</div>"
   ]
  },
  {
   "cell_type": "code",
   "execution_count": 33,
   "metadata": {},
   "outputs": [
    {
     "name": "stdout",
     "output_type": "stream",
     "text": [
      "[LightGBM] [Info] Auto-choosing col-wise multi-threading, the overhead of testing was 0.000572 seconds.\n",
      "You can set `force_col_wise=true` to remove the overhead.\n",
      "[LightGBM] [Info] Total Bins 1223\n",
      "[LightGBM] [Info] Number of data points in the train set: 2629, number of used features: 10\n",
      "[LightGBM] [Info] Start training from score 67.178775\n"
     ]
    },
    {
     "name": "stderr",
     "output_type": "stream",
     "text": [
      "c:\\Users\\dguez\\AppData\\Local\\Programs\\Python\\Python312\\Lib\\site-packages\\joblib\\externals\\loky\\backend\\context.py:136: UserWarning: Could not find the number of physical cores for the following reason:\n",
      "found 0 physical cores < 1\n",
      "Returning the number of logical cores instead. You can silence this warning by setting LOKY_MAX_CPU_COUNT to the number of cores you want to use.\n",
      "  warnings.warn(\n",
      "  File \"c:\\Users\\dguez\\AppData\\Local\\Programs\\Python\\Python312\\Lib\\site-packages\\joblib\\externals\\loky\\backend\\context.py\", line 282, in _count_physical_cores\n",
      "    raise ValueError(f\"found {cpu_count_physical} physical cores < 1\")\n"
     ]
    }
   ],
   "source": [
    "# Hyperparameters\n",
    "lgbm = LGBMRegressor(\n",
    "    objective='regression',\n",
    "    num_leaves=35,\n",
    "    seed=23\n",
    ")\n",
    "\n",
    "# Training\n",
    "lgbm_start_train_time = time.time()\n",
    "lgbm.fit(features_train, target_train)\n",
    "\n",
    "# Training time\n",
    "lgbm_end_train_time = time.time()\n",
    "lgbm_train_time = lgbm_end_train_time - lgbm_start_train_time\n",
    "\n",
    "# Predictions\n",
    "lgbm_start_pred_time = time.time()\n",
    "lgbm_predicted_train = lgbm.predict(features_train)\n",
    "lgbm_predicted_test = lgbm.predict(features_valid)\n",
    "\n",
    "# Predictions time\n",
    "lgbm_end_pred_time = time.time()\n",
    "lgbm_pred_time = lgbm_end_pred_time - lgbm_start_pred_time"
   ]
  },
  {
   "cell_type": "code",
   "execution_count": 34,
   "metadata": {},
   "outputs": [
    {
     "name": "stdout",
     "output_type": "stream",
     "text": [
      "LGBM Model\n",
      "\n",
      "Root Mean Squared Error (RMSE): 42.68348936984633\n",
      "Prediction Time: 0.0 seconds\n"
     ]
    }
   ],
   "source": [
    "# Quality of trainning metrics\n",
    "lgbm_train_mse = mean_squared_error(target_train, lgbm_predicted_train)\n",
    "lgbm_train_rmse = lgbm_train_mse ** 0.5\n",
    "\n",
    "# Quality of prediction metrics\n",
    "lgbm_pred_mse = mean_squared_error(target_test, lgbm_predicted_test)\n",
    "lgbm_pred_rmse = lgbm_pred_mse ** 0.5\n",
    "\n",
    "# Print LGBM\n",
    "print(\"LGBM Model\")\n",
    "print()\n",
    "\n",
    "# Print metrics\n",
    "print(\"Root Mean Squared Error (RMSE):\", lgbm_pred_rmse)\n",
    "\n",
    "# Print time\n",
    "print(\"Prediction Time:\", lgbm_pred_time, \"seconds\")"
   ]
  },
  {
   "cell_type": "markdown",
   "metadata": {},
   "source": [
    "-----"
   ]
  },
  {
   "cell_type": "markdown",
   "metadata": {},
   "source": [
    "## Models Evaluation"
   ]
  },
  {
   "cell_type": "markdown",
   "metadata": {},
   "source": [
    "### Metrics Summary"
   ]
  },
  {
   "cell_type": "markdown",
   "metadata": {},
   "source": [
    "<div style=\"color: #196CC4;\">\n",
    "▶ The following presents all metrics obtained for all models used throughout the project.\n",
    "</div>"
   ]
  },
  {
   "cell_type": "code",
   "execution_count": 35,
   "metadata": {},
   "outputs": [
    {
     "data": {
      "text/html": [
       "<div>\n",
       "<style scoped>\n",
       "    .dataframe tbody tr th:only-of-type {\n",
       "        vertical-align: middle;\n",
       "    }\n",
       "\n",
       "    .dataframe tbody tr th {\n",
       "        vertical-align: top;\n",
       "    }\n",
       "\n",
       "    .dataframe thead th {\n",
       "        text-align: right;\n",
       "    }\n",
       "</style>\n",
       "<table border=\"1\" class=\"dataframe\">\n",
       "  <thead>\n",
       "    <tr style=\"text-align: right;\">\n",
       "      <th></th>\n",
       "      <th>Model</th>\n",
       "      <th>Root Mean Squared Error (RMSE)</th>\n",
       "      <th>Prediction Time (segundos)</th>\n",
       "    </tr>\n",
       "  </thead>\n",
       "  <tbody>\n",
       "    <tr>\n",
       "      <th>0</th>\n",
       "      <td>Regresión lineal</td>\n",
       "      <td>39.006889</td>\n",
       "      <td>0.003001</td>\n",
       "    </tr>\n",
       "    <tr>\n",
       "      <th>1</th>\n",
       "      <td>Random Forest</td>\n",
       "      <td>38.317705</td>\n",
       "      <td>0.014156</td>\n",
       "    </tr>\n",
       "    <tr>\n",
       "      <th>2</th>\n",
       "      <td>LGBM</td>\n",
       "      <td>42.683489</td>\n",
       "      <td>0.000000</td>\n",
       "    </tr>\n",
       "  </tbody>\n",
       "</table>\n",
       "</div>"
      ],
      "text/plain": [
       "              Model  Root Mean Squared Error (RMSE)  \\\n",
       "0  Regresión lineal                       39.006889   \n",
       "1     Random Forest                       38.317705   \n",
       "2              LGBM                       42.683489   \n",
       "\n",
       "   Prediction Time (segundos)  \n",
       "0                    0.003001  \n",
       "1                    0.014156  \n",
       "2                    0.000000  "
      ]
     },
     "metadata": {},
     "output_type": "display_data"
    }
   ],
   "source": [
    "# Data\n",
    "modelos = [\n",
    "    \"Regresión lineal\",\n",
    "    \"Random Forest\",\n",
    "    \"LGBM\"\n",
    "]\n",
    "\n",
    "rmse = [\n",
    "    rlineal_pred_rmse,\n",
    "    forest_pred_rmse,\n",
    "    lgbm_pred_rmse\n",
    "]\n",
    "\n",
    "pred_time = [\n",
    "    rlineal_pred_time,\n",
    "    forest_pred_time,\n",
    "    lgbm_pred_time\n",
    "]\n",
    "\n",
    "# DataFrame\n",
    "df_pred_metrics = pd.DataFrame({\n",
    "    \"Model\": modelos,\n",
    "    \"Root Mean Squared Error (RMSE)\": rmse,\n",
    "    \"Prediction Time (segundos)\": pred_time\n",
    "})\n",
    "\n",
    "# Print\n",
    "display(df_pred_metrics)"
   ]
  },
  {
   "cell_type": "markdown",
   "metadata": {},
   "source": [
    "### Model performance evaluation"
   ]
  },
  {
   "cell_type": "code",
   "execution_count": 36,
   "metadata": {},
   "outputs": [
    {
     "data": {
      "image/png": "[encoded data removed]",
      "text/plain": [
       "<Figure size 1000x300 with 1 Axes>"
      ]
     },
     "metadata": {},
     "output_type": "display_data"
    }
   ],
   "source": [
    "# Data\n",
    "modelos = ['Regresión Lineal', 'Random Forest', 'LGBM']\n",
    "rmse_entrenamiento = [rlineal_train_rmse, forest_train_rmse, lgbm_train_rmse]\n",
    "rmse_prediccion = [rlineal_pred_rmse, forest_pred_rmse, lgbm_pred_rmse]\n",
    "\n",
    "# Bar width\n",
    "bar_width = 0.35\n",
    "\n",
    "# Bar position\n",
    "posiciones_entrenamiento = range(len(modelos))\n",
    "posiciones_prediccion = [p + bar_width for p in posiciones_entrenamiento]\n",
    "\n",
    "# Graph\n",
    "plt.figure(figsize=(10, 3))\n",
    "plt.bar(posiciones_entrenamiento, rmse_entrenamiento, width=bar_width, color='skyblue', label='Training')\n",
    "plt.bar(posiciones_prediccion, rmse_prediccion, width=bar_width, color='green', alpha=0.5, label='Prediction')\n",
    "\n",
    "# Print\n",
    "plt.title('Training and prediction RMSE per model')\n",
    "plt.ylabel('RMSE')\n",
    "plt.xticks([p + bar_width / 2 for p in posiciones_entrenamiento], modelos)\n",
    "plt.legend()\n",
    "plt.show()"
   ]
  },
  {
   "cell_type": "markdown",
   "metadata": {},
   "source": [
    "<div style=\"color: #196CC4;\">\n",
    "<b>Training Precision - RMSE (Root Mean Squared Error):</b><br>\n",
    "▶ The LGBM model has the lowest RMSE on the training set, indicating a better fit to the training data. Therefore, the LGBM model is better able to capture complex relationships between input features and the target variable during training.<br>\n",
    "<b>Prediction Precision - RMSE (Root Mean Squared Error):</b><br>\n",
    "▶ Linear Regression has a lower prediction RMSE than the other models, indicating better performance on new data. On the other hand, LGBM remains competitive.\n",
    "</div>"
   ]
  },
  {
   "cell_type": "markdown",
   "metadata": {},
   "source": [
    "### Performance analysis"
   ]
  },
  {
   "cell_type": "markdown",
   "metadata": {},
   "source": [
    "<div style=\"color: #196CC4;\">\n",
    "<b>Training Time:</b><br>\n",
    "▶ Linear regression has a significantly lower training time compared to the other models; this means it is faster to train.<br>\n",
    "   \n",
    "<b>Prediction Speed:</b><br>\n",
    "▶ Linear regression has the lowest prediction time, making it ideal for applications where a quick response is needed.\n",
    "</div>"
   ]
  },
  {
   "cell_type": "markdown",
   "metadata": {},
   "source": [
    "-----"
   ]
  },
  {
   "cell_type": "markdown",
   "metadata": {},
   "source": [
    "## Conclusions"
   ]
  },
  {
   "cell_type": "markdown",
   "metadata": {},
   "source": [
    "### Final Model Selection"
   ]
  },
  {
   "cell_type": "markdown",
   "metadata": {},
   "source": [
    "<div style=\"color: #196CC4;\">\n",
    "Random Forest is the model that offers the best balance between accuracy and prediction time. Although it has a longer prediction time than Linear Regression, its lower RMSE indicates that it makes more accurate predictions. Accuracy in prediction is critical in most cases, and the difference in prediction time is relatively small compared to the improvement in accuracy it provides.\n",
    "</div>\n"
   ]
  },
  {
   "cell_type": "code",
   "execution_count": 37,
   "metadata": {},
   "outputs": [],
   "source": [
    "# Parameters\n",
    "best_params_forest = {\n",
    "    'max_depth': 5,\n",
    "    'max_features': 1.0,\n",
    "    'min_samples_leaf': 3,\n",
    "    'min_samples_split': 2,\n",
    "    'n_estimators': 50,\n",
    "    'random_state': 12345\n",
    "}\n",
    "\n",
    "# Initialize Model\n",
    "final_forest_model = RandomForestRegressor(**best_params_forest)\n",
    "\n",
    "# Train with combined sets\n",
    "features_combined_train = pd.concat([features_train, features_valid])\n",
    "target_combined_train = pd.concat([target_train, target_valid])\n",
    "\n",
    "forest_start_train_time = time.time()\n",
    "final_forest_model.fit(features_combined_train, target_combined_train)\n",
    "\n",
    "# Training time\n",
    "forest_end_train_time = time.time()\n",
    "forest_train_time = forest_end_train_time - forest_start_train_time\n",
    "\n",
    "# Test predictions\n",
    "forest_start_pred_time = time.time()\n",
    "predicted_test_forest_final = final_forest_model.predict(features_test)\n",
    "\n",
    "# Predictions time\n",
    "forest_end_pred_time = time.time()\n",
    "forest_pred_time = forest_end_pred_time - forest_start_pred_time"
   ]
  },
  {
   "cell_type": "code",
   "execution_count": 38,
   "metadata": {},
   "outputs": [
    {
     "name": "stdout",
     "output_type": "stream",
     "text": [
      "Final Random Forest Model - Trained with the combined training and validation set\n",
      "\n",
      "Root Mean Squared Error (RMSE) on the test set: 30.698909298336\n",
      "Prediction time: 0.004912137985229492 seconds\n"
     ]
    }
   ],
   "source": [
    "# Metrics\n",
    "forest_test_mse = mean_squared_error(target_test, predicted_test_forest_final)\n",
    "forest_test_rmse = forest_test_mse ** 0.5\n",
    "\n",
    "# Print\n",
    "print(\"Final Random Forest Model - Trained with the combined training and validation set\")\n",
    "print()\n",
    "print(\"Root Mean Squared Error (RMSE) on the test set:\", forest_test_rmse)\n",
    "print(\"Prediction time:\", forest_pred_time, \"seconds\")"
   ]
  },
  {
   "cell_type": "markdown",
   "metadata": {},
   "source": [
    "### Conclusions"
   ]
  },
  {
   "cell_type": "markdown",
   "metadata": {},
   "source": [
    "<div style=\"color: #196CC4;\">\n",
    "The final Random Forest model, trained with the combined training and validation set, shows a significant improvement in RMSE compared to the previously evaluated models. The RMSE of the final model is the lowest among all the compared models, indicating better accuracy in predicting the number of orders in the test set.\n",
    "</div>\n"
   ]
  }
 ],
 "metadata": {
  "ExecuteTimeLog": [
   {
    "duration": 4,
    "start_time": "2024-06-03T22:45:01.216Z"
   },
   {
    "duration": 1406,
    "start_time": "2024-06-03T22:57:38.073Z"
   },
   {
    "duration": 40,
    "start_time": "2024-06-03T22:57:41.017Z"
   },
   {
    "duration": 25,
    "start_time": "2024-06-03T22:58:58.683Z"
   },
   {
    "duration": 17,
    "start_time": "2024-06-03T22:59:00.338Z"
   },
   {
    "duration": 16,
    "start_time": "2024-06-03T22:59:18.338Z"
   },
   {
    "duration": 19,
    "start_time": "2024-06-03T23:00:19.880Z"
   },
   {
    "duration": 17,
    "start_time": "2024-06-03T23:04:04.734Z"
   },
   {
    "duration": 17,
    "start_time": "2024-06-03T23:04:17.269Z"
   },
   {
    "duration": 4460,
    "start_time": "2024-06-03T23:31:20.372Z"
   },
   {
    "duration": 177,
    "start_time": "2024-06-03T23:31:36.199Z"
   },
   {
    "duration": 174,
    "start_time": "2024-06-03T23:31:42.115Z"
   },
   {
    "duration": 164,
    "start_time": "2024-06-03T23:31:47.170Z"
   },
   {
    "duration": 5,
    "start_time": "2024-06-03T23:32:36.631Z"
   },
   {
    "duration": 17,
    "start_time": "2024-06-03T23:36:12.927Z"
   },
   {
    "duration": 29,
    "start_time": "2024-06-03T23:36:22.511Z"
   },
   {
    "duration": 222,
    "start_time": "2024-06-03T23:37:23.151Z"
   },
   {
    "duration": 170,
    "start_time": "2024-06-03T23:37:36.811Z"
   },
   {
    "duration": 112,
    "start_time": "2024-06-03T23:38:04.824Z"
   },
   {
    "duration": 23,
    "start_time": "2024-06-03T23:39:19.417Z"
   },
   {
    "duration": 6,
    "start_time": "2024-06-04T00:08:38.416Z"
   },
   {
    "duration": 4,
    "start_time": "2024-06-04T00:10:26.474Z"
   },
   {
    "duration": 4,
    "start_time": "2024-06-04T00:10:48.732Z"
   },
   {
    "duration": 4,
    "start_time": "2024-06-04T00:11:13.194Z"
   },
   {
    "duration": 15,
    "start_time": "2024-06-04T00:11:59.487Z"
   },
   {
    "duration": 19,
    "start_time": "2024-06-04T00:12:04.139Z"
   },
   {
    "duration": 20,
    "start_time": "2024-06-04T00:12:23.761Z"
   },
   {
    "duration": 12,
    "start_time": "2024-06-04T00:18:22.861Z"
   },
   {
    "duration": 14,
    "start_time": "2024-06-04T00:18:57.070Z"
   },
   {
    "duration": 715,
    "start_time": "2024-06-04T00:29:38.277Z"
   },
   {
    "duration": 745,
    "start_time": "2024-06-04T00:30:14.522Z"
   },
   {
    "duration": 757,
    "start_time": "2024-06-04T00:30:19.748Z"
   },
   {
    "duration": 781,
    "start_time": "2024-06-04T00:30:25.202Z"
   },
   {
    "duration": 750,
    "start_time": "2024-06-04T00:30:37.250Z"
   },
   {
    "duration": 625,
    "start_time": "2024-06-04T00:30:54.419Z"
   },
   {
    "duration": 16,
    "start_time": "2024-06-04T02:02:23.033Z"
   },
   {
    "duration": 12,
    "start_time": "2024-06-04T02:07:58.900Z"
   },
   {
    "duration": 7,
    "start_time": "2024-06-04T02:08:01.082Z"
   },
   {
    "duration": 34,
    "start_time": "2024-06-04T02:18:14.504Z"
   },
   {
    "duration": 463,
    "start_time": "2024-06-04T02:18:45.872Z"
   },
   {
    "duration": 12,
    "start_time": "2024-06-04T02:19:05.909Z"
   },
   {
    "duration": 1023,
    "start_time": "2024-06-04T02:19:09.821Z"
   },
   {
    "duration": 96,
    "start_time": "2024-06-04T02:19:45.806Z"
   },
   {
    "duration": 11,
    "start_time": "2024-06-04T02:20:29.892Z"
   },
   {
    "duration": 11,
    "start_time": "2024-06-04T02:20:34.904Z"
   },
   {
    "duration": 7,
    "start_time": "2024-06-04T02:20:36.385Z"
   },
   {
    "duration": 18,
    "start_time": "2024-06-04T02:23:28.089Z"
   },
   {
    "duration": 14,
    "start_time": "2024-06-04T02:24:19.727Z"
   },
   {
    "duration": 40,
    "start_time": "2024-06-04T02:27:01.927Z"
   },
   {
    "duration": 40,
    "start_time": "2024-06-04T02:27:13.769Z"
   },
   {
    "duration": 97,
    "start_time": "2024-06-04T02:27:52.057Z"
   },
   {
    "duration": 462,
    "start_time": "2024-06-04T02:28:27.309Z"
   },
   {
    "duration": 96,
    "start_time": "2024-06-04T02:28:35.704Z"
   },
   {
    "duration": 5449,
    "start_time": "2024-06-04T15:59:53.947Z"
   },
   {
    "duration": 47,
    "start_time": "2024-06-04T15:59:59.400Z"
   },
   {
    "duration": 13,
    "start_time": "2024-06-04T15:59:59.450Z"
   },
   {
    "duration": 13,
    "start_time": "2024-06-04T15:59:59.466Z"
   },
   {
    "duration": 8,
    "start_time": "2024-06-04T15:59:59.483Z"
   },
   {
    "duration": 51,
    "start_time": "2024-06-04T15:59:59.494Z"
   },
   {
    "duration": 1307,
    "start_time": "2024-06-04T15:59:59.547Z"
   },
   {
    "duration": 0,
    "start_time": "2024-06-04T16:00:00.858Z"
   },
   {
    "duration": 0,
    "start_time": "2024-06-04T16:00:00.861Z"
   },
   {
    "duration": 0,
    "start_time": "2024-06-04T16:00:00.863Z"
   },
   {
    "duration": 0,
    "start_time": "2024-06-04T16:00:00.866Z"
   },
   {
    "duration": 0,
    "start_time": "2024-06-04T16:00:00.868Z"
   },
   {
    "duration": 0,
    "start_time": "2024-06-04T16:00:00.871Z"
   },
   {
    "duration": 0,
    "start_time": "2024-06-04T16:00:00.873Z"
   },
   {
    "duration": 0,
    "start_time": "2024-06-04T16:00:00.875Z"
   },
   {
    "duration": 0,
    "start_time": "2024-06-04T16:00:00.877Z"
   },
   {
    "duration": 0,
    "start_time": "2024-06-04T16:00:00.879Z"
   },
   {
    "duration": 0,
    "start_time": "2024-06-04T16:00:00.881Z"
   },
   {
    "duration": 0,
    "start_time": "2024-06-04T16:00:00.883Z"
   },
   {
    "duration": 6,
    "start_time": "2024-06-04T16:00:42.938Z"
   },
   {
    "duration": 36,
    "start_time": "2024-06-04T16:00:42.948Z"
   },
   {
    "duration": 13,
    "start_time": "2024-06-04T16:00:42.987Z"
   },
   {
    "duration": 31,
    "start_time": "2024-06-04T16:00:43.003Z"
   },
   {
    "duration": 9,
    "start_time": "2024-06-04T16:00:43.040Z"
   },
   {
    "duration": 16,
    "start_time": "2024-06-04T16:00:43.051Z"
   },
   {
    "duration": 15,
    "start_time": "2024-06-04T16:00:49.717Z"
   },
   {
    "duration": 84,
    "start_time": "2024-06-04T16:00:53.427Z"
   },
   {
    "duration": 26,
    "start_time": "2024-06-04T16:03:48.319Z"
   },
   {
    "duration": 88,
    "start_time": "2024-06-04T16:04:25.947Z"
   },
   {
    "duration": 181,
    "start_time": "2024-06-04T16:06:19.228Z"
   },
   {
    "duration": 90,
    "start_time": "2024-06-04T16:06:46.266Z"
   },
   {
    "duration": 348,
    "start_time": "2024-06-04T16:08:50.466Z"
   },
   {
    "duration": 342,
    "start_time": "2024-06-04T16:09:13.853Z"
   },
   {
    "duration": 6,
    "start_time": "2024-06-04T16:09:25.323Z"
   },
   {
    "duration": 4,
    "start_time": "2024-06-04T16:09:29.300Z"
   },
   {
    "duration": 13,
    "start_time": "2024-06-04T16:09:31.735Z"
   },
   {
    "duration": 16,
    "start_time": "2024-06-04T16:09:33.422Z"
   },
   {
    "duration": 4,
    "start_time": "2024-06-04T16:10:18.036Z"
   },
   {
    "duration": 8,
    "start_time": "2024-06-04T16:10:21.482Z"
   },
   {
    "duration": 16,
    "start_time": "2024-06-04T16:10:23.620Z"
   },
   {
    "duration": 8,
    "start_time": "2024-06-04T16:11:02.449Z"
   },
   {
    "duration": 13,
    "start_time": "2024-06-04T16:11:10.245Z"
   },
   {
    "duration": 18,
    "start_time": "2024-06-04T16:11:12.861Z"
   },
   {
    "duration": 44,
    "start_time": "2024-06-04T16:11:15.554Z"
   },
   {
    "duration": 12,
    "start_time": "2024-06-04T16:11:49.680Z"
   },
   {
    "duration": 90,
    "start_time": "2024-06-04T16:15:09.147Z"
   },
   {
    "duration": 381,
    "start_time": "2024-06-04T16:15:13.808Z"
   },
   {
    "duration": 1629,
    "start_time": "2024-06-04T16:15:47.604Z"
   },
   {
    "duration": 36,
    "start_time": "2024-06-04T16:15:49.237Z"
   },
   {
    "duration": 16,
    "start_time": "2024-06-04T16:15:49.276Z"
   },
   {
    "duration": 39,
    "start_time": "2024-06-04T16:15:49.296Z"
   },
   {
    "duration": 8,
    "start_time": "2024-06-04T16:15:49.338Z"
   },
   {
    "duration": 17,
    "start_time": "2024-06-04T16:15:49.349Z"
   },
   {
    "duration": 207,
    "start_time": "2024-06-04T16:15:49.369Z"
   },
   {
    "duration": 340,
    "start_time": "2024-06-04T16:15:49.579Z"
   },
   {
    "duration": 15,
    "start_time": "2024-06-04T16:15:49.922Z"
   },
   {
    "duration": 4,
    "start_time": "2024-06-04T16:15:49.943Z"
   },
   {
    "duration": 8,
    "start_time": "2024-06-04T16:15:49.950Z"
   },
   {
    "duration": 17,
    "start_time": "2024-06-04T16:15:49.960Z"
   },
   {
    "duration": 535,
    "start_time": "2024-06-04T16:15:49.979Z"
   },
   {
    "duration": 23,
    "start_time": "2024-06-04T16:15:50.517Z"
   },
   {
    "duration": 20,
    "start_time": "2024-06-04T16:15:50.543Z"
   },
   {
    "duration": 68,
    "start_time": "2024-06-04T16:15:50.566Z"
   },
   {
    "duration": 364,
    "start_time": "2024-06-04T16:15:50.637Z"
   },
   {
    "duration": 10,
    "start_time": "2024-06-04T16:15:51.005Z"
   },
   {
    "duration": 15,
    "start_time": "2024-06-04T16:15:51.018Z"
   },
   {
    "duration": 1586,
    "start_time": "2024-06-04T16:17:15.786Z"
   },
   {
    "duration": 45,
    "start_time": "2024-06-04T16:17:17.376Z"
   },
   {
    "duration": 20,
    "start_time": "2024-06-04T16:17:17.424Z"
   },
   {
    "duration": 12,
    "start_time": "2024-06-04T16:17:17.447Z"
   },
   {
    "duration": 8,
    "start_time": "2024-06-04T16:17:17.464Z"
   },
   {
    "duration": 61,
    "start_time": "2024-06-04T16:17:17.475Z"
   },
   {
    "duration": 375,
    "start_time": "2024-06-04T16:17:17.539Z"
   },
   {
    "duration": 170,
    "start_time": "2024-06-04T16:17:17.917Z"
   },
   {
    "duration": 7,
    "start_time": "2024-06-04T16:17:18.089Z"
   },
   {
    "duration": 3,
    "start_time": "2024-06-04T16:17:18.100Z"
   },
   {
    "duration": 8,
    "start_time": "2024-06-04T16:17:18.133Z"
   },
   {
    "duration": 15,
    "start_time": "2024-06-04T16:17:18.144Z"
   },
   {
    "duration": 511,
    "start_time": "2024-06-04T16:17:18.164Z"
   },
   {
    "duration": 10,
    "start_time": "2024-06-04T16:17:18.681Z"
   },
   {
    "duration": 44,
    "start_time": "2024-06-04T16:17:18.695Z"
   },
   {
    "duration": 37,
    "start_time": "2024-06-04T16:17:18.742Z"
   },
   {
    "duration": 388,
    "start_time": "2024-06-04T16:17:18.785Z"
   },
   {
    "duration": 10,
    "start_time": "2024-06-04T16:17:19.176Z"
   },
   {
    "duration": 11,
    "start_time": "2024-06-04T16:17:19.189Z"
   },
   {
    "duration": 1639,
    "start_time": "2024-06-04T16:18:07.989Z"
   },
   {
    "duration": 33,
    "start_time": "2024-06-04T16:18:09.633Z"
   },
   {
    "duration": 15,
    "start_time": "2024-06-04T16:18:09.669Z"
   },
   {
    "duration": 12,
    "start_time": "2024-06-04T16:18:09.688Z"
   },
   {
    "duration": 8,
    "start_time": "2024-06-04T16:18:09.733Z"
   },
   {
    "duration": 16,
    "start_time": "2024-06-04T16:18:09.744Z"
   },
   {
    "duration": 395,
    "start_time": "2024-06-04T16:18:09.763Z"
   },
   {
    "duration": 175,
    "start_time": "2024-06-04T16:18:10.161Z"
   },
   {
    "duration": 7,
    "start_time": "2024-06-04T16:18:10.340Z"
   },
   {
    "duration": 4,
    "start_time": "2024-06-04T16:18:10.354Z"
   },
   {
    "duration": 8,
    "start_time": "2024-06-04T16:18:10.360Z"
   },
   {
    "duration": 16,
    "start_time": "2024-06-04T16:18:10.371Z"
   },
   {
    "duration": 446,
    "start_time": "2024-06-04T16:18:10.434Z"
   },
   {
    "duration": 11,
    "start_time": "2024-06-04T16:18:10.883Z"
   },
   {
    "duration": 39,
    "start_time": "2024-06-04T16:18:10.897Z"
   },
   {
    "duration": 38,
    "start_time": "2024-06-04T16:18:10.939Z"
   },
   {
    "duration": 422,
    "start_time": "2024-06-04T16:18:10.979Z"
   },
   {
    "duration": 10,
    "start_time": "2024-06-04T16:18:11.405Z"
   },
   {
    "duration": 18,
    "start_time": "2024-06-04T16:18:11.419Z"
   },
   {
    "duration": 47,
    "start_time": "2024-06-04T16:21:35.060Z"
   },
   {
    "duration": 45,
    "start_time": "2024-06-04T16:21:53.982Z"
   },
   {
    "duration": 14,
    "start_time": "2024-06-04T16:54:07.164Z"
   },
   {
    "duration": 38,
    "start_time": "2024-06-04T16:54:17.100Z"
   },
   {
    "duration": 8,
    "start_time": "2024-06-04T17:15:32.224Z"
   },
   {
    "duration": 12,
    "start_time": "2024-06-04T17:15:35.049Z"
   },
   {
    "duration": 6,
    "start_time": "2024-06-04T17:44:38.497Z"
   },
   {
    "duration": 7,
    "start_time": "2024-06-04T17:44:38.507Z"
   },
   {
    "duration": 523,
    "start_time": "2024-06-04T17:44:42.087Z"
   },
   {
    "duration": 82,
    "start_time": "2024-06-04T17:45:19.074Z"
   },
   {
    "duration": 343,
    "start_time": "2024-06-04T17:48:00.124Z"
   },
   {
    "duration": 10,
    "start_time": "2024-06-04T17:50:09.784Z"
   },
   {
    "duration": 7,
    "start_time": "2024-06-04T17:50:12.470Z"
   },
   {
    "duration": 24,
    "start_time": "2024-06-04T17:50:14.359Z"
   },
   {
    "duration": 11,
    "start_time": "2024-06-04T17:50:30.654Z"
   },
   {
    "duration": 27,
    "start_time": "2024-06-04T17:52:28.512Z"
   },
   {
    "duration": 5,
    "start_time": "2024-06-04T17:52:45.593Z"
   },
   {
    "duration": 12,
    "start_time": "2024-06-04T17:52:48.719Z"
   },
   {
    "duration": 8,
    "start_time": "2024-06-04T17:52:50.445Z"
   },
   {
    "duration": 7,
    "start_time": "2024-06-04T17:54:04.020Z"
   },
   {
    "duration": 108,
    "start_time": "2024-06-04T17:57:14.116Z"
   },
   {
    "duration": 12,
    "start_time": "2024-06-04T17:57:22.848Z"
   },
   {
    "duration": 63,
    "start_time": "2024-06-04T17:57:27.910Z"
   },
   {
    "duration": 23,
    "start_time": "2024-06-04T17:59:50.534Z"
   },
   {
    "duration": 8,
    "start_time": "2024-06-04T17:59:53.137Z"
   },
   {
    "duration": 7,
    "start_time": "2024-06-04T18:00:38.090Z"
   },
   {
    "duration": 8,
    "start_time": "2024-06-04T18:01:43.273Z"
   },
   {
    "duration": 373,
    "start_time": "2024-06-04T18:07:44.472Z"
   },
   {
    "duration": 29,
    "start_time": "2024-06-04T18:09:03.074Z"
   },
   {
    "duration": 7,
    "start_time": "2024-06-04T18:09:26.880Z"
   },
   {
    "duration": 8,
    "start_time": "2024-06-04T18:09:41.052Z"
   },
   {
    "duration": 7,
    "start_time": "2024-06-04T18:09:44.874Z"
   },
   {
    "duration": 33,
    "start_time": "2024-06-04T18:19:19.783Z"
   },
   {
    "duration": 6,
    "start_time": "2024-06-04T18:19:45.785Z"
   },
   {
    "duration": 13655,
    "start_time": "2024-06-04T18:19:49.950Z"
   },
   {
    "duration": 8,
    "start_time": "2024-06-04T18:21:50.231Z"
   },
   {
    "duration": 8,
    "start_time": "2024-06-04T18:21:57.048Z"
   },
   {
    "duration": 11,
    "start_time": "2024-06-04T18:23:09.074Z"
   },
   {
    "duration": 578,
    "start_time": "2024-06-04T18:24:16.337Z"
   },
   {
    "duration": 386,
    "start_time": "2024-06-04T18:25:20.779Z"
   },
   {
    "duration": 396,
    "start_time": "2024-06-04T18:26:42.466Z"
   },
   {
    "duration": 315,
    "start_time": "2024-06-04T18:33:14.227Z"
   },
   {
    "duration": 5597,
    "start_time": "2024-06-04T22:45:43.355Z"
   },
   {
    "duration": 50,
    "start_time": "2024-06-04T22:45:48.957Z"
   },
   {
    "duration": 22,
    "start_time": "2024-06-04T22:45:49.011Z"
   },
   {
    "duration": 14,
    "start_time": "2024-06-04T22:45:49.038Z"
   },
   {
    "duration": 9,
    "start_time": "2024-06-04T22:45:49.055Z"
   },
   {
    "duration": 60,
    "start_time": "2024-06-04T22:45:49.068Z"
   },
   {
    "duration": 380,
    "start_time": "2024-06-04T22:45:49.131Z"
   },
   {
    "duration": 195,
    "start_time": "2024-06-04T22:45:49.515Z"
   },
   {
    "duration": 12,
    "start_time": "2024-06-04T22:45:49.717Z"
   },
   {
    "duration": 5,
    "start_time": "2024-06-04T22:45:49.742Z"
   },
   {
    "duration": 11,
    "start_time": "2024-06-04T22:45:49.750Z"
   },
   {
    "duration": 18,
    "start_time": "2024-06-04T22:45:49.766Z"
   },
   {
    "duration": 490,
    "start_time": "2024-06-04T22:45:49.827Z"
   },
   {
    "duration": 15,
    "start_time": "2024-06-04T22:45:50.325Z"
   },
   {
    "duration": 21,
    "start_time": "2024-06-04T22:45:50.343Z"
   },
   {
    "duration": 19,
    "start_time": "2024-06-04T22:45:50.367Z"
   },
   {
    "duration": 33,
    "start_time": "2024-06-04T22:45:50.424Z"
   },
   {
    "duration": 394,
    "start_time": "2024-06-04T22:45:50.461Z"
   },
   {
    "duration": 11,
    "start_time": "2024-06-04T22:45:50.859Z"
   },
   {
    "duration": 7,
    "start_time": "2024-06-04T22:45:50.873Z"
   },
   {
    "duration": 52,
    "start_time": "2024-06-04T22:45:50.885Z"
   },
   {
    "duration": 83,
    "start_time": "2024-06-04T22:45:50.940Z"
   },
   {
    "duration": 18317,
    "start_time": "2024-06-04T22:45:51.028Z"
   },
   {
    "duration": 10,
    "start_time": "2024-06-04T22:46:09.348Z"
   },
   {
    "duration": 584,
    "start_time": "2024-06-04T22:46:09.361Z"
   },
   {
    "duration": 11,
    "start_time": "2024-06-04T22:46:09.948Z"
   },
   {
    "duration": 68,
    "start_time": "2024-06-04T22:46:09.963Z"
   },
   {
    "duration": 716,
    "start_time": "2024-06-04T22:46:10.041Z"
   },
   {
    "duration": 408,
    "start_time": "2024-06-04T22:46:10.761Z"
   },
   {
    "duration": 360,
    "start_time": "2024-06-04T22:46:11.172Z"
   },
   {
    "duration": 360,
    "start_time": "2024-06-04T22:48:39.113Z"
   },
   {
    "duration": 347,
    "start_time": "2024-06-04T22:49:18.954Z"
   },
   {
    "duration": 206,
    "start_time": "2024-06-04T22:51:11.948Z"
   },
   {
    "duration": 358,
    "start_time": "2024-06-04T22:51:16.673Z"
   },
   {
    "duration": 218,
    "start_time": "2024-06-04T22:51:21.586Z"
   },
   {
    "duration": 211,
    "start_time": "2024-06-04T22:53:14.698Z"
   },
   {
    "duration": 217,
    "start_time": "2024-06-04T22:53:26.322Z"
   },
   {
    "duration": 206,
    "start_time": "2024-06-04T22:53:35.097Z"
   },
   {
    "duration": 222,
    "start_time": "2024-06-04T22:53:48.921Z"
   },
   {
    "duration": 216,
    "start_time": "2024-06-04T22:53:52.881Z"
   },
   {
    "duration": 56,
    "start_time": "2024-06-04T22:55:53.052Z"
   },
   {
    "duration": 62,
    "start_time": "2024-06-04T22:58:06.371Z"
   },
   {
    "duration": 58,
    "start_time": "2024-06-04T22:58:33.590Z"
   },
   {
    "duration": 58,
    "start_time": "2024-06-04T22:59:10.453Z"
   },
   {
    "duration": 55,
    "start_time": "2024-06-04T22:59:35.823Z"
   },
   {
    "duration": 28,
    "start_time": "2024-06-04T23:00:05.524Z"
   },
   {
    "duration": 61,
    "start_time": "2024-06-04T23:00:21.562Z"
   },
   {
    "duration": 56,
    "start_time": "2024-06-04T23:00:43.919Z"
   },
   {
    "duration": 57,
    "start_time": "2024-06-04T23:00:56.025Z"
   },
   {
    "duration": 1450,
    "start_time": "2024-06-04T23:04:58.726Z"
   },
   {
    "duration": 40,
    "start_time": "2024-06-04T23:08:54.718Z"
   },
   {
    "duration": 10,
    "start_time": "2024-06-04T23:15:46.340Z"
   },
   {
    "duration": 5,
    "start_time": "2024-06-04T23:17:44.935Z"
   },
   {
    "duration": 11,
    "start_time": "2024-06-04T23:18:30.678Z"
   },
   {
    "duration": 5,
    "start_time": "2024-06-04T23:28:09.964Z"
   },
   {
    "duration": 321,
    "start_time": "2024-06-04T23:29:02.881Z"
   },
   {
    "duration": 335,
    "start_time": "2024-06-04T23:29:10.127Z"
   },
   {
    "duration": 939,
    "start_time": "2024-06-04T23:30:00.990Z"
   },
   {
    "duration": 941,
    "start_time": "2024-06-04T23:31:29.060Z"
   },
   {
    "duration": 416,
    "start_time": "2024-06-04T23:31:50.721Z"
   },
   {
    "duration": 10,
    "start_time": "2024-06-04T23:33:54.731Z"
   },
   {
    "duration": 426,
    "start_time": "2024-06-04T23:33:56.344Z"
   },
   {
    "duration": 11,
    "start_time": "2024-06-04T23:34:05.810Z"
   },
   {
    "duration": 453,
    "start_time": "2024-06-04T23:34:07.217Z"
   },
   {
    "duration": 12,
    "start_time": "2024-06-04T23:34:13.201Z"
   },
   {
    "duration": 402,
    "start_time": "2024-06-04T23:34:14.737Z"
   },
   {
    "duration": 421,
    "start_time": "2024-06-04T23:34:40.630Z"
   },
   {
    "duration": 10,
    "start_time": "2024-06-04T23:34:49.250Z"
   },
   {
    "duration": 427,
    "start_time": "2024-06-04T23:34:50.503Z"
   },
   {
    "duration": 424,
    "start_time": "2024-06-04T23:35:13.004Z"
   },
   {
    "duration": 405,
    "start_time": "2024-06-04T23:35:20.698Z"
   },
   {
    "duration": 411,
    "start_time": "2024-06-04T23:36:56.680Z"
   },
   {
    "duration": 12,
    "start_time": "2024-06-04T23:42:20.121Z"
   },
   {
    "duration": 997,
    "start_time": "2024-06-04T23:43:09.078Z"
   },
   {
    "duration": 11,
    "start_time": "2024-06-04T23:53:40.513Z"
   },
   {
    "duration": 379,
    "start_time": "2024-06-04T23:53:41.632Z"
   },
   {
    "duration": 8,
    "start_time": "2024-06-04T23:53:50.837Z"
   },
   {
    "duration": 399,
    "start_time": "2024-06-04T23:53:52.624Z"
   },
   {
    "duration": 10,
    "start_time": "2024-06-04T23:54:07.980Z"
   },
   {
    "duration": 318,
    "start_time": "2024-06-04T23:54:10.701Z"
   },
   {
    "duration": 33,
    "start_time": "2024-06-04T23:54:38.274Z"
   },
   {
    "duration": 14,
    "start_time": "2024-06-04T23:54:51.208Z"
   },
   {
    "duration": 30,
    "start_time": "2024-06-04T23:54:59.940Z"
   },
   {
    "duration": 53,
    "start_time": "2024-06-04T23:55:42.858Z"
   },
   {
    "duration": 63,
    "start_time": "2024-06-04T23:55:59.901Z"
   },
   {
    "duration": 53,
    "start_time": "2024-06-04T23:56:24.068Z"
   },
   {
    "duration": 54,
    "start_time": "2024-06-04T23:56:49.672Z"
   },
   {
    "duration": 32,
    "start_time": "2024-06-04T23:57:05.781Z"
   },
   {
    "duration": 10,
    "start_time": "2024-06-04T23:57:31.417Z"
   },
   {
    "duration": 345,
    "start_time": "2024-06-04T23:57:35.092Z"
   },
   {
    "duration": 6,
    "start_time": "2024-06-04T23:57:49.842Z"
   },
   {
    "duration": 10,
    "start_time": "2024-06-04T23:57:51.870Z"
   },
   {
    "duration": 347,
    "start_time": "2024-06-04T23:57:53.300Z"
   },
   {
    "duration": 17,
    "start_time": "2024-06-04T23:58:07.912Z"
   },
   {
    "duration": 37,
    "start_time": "2024-06-04T23:58:11.685Z"
   },
   {
    "duration": 1822,
    "start_time": "2024-06-04T23:58:25.127Z"
   },
   {
    "duration": 35,
    "start_time": "2024-06-04T23:58:26.953Z"
   },
   {
    "duration": 37,
    "start_time": "2024-06-04T23:58:26.990Z"
   },
   {
    "duration": 13,
    "start_time": "2024-06-04T23:58:27.030Z"
   },
   {
    "duration": 10,
    "start_time": "2024-06-04T23:58:27.048Z"
   },
   {
    "duration": 17,
    "start_time": "2024-06-04T23:58:27.061Z"
   },
   {
    "duration": 399,
    "start_time": "2024-06-04T23:58:27.082Z"
   },
   {
    "duration": 182,
    "start_time": "2024-06-04T23:58:27.485Z"
   },
   {
    "duration": 7,
    "start_time": "2024-06-04T23:58:27.670Z"
   },
   {
    "duration": 4,
    "start_time": "2024-06-04T23:58:27.681Z"
   },
   {
    "duration": 37,
    "start_time": "2024-06-04T23:58:27.688Z"
   },
   {
    "duration": 17,
    "start_time": "2024-06-04T23:58:27.729Z"
   },
   {
    "duration": 489,
    "start_time": "2024-06-04T23:58:27.750Z"
   },
   {
    "duration": 13,
    "start_time": "2024-06-04T23:58:28.246Z"
   },
   {
    "duration": 12,
    "start_time": "2024-06-04T23:58:28.262Z"
   },
   {
    "duration": 49,
    "start_time": "2024-06-04T23:58:28.277Z"
   },
   {
    "duration": 434,
    "start_time": "2024-06-04T23:58:28.329Z"
   },
   {
    "duration": 18,
    "start_time": "2024-06-04T23:58:28.767Z"
   },
   {
    "duration": 36,
    "start_time": "2024-06-04T23:58:28.788Z"
   },
   {
    "duration": 1350,
    "start_time": "2024-06-04T23:58:28.828Z"
   },
   {
    "duration": 0,
    "start_time": "2024-06-04T23:58:30.182Z"
   },
   {
    "duration": 0,
    "start_time": "2024-06-04T23:58:30.184Z"
   },
   {
    "duration": 0,
    "start_time": "2024-06-04T23:58:30.187Z"
   },
   {
    "duration": 0,
    "start_time": "2024-06-04T23:58:30.189Z"
   },
   {
    "duration": 0,
    "start_time": "2024-06-04T23:58:30.192Z"
   },
   {
    "duration": 0,
    "start_time": "2024-06-04T23:58:30.194Z"
   },
   {
    "duration": 0,
    "start_time": "2024-06-04T23:58:30.224Z"
   },
   {
    "duration": 0,
    "start_time": "2024-06-04T23:58:30.227Z"
   },
   {
    "duration": 0,
    "start_time": "2024-06-04T23:58:30.229Z"
   },
   {
    "duration": 0,
    "start_time": "2024-06-04T23:58:30.234Z"
   },
   {
    "duration": 10,
    "start_time": "2024-06-05T00:00:52.192Z"
   },
   {
    "duration": 7,
    "start_time": "2024-06-05T00:00:52.206Z"
   },
   {
    "duration": 25,
    "start_time": "2024-06-05T00:00:52.217Z"
   },
   {
    "duration": 80,
    "start_time": "2024-06-05T00:00:52.248Z"
   },
   {
    "duration": 11337,
    "start_time": "2024-06-05T00:00:52.331Z"
   },
   {
    "duration": 8,
    "start_time": "2024-06-05T00:01:03.671Z"
   },
   {
    "duration": 460,
    "start_time": "2024-06-05T00:01:03.682Z"
   },
   {
    "duration": 9,
    "start_time": "2024-06-05T00:01:04.146Z"
   },
   {
    "duration": 11,
    "start_time": "2024-06-05T00:01:04.223Z"
   },
   {
    "duration": 225,
    "start_time": "2024-06-05T00:01:04.239Z"
   },
   {
    "duration": 32,
    "start_time": "2024-06-05T00:04:44.342Z"
   },
   {
    "duration": 6,
    "start_time": "2024-06-05T00:05:26.077Z"
   },
   {
    "duration": 76,
    "start_time": "2024-06-05T00:05:53.553Z"
   },
   {
    "duration": 1117,
    "start_time": "2024-06-05T00:07:03.742Z"
   },
   {
    "duration": 7,
    "start_time": "2024-06-05T00:08:41.028Z"
   },
   {
    "duration": 13,
    "start_time": "2024-06-05T00:09:00.081Z"
   },
   {
    "duration": 13,
    "start_time": "2024-06-05T00:11:43.525Z"
   },
   {
    "duration": 5793,
    "start_time": "2024-06-05T01:06:58.502Z"
   },
   {
    "duration": 57,
    "start_time": "2024-06-05T01:07:04.300Z"
   },
   {
    "duration": 21,
    "start_time": "2024-06-05T01:07:04.360Z"
   },
   {
    "duration": 37,
    "start_time": "2024-06-05T01:07:04.384Z"
   },
   {
    "duration": 11,
    "start_time": "2024-06-05T01:07:04.426Z"
   },
   {
    "duration": 31,
    "start_time": "2024-06-05T01:07:04.445Z"
   },
   {
    "duration": 366,
    "start_time": "2024-06-05T01:07:04.481Z"
   },
   {
    "duration": 185,
    "start_time": "2024-06-05T01:07:04.851Z"
   },
   {
    "duration": 13,
    "start_time": "2024-06-05T01:07:05.039Z"
   },
   {
    "duration": 4,
    "start_time": "2024-06-05T01:07:05.060Z"
   },
   {
    "duration": 9,
    "start_time": "2024-06-05T01:07:05.068Z"
   },
   {
    "duration": 49,
    "start_time": "2024-06-05T01:07:05.082Z"
   },
   {
    "duration": 499,
    "start_time": "2024-06-05T01:07:05.136Z"
   },
   {
    "duration": 14,
    "start_time": "2024-06-05T01:07:05.644Z"
   },
   {
    "duration": 7,
    "start_time": "2024-06-05T01:07:05.662Z"
   },
   {
    "duration": 49,
    "start_time": "2024-06-05T01:07:05.672Z"
   },
   {
    "duration": 450,
    "start_time": "2024-06-05T01:07:05.724Z"
   },
   {
    "duration": 22,
    "start_time": "2024-06-05T01:07:06.177Z"
   },
   {
    "duration": 41,
    "start_time": "2024-06-05T01:07:06.202Z"
   },
   {
    "duration": 1175,
    "start_time": "2024-06-05T01:07:06.246Z"
   },
   {
    "duration": 13,
    "start_time": "2024-06-05T01:07:07.424Z"
   },
   {
    "duration": 11,
    "start_time": "2024-06-05T01:07:07.442Z"
   },
   {
    "duration": 8,
    "start_time": "2024-06-05T01:07:07.455Z"
   },
   {
    "duration": 67,
    "start_time": "2024-06-05T01:07:07.466Z"
   },
   {
    "duration": 78,
    "start_time": "2024-06-05T01:07:07.538Z"
   },
   {
    "duration": 14440,
    "start_time": "2024-06-05T01:07:07.621Z"
   },
   {
    "duration": 9,
    "start_time": "2024-06-05T01:07:22.065Z"
   },
   {
    "duration": 54733,
    "start_time": "2024-06-05T01:07:22.079Z"
   },
   {
    "duration": 13,
    "start_time": "2024-06-05T01:08:16.815Z"
   },
   {
    "duration": 12,
    "start_time": "2024-06-05T01:08:16.831Z"
   },
   {
    "duration": 244,
    "start_time": "2024-06-05T01:08:16.846Z"
   },
   {
    "duration": 506,
    "start_time": "2024-06-05T01:13:31.059Z"
   },
   {
    "duration": 88,
    "start_time": "2024-06-05T01:13:52.838Z"
   },
   {
    "duration": 1840,
    "start_time": "2024-06-05T01:14:23.082Z"
   },
   {
    "duration": 55,
    "start_time": "2024-06-05T01:14:24.926Z"
   },
   {
    "duration": 32,
    "start_time": "2024-06-05T01:14:24.984Z"
   },
   {
    "duration": 13,
    "start_time": "2024-06-05T01:14:25.019Z"
   },
   {
    "duration": 9,
    "start_time": "2024-06-05T01:14:25.037Z"
   },
   {
    "duration": 18,
    "start_time": "2024-06-05T01:14:25.049Z"
   },
   {
    "duration": 364,
    "start_time": "2024-06-05T01:14:25.114Z"
   },
   {
    "duration": 182,
    "start_time": "2024-06-05T01:14:25.482Z"
   },
   {
    "duration": 8,
    "start_time": "2024-06-05T01:14:25.668Z"
   },
   {
    "duration": 5,
    "start_time": "2024-06-05T01:14:25.681Z"
   },
   {
    "duration": 10,
    "start_time": "2024-06-05T01:14:25.716Z"
   },
   {
    "duration": 21,
    "start_time": "2024-06-05T01:14:25.729Z"
   },
   {
    "duration": 494,
    "start_time": "2024-06-05T01:14:25.753Z"
   },
   {
    "duration": 16,
    "start_time": "2024-06-05T01:14:26.254Z"
   },
   {
    "duration": 7,
    "start_time": "2024-06-05T01:14:26.274Z"
   },
   {
    "duration": 20,
    "start_time": "2024-06-05T01:14:26.313Z"
   },
   {
    "duration": 462,
    "start_time": "2024-06-05T01:14:26.339Z"
   },
   {
    "duration": 23,
    "start_time": "2024-06-05T01:14:26.804Z"
   },
   {
    "duration": 36,
    "start_time": "2024-06-05T01:14:26.832Z"
   },
   {
    "duration": 2234,
    "start_time": "2024-06-05T01:14:26.871Z"
   },
   {
    "duration": 12,
    "start_time": "2024-06-05T01:14:29.112Z"
   },
   {
    "duration": 14,
    "start_time": "2024-06-05T01:14:29.129Z"
   },
   {
    "duration": 9,
    "start_time": "2024-06-05T01:14:29.147Z"
   },
   {
    "duration": 151,
    "start_time": "2024-06-05T01:14:29.160Z"
   },
   {
    "duration": 15,
    "start_time": "2024-06-05T01:14:29.325Z"
   },
   {
    "duration": 11463,
    "start_time": "2024-06-05T01:14:29.412Z"
   },
   {
    "duration": 11,
    "start_time": "2024-06-05T01:14:40.878Z"
   },
   {
    "duration": 59931,
    "start_time": "2024-06-05T01:14:40.893Z"
   },
   {
    "duration": 11,
    "start_time": "2024-06-05T01:15:40.829Z"
   },
   {
    "duration": 11,
    "start_time": "2024-06-05T01:15:40.843Z"
   },
   {
    "duration": 267,
    "start_time": "2024-06-05T01:15:40.857Z"
   },
   {
    "duration": 28,
    "start_time": "2024-06-05T01:20:05.431Z"
   },
   {
    "duration": 392,
    "start_time": "2024-06-05T01:20:55.308Z"
   },
   {
    "duration": 468,
    "start_time": "2024-06-05T01:21:04.029Z"
   },
   {
    "duration": 374,
    "start_time": "2024-06-05T01:24:58.190Z"
   },
   {
    "duration": 7,
    "start_time": "2024-06-05T01:32:13.486Z"
   },
   {
    "duration": 830,
    "start_time": "2024-06-05T01:32:17.832Z"
   },
   {
    "duration": 11,
    "start_time": "2024-06-05T01:33:26.644Z"
   },
   {
    "duration": 6,
    "start_time": "2024-06-05T01:34:37.457Z"
   },
   {
    "duration": 28,
    "start_time": "2024-06-05T01:35:22.830Z"
   },
   {
    "duration": 15,
    "start_time": "2024-06-05T01:36:04.489Z"
   },
   {
    "duration": 8,
    "start_time": "2024-06-05T01:36:36.126Z"
   },
   {
    "duration": 13,
    "start_time": "2024-06-05T01:37:02.014Z"
   },
   {
    "duration": 905,
    "start_time": "2024-06-05T01:39:00.958Z"
   },
   {
    "duration": 6,
    "start_time": "2024-06-05T01:39:10.661Z"
   },
   {
    "duration": 15,
    "start_time": "2024-06-05T01:39:14.659Z"
   },
   {
    "duration": 12,
    "start_time": "2024-06-05T01:39:16.736Z"
   },
   {
    "duration": 16,
    "start_time": "2024-06-05T01:39:25.298Z"
   },
   {
    "duration": 13,
    "start_time": "2024-06-05T01:39:27.881Z"
   },
   {
    "duration": 75,
    "start_time": "2024-06-05T01:47:44.759Z"
   },
   {
    "duration": 1012,
    "start_time": "2024-06-05T01:48:21.370Z"
   },
   {
    "duration": 9,
    "start_time": "2024-06-05T01:49:51.165Z"
   },
   {
    "duration": 35,
    "start_time": "2024-06-05T01:50:47.464Z"
   },
   {
    "duration": 35,
    "start_time": "2024-06-05T01:50:59.775Z"
   },
   {
    "duration": 448,
    "start_time": "2024-06-05T01:51:06.457Z"
   },
   {
    "duration": 274,
    "start_time": "2024-06-05T01:51:27.163Z"
   },
   {
    "duration": 430,
    "start_time": "2024-06-05T01:51:45.807Z"
   },
   {
    "duration": 7,
    "start_time": "2024-06-05T02:04:41.418Z"
   },
   {
    "duration": 1033,
    "start_time": "2024-06-05T02:07:01.082Z"
   },
   {
    "duration": 449,
    "start_time": "2024-06-05T02:10:13.367Z"
   },
   {
    "duration": 8,
    "start_time": "2024-06-05T02:11:32.272Z"
   },
   {
    "duration": 14,
    "start_time": "2024-06-05T17:33:22.158Z"
   },
   {
    "duration": 5563,
    "start_time": "2024-06-05T17:58:19.647Z"
   },
   {
    "duration": 1985,
    "start_time": "2024-06-05T17:58:32.458Z"
   },
   {
    "duration": 66,
    "start_time": "2024-06-05T17:58:34.448Z"
   },
   {
    "duration": 22,
    "start_time": "2024-06-05T17:58:34.517Z"
   },
   {
    "duration": 16,
    "start_time": "2024-06-05T17:58:34.543Z"
   },
   {
    "duration": 10,
    "start_time": "2024-06-05T17:58:34.564Z"
   },
   {
    "duration": 22,
    "start_time": "2024-06-05T17:58:34.622Z"
   },
   {
    "duration": 431,
    "start_time": "2024-06-05T17:58:34.648Z"
   },
   {
    "duration": 200,
    "start_time": "2024-06-05T17:58:35.082Z"
   },
   {
    "duration": 8,
    "start_time": "2024-06-05T17:58:35.286Z"
   },
   {
    "duration": 25,
    "start_time": "2024-06-05T17:58:35.298Z"
   },
   {
    "duration": 10,
    "start_time": "2024-06-05T17:58:35.327Z"
   },
   {
    "duration": 22,
    "start_time": "2024-06-05T17:58:35.342Z"
   },
   {
    "duration": 542,
    "start_time": "2024-06-05T17:58:35.371Z"
   },
   {
    "duration": 15,
    "start_time": "2024-06-05T17:58:35.919Z"
   },
   {
    "duration": 9,
    "start_time": "2024-06-05T17:58:35.938Z"
   },
   {
    "duration": 19,
    "start_time": "2024-06-05T17:58:35.951Z"
   },
   {
    "duration": 63,
    "start_time": "2024-06-05T17:58:35.974Z"
   },
   {
    "duration": 9,
    "start_time": "2024-06-05T17:58:36.042Z"
   },
   {
    "duration": 25,
    "start_time": "2024-06-05T17:58:36.056Z"
   },
   {
    "duration": 43,
    "start_time": "2024-06-05T17:58:36.124Z"
   },
   {
    "duration": 496,
    "start_time": "2024-06-05T17:58:36.172Z"
   },
   {
    "duration": 463,
    "start_time": "2024-06-05T17:58:36.674Z"
   },
   {
    "duration": 27,
    "start_time": "2024-06-05T17:58:37.140Z"
   },
   {
    "duration": 75,
    "start_time": "2024-06-05T17:58:37.171Z"
   },
   {
    "duration": 523,
    "start_time": "2024-06-05T17:58:37.250Z"
   },
   {
    "duration": 1251,
    "start_time": "2024-06-05T17:58:37.777Z"
   },
   {
    "duration": 12,
    "start_time": "2024-06-05T17:58:39.032Z"
   },
   {
    "duration": 8,
    "start_time": "2024-06-05T17:58:39.047Z"
   },
   {
    "duration": 165,
    "start_time": "2024-06-05T17:58:39.059Z"
   },
   {
    "duration": 10,
    "start_time": "2024-06-05T17:58:39.228Z"
   },
   {
    "duration": 13290,
    "start_time": "2024-06-05T17:58:39.242Z"
   },
   {
    "duration": 9,
    "start_time": "2024-06-05T17:58:52.538Z"
   },
   {
    "duration": 57582,
    "start_time": "2024-06-05T17:58:52.552Z"
   },
   {
    "duration": 14,
    "start_time": "2024-06-05T17:59:50.137Z"
   },
   {
    "duration": 13,
    "start_time": "2024-06-05T17:59:50.155Z"
   },
   {
    "duration": 290,
    "start_time": "2024-06-05T17:59:50.172Z"
   },
   {
    "duration": 491,
    "start_time": "2024-06-05T18:06:05.210Z"
   },
   {
    "duration": 209,
    "start_time": "2024-06-05T18:07:36.735Z"
   },
   {
    "duration": 945,
    "start_time": "2024-06-05T18:08:41.629Z"
   },
   {
    "duration": 905,
    "start_time": "2024-06-05T18:09:01.263Z"
   },
   {
    "duration": 12,
    "start_time": "2024-06-05T18:31:35.362Z"
   },
   {
    "duration": 668,
    "start_time": "2024-06-05T18:33:27.885Z"
   },
   {
    "duration": 39,
    "start_time": "2024-06-05T18:34:06.060Z"
   },
   {
    "duration": 49,
    "start_time": "2024-06-05T18:34:30.245Z"
   },
   {
    "duration": 9,
    "start_time": "2024-06-05T18:36:28.998Z"
   },
   {
    "duration": 10,
    "start_time": "2024-06-05T18:36:43.012Z"
   },
   {
    "duration": 28,
    "start_time": "2024-06-05T18:38:29.304Z"
   },
   {
    "duration": 51,
    "start_time": "2024-06-05T18:38:35.242Z"
   },
   {
    "duration": 18,
    "start_time": "2024-06-05T18:39:46.601Z"
   },
   {
    "duration": 29,
    "start_time": "2024-06-05T18:40:02.072Z"
   },
   {
    "duration": 59,
    "start_time": "2024-06-05T18:40:24.379Z"
   },
   {
    "duration": 54,
    "start_time": "2024-06-05T18:41:15.897Z"
   },
   {
    "duration": 68,
    "start_time": "2024-06-05T18:41:24.534Z"
   },
   {
    "duration": 35,
    "start_time": "2024-06-05T18:41:59.756Z"
   },
   {
    "duration": 7,
    "start_time": "2024-06-05T18:42:56.776Z"
   },
   {
    "duration": 9,
    "start_time": "2024-06-05T18:43:52.687Z"
   },
   {
    "duration": 35,
    "start_time": "2024-06-05T18:44:09.274Z"
   },
   {
    "duration": 38,
    "start_time": "2024-06-05T18:44:57.043Z"
   },
   {
    "duration": 27,
    "start_time": "2024-06-05T18:45:03.969Z"
   },
   {
    "duration": 51,
    "start_time": "2024-06-05T18:45:09.916Z"
   },
   {
    "duration": 1997,
    "start_time": "2024-06-05T18:45:46.865Z"
   },
   {
    "duration": 38,
    "start_time": "2024-06-05T18:45:48.866Z"
   },
   {
    "duration": 18,
    "start_time": "2024-06-05T18:45:48.907Z"
   },
   {
    "duration": 13,
    "start_time": "2024-06-05T18:45:48.928Z"
   },
   {
    "duration": 8,
    "start_time": "2024-06-05T18:45:48.946Z"
   },
   {
    "duration": 18,
    "start_time": "2024-06-05T18:45:48.956Z"
   },
   {
    "duration": 404,
    "start_time": "2024-06-05T18:45:48.978Z"
   },
   {
    "duration": 183,
    "start_time": "2024-06-05T18:45:49.386Z"
   },
   {
    "duration": 7,
    "start_time": "2024-06-05T18:45:49.572Z"
   },
   {
    "duration": 4,
    "start_time": "2024-06-05T18:45:49.583Z"
   },
   {
    "duration": 38,
    "start_time": "2024-06-05T18:45:49.590Z"
   },
   {
    "duration": 19,
    "start_time": "2024-06-05T18:45:49.632Z"
   },
   {
    "duration": 518,
    "start_time": "2024-06-05T18:45:49.654Z"
   },
   {
    "duration": 17,
    "start_time": "2024-06-05T18:45:50.181Z"
   },
   {
    "duration": 4,
    "start_time": "2024-06-05T18:45:50.202Z"
   },
   {
    "duration": 4,
    "start_time": "2024-06-05T18:45:50.225Z"
   },
   {
    "duration": 5,
    "start_time": "2024-06-05T18:45:50.234Z"
   },
   {
    "duration": 7,
    "start_time": "2024-06-05T18:45:50.242Z"
   },
   {
    "duration": 19,
    "start_time": "2024-06-05T18:45:50.253Z"
   },
   {
    "duration": 58,
    "start_time": "2024-06-05T18:45:50.275Z"
   },
   {
    "duration": 20,
    "start_time": "2024-06-05T18:45:50.337Z"
   },
   {
    "duration": 30,
    "start_time": "2024-06-05T18:45:50.359Z"
   },
   {
    "duration": 447,
    "start_time": "2024-06-05T18:45:50.424Z"
   },
   {
    "duration": 426,
    "start_time": "2024-06-05T18:45:50.875Z"
   },
   {
    "duration": 28,
    "start_time": "2024-06-05T18:45:51.305Z"
   },
   {
    "duration": 33,
    "start_time": "2024-06-05T18:45:51.337Z"
   },
   {
    "duration": 497,
    "start_time": "2024-06-05T18:45:51.373Z"
   },
   {
    "duration": 1167,
    "start_time": "2024-06-05T18:45:51.874Z"
   },
   {
    "duration": 16,
    "start_time": "2024-06-05T18:45:53.045Z"
   },
   {
    "duration": 9,
    "start_time": "2024-06-05T18:45:53.064Z"
   },
   {
    "duration": 1053,
    "start_time": "2024-06-05T18:45:53.076Z"
   },
   {
    "duration": 0,
    "start_time": "2024-06-05T18:45:54.132Z"
   },
   {
    "duration": 0,
    "start_time": "2024-06-05T18:45:54.135Z"
   },
   {
    "duration": 0,
    "start_time": "2024-06-05T18:45:54.138Z"
   },
   {
    "duration": 0,
    "start_time": "2024-06-05T18:45:54.141Z"
   },
   {
    "duration": 0,
    "start_time": "2024-06-05T18:45:54.145Z"
   },
   {
    "duration": 0,
    "start_time": "2024-06-05T18:45:54.148Z"
   },
   {
    "duration": 0,
    "start_time": "2024-06-05T18:45:54.151Z"
   },
   {
    "duration": 0,
    "start_time": "2024-06-05T18:45:54.154Z"
   },
   {
    "duration": 0,
    "start_time": "2024-06-05T18:45:54.157Z"
   },
   {
    "duration": 1792,
    "start_time": "2024-06-05T18:46:37.544Z"
   },
   {
    "duration": 34,
    "start_time": "2024-06-05T18:46:39.341Z"
   },
   {
    "duration": 15,
    "start_time": "2024-06-05T18:46:39.378Z"
   },
   {
    "duration": 13,
    "start_time": "2024-06-05T18:46:39.427Z"
   },
   {
    "duration": 10,
    "start_time": "2024-06-05T18:46:39.444Z"
   },
   {
    "duration": 18,
    "start_time": "2024-06-05T18:46:39.457Z"
   },
   {
    "duration": 428,
    "start_time": "2024-06-05T18:46:39.479Z"
   },
   {
    "duration": 196,
    "start_time": "2024-06-05T18:46:39.910Z"
   },
   {
    "duration": 20,
    "start_time": "2024-06-05T18:46:40.109Z"
   },
   {
    "duration": 4,
    "start_time": "2024-06-05T18:46:40.137Z"
   },
   {
    "duration": 8,
    "start_time": "2024-06-05T18:46:40.143Z"
   },
   {
    "duration": 18,
    "start_time": "2024-06-05T18:46:40.155Z"
   },
   {
    "duration": 506,
    "start_time": "2024-06-05T18:46:40.176Z"
   },
   {
    "duration": 15,
    "start_time": "2024-06-05T18:46:40.685Z"
   },
   {
    "duration": 4,
    "start_time": "2024-06-05T18:46:40.722Z"
   },
   {
    "duration": 4,
    "start_time": "2024-06-05T18:46:40.730Z"
   },
   {
    "duration": 4,
    "start_time": "2024-06-05T18:46:40.738Z"
   },
   {
    "duration": 8,
    "start_time": "2024-06-05T18:46:40.745Z"
   },
   {
    "duration": 18,
    "start_time": "2024-06-05T18:46:40.756Z"
   },
   {
    "duration": 10,
    "start_time": "2024-06-05T18:46:40.822Z"
   },
   {
    "duration": 18,
    "start_time": "2024-06-05T18:46:40.835Z"
   },
   {
    "duration": 29,
    "start_time": "2024-06-05T18:46:40.856Z"
   },
   {
    "duration": 472,
    "start_time": "2024-06-05T18:46:40.887Z"
   },
   {
    "duration": 403,
    "start_time": "2024-06-05T18:46:41.363Z"
   },
   {
    "duration": 14,
    "start_time": "2024-06-05T18:46:41.769Z"
   },
   {
    "duration": 57,
    "start_time": "2024-06-05T18:46:41.786Z"
   },
   {
    "duration": 450,
    "start_time": "2024-06-05T18:46:41.846Z"
   },
   {
    "duration": 1132,
    "start_time": "2024-06-05T18:46:42.308Z"
   },
   {
    "duration": 11,
    "start_time": "2024-06-05T18:46:43.443Z"
   },
   {
    "duration": 7,
    "start_time": "2024-06-05T18:46:43.457Z"
   },
   {
    "duration": 1038,
    "start_time": "2024-06-05T18:46:43.468Z"
   },
   {
    "duration": 0,
    "start_time": "2024-06-05T18:46:44.510Z"
   },
   {
    "duration": 0,
    "start_time": "2024-06-05T18:46:44.525Z"
   },
   {
    "duration": 0,
    "start_time": "2024-06-05T18:46:44.528Z"
   },
   {
    "duration": 0,
    "start_time": "2024-06-05T18:46:44.530Z"
   },
   {
    "duration": 0,
    "start_time": "2024-06-05T18:46:44.533Z"
   },
   {
    "duration": 0,
    "start_time": "2024-06-05T18:46:44.535Z"
   },
   {
    "duration": 0,
    "start_time": "2024-06-05T18:46:44.538Z"
   },
   {
    "duration": 0,
    "start_time": "2024-06-05T18:46:44.540Z"
   },
   {
    "duration": 0,
    "start_time": "2024-06-05T18:46:44.542Z"
   },
   {
    "duration": 12,
    "start_time": "2024-06-05T18:47:54.482Z"
   },
   {
    "duration": 14,
    "start_time": "2024-06-05T18:48:53.186Z"
   },
   {
    "duration": 6,
    "start_time": "2024-06-05T18:51:25.303Z"
   },
   {
    "duration": 14,
    "start_time": "2024-06-05T18:52:01.192Z"
   },
   {
    "duration": 440,
    "start_time": "2024-06-05T18:52:06.100Z"
   },
   {
    "duration": 5563,
    "start_time": "2024-06-05T22:32:07.374Z"
   },
   {
    "duration": 49,
    "start_time": "2024-06-05T22:32:12.941Z"
   },
   {
    "duration": 15,
    "start_time": "2024-06-05T22:32:12.993Z"
   },
   {
    "duration": 23,
    "start_time": "2024-06-05T22:32:13.011Z"
   },
   {
    "duration": 9,
    "start_time": "2024-06-05T22:32:13.039Z"
   },
   {
    "duration": 19,
    "start_time": "2024-06-05T22:32:13.051Z"
   },
   {
    "duration": 421,
    "start_time": "2024-06-05T22:32:13.074Z"
   },
   {
    "duration": 183,
    "start_time": "2024-06-05T22:32:13.499Z"
   },
   {
    "duration": 7,
    "start_time": "2024-06-05T22:32:13.685Z"
   },
   {
    "duration": 28,
    "start_time": "2024-06-05T22:32:13.695Z"
   },
   {
    "duration": 8,
    "start_time": "2024-06-05T22:32:13.726Z"
   },
   {
    "duration": 23,
    "start_time": "2024-06-05T22:32:13.737Z"
   },
   {
    "duration": 479,
    "start_time": "2024-06-05T22:32:13.763Z"
   },
   {
    "duration": 15,
    "start_time": "2024-06-05T22:32:14.248Z"
   },
   {
    "duration": 13,
    "start_time": "2024-06-05T22:39:15.785Z"
   },
   {
    "duration": 558,
    "start_time": "2024-06-05T22:40:04.720Z"
   },
   {
    "duration": 9,
    "start_time": "2024-06-05T22:40:31.882Z"
   },
   {
    "duration": 8,
    "start_time": "2024-06-05T22:40:35.605Z"
   },
   {
    "duration": 6,
    "start_time": "2024-06-05T22:40:38.669Z"
   },
   {
    "duration": 6,
    "start_time": "2024-06-05T22:40:46.955Z"
   },
   {
    "duration": 34,
    "start_time": "2024-06-05T22:43:33.261Z"
   },
   {
    "duration": 26,
    "start_time": "2024-06-05T22:44:12.000Z"
   },
   {
    "duration": 27,
    "start_time": "2024-06-05T22:44:25.613Z"
   },
   {
    "duration": 26,
    "start_time": "2024-06-05T22:58:56.043Z"
   },
   {
    "duration": 1907,
    "start_time": "2024-06-05T22:59:15.667Z"
   },
   {
    "duration": 44,
    "start_time": "2024-06-05T22:59:17.579Z"
   },
   {
    "duration": 16,
    "start_time": "2024-06-05T22:59:17.626Z"
   },
   {
    "duration": 14,
    "start_time": "2024-06-05T22:59:17.645Z"
   },
   {
    "duration": 9,
    "start_time": "2024-06-05T22:59:17.665Z"
   },
   {
    "duration": 19,
    "start_time": "2024-06-05T22:59:17.722Z"
   },
   {
    "duration": 390,
    "start_time": "2024-06-05T22:59:17.744Z"
   },
   {
    "duration": 204,
    "start_time": "2024-06-05T22:59:18.137Z"
   },
   {
    "duration": 8,
    "start_time": "2024-06-05T22:59:18.344Z"
   },
   {
    "duration": 5,
    "start_time": "2024-06-05T22:59:18.356Z"
   },
   {
    "duration": 10,
    "start_time": "2024-06-05T22:59:18.365Z"
   },
   {
    "duration": 55,
    "start_time": "2024-06-05T22:59:18.382Z"
   },
   {
    "duration": 490,
    "start_time": "2024-06-05T22:59:18.441Z"
   },
   {
    "duration": 14,
    "start_time": "2024-06-05T22:59:18.938Z"
   },
   {
    "duration": 15,
    "start_time": "2024-06-05T22:59:18.956Z"
   },
   {
    "duration": 11,
    "start_time": "2024-06-05T22:59:22.749Z"
   },
   {
    "duration": 20,
    "start_time": "2024-06-05T22:59:25.885Z"
   },
   {
    "duration": 12,
    "start_time": "2024-06-05T22:59:38.067Z"
   },
   {
    "duration": 14,
    "start_time": "2024-06-05T22:59:40.200Z"
   },
   {
    "duration": 6,
    "start_time": "2024-06-05T23:00:03.406Z"
   },
   {
    "duration": 18,
    "start_time": "2024-06-05T23:00:05.169Z"
   },
   {
    "duration": 10,
    "start_time": "2024-06-05T23:00:07.387Z"
   },
   {
    "duration": 23,
    "start_time": "2024-06-05T23:00:16.735Z"
   },
   {
    "duration": 29,
    "start_time": "2024-06-05T23:00:22.227Z"
   },
   {
    "duration": 442,
    "start_time": "2024-06-05T23:00:27.534Z"
   },
   {
    "duration": 417,
    "start_time": "2024-06-05T23:00:31.334Z"
   },
   {
    "duration": 1849,
    "start_time": "2024-06-05T23:00:54.028Z"
   },
   {
    "duration": 42,
    "start_time": "2024-06-05T23:00:55.881Z"
   },
   {
    "duration": 14,
    "start_time": "2024-06-05T23:00:55.926Z"
   },
   {
    "duration": 13,
    "start_time": "2024-06-05T23:00:55.943Z"
   },
   {
    "duration": 9,
    "start_time": "2024-06-05T23:00:55.961Z"
   },
   {
    "duration": 58,
    "start_time": "2024-06-05T23:00:55.973Z"
   },
   {
    "duration": 377,
    "start_time": "2024-06-05T23:00:56.034Z"
   },
   {
    "duration": 181,
    "start_time": "2024-06-05T23:00:56.422Z"
   },
   {
    "duration": 16,
    "start_time": "2024-06-05T23:00:56.607Z"
   },
   {
    "duration": 4,
    "start_time": "2024-06-05T23:00:56.626Z"
   },
   {
    "duration": 8,
    "start_time": "2024-06-05T23:00:56.633Z"
   },
   {
    "duration": 18,
    "start_time": "2024-06-05T23:00:56.644Z"
   },
   {
    "duration": 494,
    "start_time": "2024-06-05T23:00:56.664Z"
   },
   {
    "duration": 14,
    "start_time": "2024-06-05T23:00:57.168Z"
   },
   {
    "duration": 39,
    "start_time": "2024-06-05T23:00:57.185Z"
   },
   {
    "duration": 12,
    "start_time": "2024-06-05T23:00:57.228Z"
   },
   {
    "duration": 13,
    "start_time": "2024-06-05T23:00:57.244Z"
   },
   {
    "duration": 4,
    "start_time": "2024-06-05T23:00:57.260Z"
   },
   {
    "duration": 5,
    "start_time": "2024-06-05T23:00:57.267Z"
   },
   {
    "duration": 49,
    "start_time": "2024-06-05T23:00:57.275Z"
   },
   {
    "duration": 7,
    "start_time": "2024-06-05T23:00:57.327Z"
   },
   {
    "duration": 18,
    "start_time": "2024-06-05T23:00:57.337Z"
   },
   {
    "duration": 10,
    "start_time": "2024-06-05T23:00:57.357Z"
   },
   {
    "duration": 61,
    "start_time": "2024-06-05T23:00:57.370Z"
   },
   {
    "duration": 28,
    "start_time": "2024-06-05T23:00:57.434Z"
   },
   {
    "duration": 445,
    "start_time": "2024-06-05T23:00:57.466Z"
   },
   {
    "duration": 415,
    "start_time": "2024-06-05T23:00:57.916Z"
   },
   {
    "duration": 14,
    "start_time": "2024-06-05T23:00:58.334Z"
   },
   {
    "duration": 24,
    "start_time": "2024-06-05T23:00:58.351Z"
   },
   {
    "duration": 472,
    "start_time": "2024-06-05T23:00:58.378Z"
   },
   {
    "duration": 1171,
    "start_time": "2024-06-05T23:00:58.853Z"
   },
   {
    "duration": 13,
    "start_time": "2024-06-05T23:01:00.029Z"
   },
   {
    "duration": 8,
    "start_time": "2024-06-05T23:01:00.045Z"
   },
   {
    "duration": 12,
    "start_time": "2024-06-05T23:01:00.057Z"
   },
   {
    "duration": 58,
    "start_time": "2024-06-05T23:01:00.073Z"
   },
   {
    "duration": 1012,
    "start_time": "2024-06-05T23:01:00.135Z"
   },
   {
    "duration": 0,
    "start_time": "2024-06-05T23:01:01.152Z"
   },
   {
    "duration": 0,
    "start_time": "2024-06-05T23:01:01.156Z"
   },
   {
    "duration": 0,
    "start_time": "2024-06-05T23:01:01.159Z"
   },
   {
    "duration": 0,
    "start_time": "2024-06-05T23:01:01.162Z"
   },
   {
    "duration": 0,
    "start_time": "2024-06-05T23:01:01.164Z"
   },
   {
    "duration": 0,
    "start_time": "2024-06-05T23:01:01.167Z"
   },
   {
    "duration": 0,
    "start_time": "2024-06-05T23:01:01.169Z"
   },
   {
    "duration": 0,
    "start_time": "2024-06-05T23:01:01.171Z"
   },
   {
    "duration": 24,
    "start_time": "2024-06-05T23:01:43.406Z"
   },
   {
    "duration": 86,
    "start_time": "2024-06-05T23:01:43.437Z"
   },
   {
    "duration": 12466,
    "start_time": "2024-06-05T23:01:43.526Z"
   },
   {
    "duration": 9,
    "start_time": "2024-06-05T23:01:55.995Z"
   },
   {
    "duration": 433,
    "start_time": "2024-06-05T23:01:56.025Z"
   },
   {
    "duration": 65,
    "start_time": "2024-06-05T23:01:56.462Z"
   },
   {
    "duration": 13,
    "start_time": "2024-06-05T23:01:56.532Z"
   },
   {
    "duration": 270,
    "start_time": "2024-06-05T23:01:56.549Z"
   },
   {
    "duration": 1882,
    "start_time": "2024-06-05T23:04:52.502Z"
   },
   {
    "duration": 49,
    "start_time": "2024-06-05T23:04:54.389Z"
   },
   {
    "duration": 17,
    "start_time": "2024-06-05T23:04:54.441Z"
   },
   {
    "duration": 16,
    "start_time": "2024-06-05T23:04:54.462Z"
   },
   {
    "duration": 43,
    "start_time": "2024-06-05T23:04:54.485Z"
   },
   {
    "duration": 21,
    "start_time": "2024-06-05T23:04:54.531Z"
   },
   {
    "duration": 403,
    "start_time": "2024-06-05T23:04:54.555Z"
   },
   {
    "duration": 193,
    "start_time": "2024-06-05T23:04:54.962Z"
   },
   {
    "duration": 9,
    "start_time": "2024-06-05T23:04:55.159Z"
   },
   {
    "duration": 5,
    "start_time": "2024-06-05T23:04:55.174Z"
   },
   {
    "duration": 46,
    "start_time": "2024-06-05T23:04:55.183Z"
   },
   {
    "duration": 22,
    "start_time": "2024-06-05T23:04:55.233Z"
   },
   {
    "duration": 476,
    "start_time": "2024-06-05T23:04:55.259Z"
   },
   {
    "duration": 15,
    "start_time": "2024-06-05T23:04:55.741Z"
   },
   {
    "duration": 12,
    "start_time": "2024-06-05T23:04:55.759Z"
   },
   {
    "duration": 48,
    "start_time": "2024-06-05T23:04:55.775Z"
   },
   {
    "duration": 13,
    "start_time": "2024-06-05T23:04:55.826Z"
   },
   {
    "duration": 4,
    "start_time": "2024-06-05T23:04:55.842Z"
   },
   {
    "duration": 4,
    "start_time": "2024-06-05T23:04:55.849Z"
   },
   {
    "duration": 5,
    "start_time": "2024-06-05T23:04:55.856Z"
   },
   {
    "duration": 6,
    "start_time": "2024-06-05T23:04:55.865Z"
   },
   {
    "duration": 16,
    "start_time": "2024-06-05T23:04:55.923Z"
   },
   {
    "duration": 11,
    "start_time": "2024-06-05T23:04:55.941Z"
   },
   {
    "duration": 28,
    "start_time": "2024-06-05T23:04:55.954Z"
   },
   {
    "duration": 421,
    "start_time": "2024-06-05T23:04:56.022Z"
   },
   {
    "duration": 403,
    "start_time": "2024-06-05T23:04:56.447Z"
   },
   {
    "duration": 23,
    "start_time": "2024-06-05T23:04:56.853Z"
   },
   {
    "duration": 54,
    "start_time": "2024-06-05T23:04:56.880Z"
   },
   {
    "duration": 469,
    "start_time": "2024-06-05T23:04:56.938Z"
   },
   {
    "duration": 1163,
    "start_time": "2024-06-05T23:04:57.411Z"
   },
   {
    "duration": 14,
    "start_time": "2024-06-05T23:04:58.578Z"
   },
   {
    "duration": 8,
    "start_time": "2024-06-05T23:04:58.595Z"
   },
   {
    "duration": 13,
    "start_time": "2024-06-05T23:04:58.625Z"
   },
   {
    "duration": 13,
    "start_time": "2024-06-05T23:04:58.641Z"
   },
   {
    "duration": 68,
    "start_time": "2024-06-05T23:04:58.657Z"
   },
   {
    "duration": 9,
    "start_time": "2024-06-05T23:04:58.731Z"
   },
   {
    "duration": 12918,
    "start_time": "2024-06-05T23:04:58.743Z"
   },
   {
    "duration": 9,
    "start_time": "2024-06-05T23:05:11.664Z"
   },
   {
    "duration": 554,
    "start_time": "2024-06-05T23:05:11.679Z"
   },
   {
    "duration": 10,
    "start_time": "2024-06-05T23:05:12.236Z"
   },
   {
    "duration": 11,
    "start_time": "2024-06-05T23:05:12.256Z"
   },
   {
    "duration": 227,
    "start_time": "2024-06-05T23:05:12.325Z"
   },
   {
    "duration": 1867,
    "start_time": "2024-06-05T23:06:16.069Z"
   },
   {
    "duration": 37,
    "start_time": "2024-06-05T23:06:17.940Z"
   },
   {
    "duration": 17,
    "start_time": "2024-06-05T23:06:17.980Z"
   },
   {
    "duration": 31,
    "start_time": "2024-06-05T23:06:18.001Z"
   },
   {
    "duration": 9,
    "start_time": "2024-06-05T23:06:18.037Z"
   },
   {
    "duration": 18,
    "start_time": "2024-06-05T23:06:18.050Z"
   },
   {
    "duration": 423,
    "start_time": "2024-06-05T23:06:18.072Z"
   },
   {
    "duration": 195,
    "start_time": "2024-06-05T23:06:18.500Z"
   },
   {
    "duration": 7,
    "start_time": "2024-06-05T23:06:18.698Z"
   },
   {
    "duration": 4,
    "start_time": "2024-06-05T23:06:18.724Z"
   },
   {
    "duration": 9,
    "start_time": "2024-06-05T23:06:18.731Z"
   },
   {
    "duration": 21,
    "start_time": "2024-06-05T23:06:18.744Z"
   },
   {
    "duration": 493,
    "start_time": "2024-06-05T23:06:18.768Z"
   },
   {
    "duration": 15,
    "start_time": "2024-06-05T23:06:19.264Z"
   },
   {
    "duration": 40,
    "start_time": "2024-06-05T23:06:19.283Z"
   },
   {
    "duration": 13,
    "start_time": "2024-06-05T23:06:19.328Z"
   },
   {
    "duration": 16,
    "start_time": "2024-06-05T23:06:19.345Z"
   },
   {
    "duration": 5,
    "start_time": "2024-06-05T23:06:19.365Z"
   },
   {
    "duration": 48,
    "start_time": "2024-06-05T23:06:19.375Z"
   },
   {
    "duration": 4,
    "start_time": "2024-06-05T23:06:19.427Z"
   },
   {
    "duration": 7,
    "start_time": "2024-06-05T23:06:19.435Z"
   },
   {
    "duration": 19,
    "start_time": "2024-06-05T23:06:19.445Z"
   },
   {
    "duration": 55,
    "start_time": "2024-06-05T23:06:19.468Z"
   },
   {
    "duration": 29,
    "start_time": "2024-06-05T23:06:19.527Z"
   },
   {
    "duration": 488,
    "start_time": "2024-06-05T23:06:19.560Z"
   },
   {
    "duration": 411,
    "start_time": "2024-06-05T23:06:20.051Z"
   },
   {
    "duration": 24,
    "start_time": "2024-06-05T23:06:20.466Z"
   },
   {
    "duration": 29,
    "start_time": "2024-06-05T23:06:20.523Z"
   },
   {
    "duration": 472,
    "start_time": "2024-06-05T23:06:20.556Z"
   },
   {
    "duration": 1182,
    "start_time": "2024-06-05T23:06:21.032Z"
   },
   {
    "duration": 12,
    "start_time": "2024-06-05T23:06:22.224Z"
   },
   {
    "duration": 8,
    "start_time": "2024-06-05T23:06:22.239Z"
   },
   {
    "duration": 13,
    "start_time": "2024-06-05T23:06:22.251Z"
   },
   {
    "duration": 58,
    "start_time": "2024-06-05T23:06:22.267Z"
   },
   {
    "duration": 22,
    "start_time": "2024-06-05T23:06:22.329Z"
   },
   {
    "duration": 74,
    "start_time": "2024-06-05T23:06:22.353Z"
   },
   {
    "duration": 14325,
    "start_time": "2024-06-05T23:06:22.430Z"
   },
   {
    "duration": 9,
    "start_time": "2024-06-05T23:06:36.758Z"
   },
   {
    "duration": 462,
    "start_time": "2024-06-05T23:06:36.771Z"
   },
   {
    "duration": 9,
    "start_time": "2024-06-05T23:06:37.237Z"
   },
   {
    "duration": 11,
    "start_time": "2024-06-05T23:06:37.250Z"
   },
   {
    "duration": 320,
    "start_time": "2024-06-05T23:06:37.265Z"
   },
   {
    "duration": 30,
    "start_time": "2024-06-05T23:08:18.706Z"
   },
   {
    "duration": 29,
    "start_time": "2024-06-05T23:08:25.008Z"
   },
   {
    "duration": 900,
    "start_time": "2024-06-05T23:10:43.057Z"
   },
   {
    "duration": 1213,
    "start_time": "2024-06-05T23:10:48.830Z"
   },
   {
    "duration": 1021,
    "start_time": "2024-06-05T23:11:10.772Z"
   },
   {
    "duration": 1376,
    "start_time": "2024-06-05T23:11:33.251Z"
   },
   {
    "duration": 1170,
    "start_time": "2024-06-05T23:11:51.130Z"
   },
   {
    "duration": 1178,
    "start_time": "2024-06-05T23:11:59.765Z"
   },
   {
    "duration": 24,
    "start_time": "2024-06-05T23:16:43.648Z"
   },
   {
    "duration": 1792,
    "start_time": "2024-06-05T23:16:54.671Z"
   },
   {
    "duration": 36,
    "start_time": "2024-06-05T23:16:56.467Z"
   },
   {
    "duration": 28,
    "start_time": "2024-06-05T23:16:56.506Z"
   },
   {
    "duration": 15,
    "start_time": "2024-06-05T23:16:56.538Z"
   },
   {
    "duration": 10,
    "start_time": "2024-06-05T23:16:56.557Z"
   },
   {
    "duration": 59,
    "start_time": "2024-06-05T23:16:56.570Z"
   },
   {
    "duration": 393,
    "start_time": "2024-06-05T23:16:56.632Z"
   },
   {
    "duration": 180,
    "start_time": "2024-06-05T23:16:57.028Z"
   },
   {
    "duration": 6,
    "start_time": "2024-06-05T23:16:57.222Z"
   },
   {
    "duration": 5,
    "start_time": "2024-06-05T23:16:57.232Z"
   },
   {
    "duration": 8,
    "start_time": "2024-06-05T23:16:57.240Z"
   },
   {
    "duration": 19,
    "start_time": "2024-06-05T23:16:57.251Z"
   },
   {
    "duration": 523,
    "start_time": "2024-06-05T23:16:57.273Z"
   },
   {
    "duration": 24,
    "start_time": "2024-06-05T23:16:57.803Z"
   },
   {
    "duration": 11,
    "start_time": "2024-06-05T23:16:57.831Z"
   },
   {
    "duration": 12,
    "start_time": "2024-06-05T23:16:57.845Z"
   },
   {
    "duration": 15,
    "start_time": "2024-06-05T23:16:57.860Z"
   },
   {
    "duration": 49,
    "start_time": "2024-06-05T23:16:57.878Z"
   },
   {
    "duration": 6,
    "start_time": "2024-06-05T23:16:57.930Z"
   },
   {
    "duration": 22,
    "start_time": "2024-06-05T23:16:57.939Z"
   },
   {
    "duration": 65,
    "start_time": "2024-06-05T23:16:57.964Z"
   },
   {
    "duration": 416,
    "start_time": "2024-06-05T23:16:58.032Z"
   },
   {
    "duration": 419,
    "start_time": "2024-06-05T23:16:58.450Z"
   },
   {
    "duration": 20,
    "start_time": "2024-06-05T23:16:58.873Z"
   },
   {
    "duration": 51,
    "start_time": "2024-06-05T23:16:58.897Z"
   },
   {
    "duration": 466,
    "start_time": "2024-06-05T23:16:58.952Z"
   },
   {
    "duration": 1399,
    "start_time": "2024-06-05T23:16:59.424Z"
   },
   {
    "duration": 10,
    "start_time": "2024-06-05T23:17:00.827Z"
   },
   {
    "duration": 7,
    "start_time": "2024-06-05T23:17:00.840Z"
   },
   {
    "duration": 84,
    "start_time": "2024-06-05T23:17:00.853Z"
   },
   {
    "duration": 86,
    "start_time": "2024-06-05T23:17:00.943Z"
   },
   {
    "duration": 12421,
    "start_time": "2024-06-05T23:17:01.033Z"
   },
   {
    "duration": 9,
    "start_time": "2024-06-05T23:17:13.457Z"
   },
   {
    "duration": 464,
    "start_time": "2024-06-05T23:17:13.469Z"
   },
   {
    "duration": 10,
    "start_time": "2024-06-05T23:17:13.936Z"
   },
   {
    "duration": 12,
    "start_time": "2024-06-05T23:17:13.950Z"
   },
   {
    "duration": 264,
    "start_time": "2024-06-05T23:17:13.967Z"
   },
   {
    "duration": 32,
    "start_time": "2024-06-05T23:17:35.198Z"
   },
   {
    "duration": 24,
    "start_time": "2024-06-05T23:17:52.737Z"
   },
   {
    "duration": 28,
    "start_time": "2024-06-05T23:21:35.070Z"
   },
   {
    "duration": 1915,
    "start_time": "2024-06-05T23:23:10.808Z"
   },
   {
    "duration": 36,
    "start_time": "2024-06-05T23:23:12.728Z"
   },
   {
    "duration": 16,
    "start_time": "2024-06-05T23:23:12.767Z"
   },
   {
    "duration": 39,
    "start_time": "2024-06-05T23:23:12.786Z"
   },
   {
    "duration": 11,
    "start_time": "2024-06-05T23:23:12.830Z"
   },
   {
    "duration": 20,
    "start_time": "2024-06-05T23:23:12.843Z"
   },
   {
    "duration": 402,
    "start_time": "2024-06-05T23:23:12.865Z"
   },
   {
    "duration": 184,
    "start_time": "2024-06-05T23:23:13.271Z"
   },
   {
    "duration": 6,
    "start_time": "2024-06-05T23:23:13.458Z"
   },
   {
    "duration": 5,
    "start_time": "2024-06-05T23:23:13.468Z"
   },
   {
    "duration": 8,
    "start_time": "2024-06-05T23:23:13.477Z"
   },
   {
    "duration": 20,
    "start_time": "2024-06-05T23:23:13.524Z"
   },
   {
    "duration": 485,
    "start_time": "2024-06-05T23:23:13.547Z"
   },
   {
    "duration": 16,
    "start_time": "2024-06-05T23:23:14.040Z"
   },
   {
    "duration": 16,
    "start_time": "2024-06-05T23:23:14.059Z"
   },
   {
    "duration": 51,
    "start_time": "2024-06-05T23:23:14.079Z"
   },
   {
    "duration": 14,
    "start_time": "2024-06-05T23:23:14.134Z"
   },
   {
    "duration": 19,
    "start_time": "2024-06-05T23:23:14.153Z"
   },
   {
    "duration": 8,
    "start_time": "2024-06-05T23:23:14.175Z"
   },
   {
    "duration": 20,
    "start_time": "2024-06-05T23:23:14.225Z"
   },
   {
    "duration": 30,
    "start_time": "2024-06-05T23:23:14.248Z"
   },
   {
    "duration": 426,
    "start_time": "2024-06-05T23:23:14.322Z"
   },
   {
    "duration": 448,
    "start_time": "2024-06-05T23:23:14.752Z"
   },
   {
    "duration": 31,
    "start_time": "2024-06-05T23:23:15.204Z"
   },
   {
    "duration": 30,
    "start_time": "2024-06-05T23:23:15.241Z"
   },
   {
    "duration": 506,
    "start_time": "2024-06-05T23:23:15.275Z"
   },
   {
    "duration": 1252,
    "start_time": "2024-06-05T23:23:15.785Z"
   },
   {
    "duration": 15,
    "start_time": "2024-06-05T23:23:17.041Z"
   },
   {
    "duration": 10,
    "start_time": "2024-06-05T23:23:17.060Z"
   },
   {
    "duration": 58,
    "start_time": "2024-06-05T23:23:17.075Z"
   },
   {
    "duration": 94,
    "start_time": "2024-06-05T23:23:17.137Z"
   },
   {
    "duration": 17037,
    "start_time": "2024-06-05T23:23:17.237Z"
   },
   {
    "duration": 10,
    "start_time": "2024-06-05T23:23:34.277Z"
   },
   {
    "duration": 440,
    "start_time": "2024-06-05T23:23:34.292Z"
   },
   {
    "duration": 9,
    "start_time": "2024-06-05T23:23:34.735Z"
   },
   {
    "duration": 11,
    "start_time": "2024-06-05T23:23:34.747Z"
   },
   {
    "duration": 280,
    "start_time": "2024-06-05T23:23:34.761Z"
   },
   {
    "duration": 25,
    "start_time": "2024-06-05T23:24:41.607Z"
   },
   {
    "duration": 1835,
    "start_time": "2024-06-05T23:25:45.914Z"
   },
   {
    "duration": 39,
    "start_time": "2024-06-05T23:25:47.752Z"
   },
   {
    "duration": 15,
    "start_time": "2024-06-05T23:25:47.793Z"
   },
   {
    "duration": 13,
    "start_time": "2024-06-05T23:25:47.824Z"
   },
   {
    "duration": 9,
    "start_time": "2024-06-05T23:25:47.842Z"
   },
   {
    "duration": 17,
    "start_time": "2024-06-05T23:25:47.853Z"
   },
   {
    "duration": 399,
    "start_time": "2024-06-05T23:25:47.873Z"
   },
   {
    "duration": 178,
    "start_time": "2024-06-05T23:25:48.275Z"
   },
   {
    "duration": 6,
    "start_time": "2024-06-05T23:25:48.458Z"
   },
   {
    "duration": 4,
    "start_time": "2024-06-05T23:25:48.468Z"
   },
   {
    "duration": 12,
    "start_time": "2024-06-05T23:25:48.475Z"
   },
   {
    "duration": 46,
    "start_time": "2024-06-05T23:25:48.489Z"
   },
   {
    "duration": 466,
    "start_time": "2024-06-05T23:25:48.538Z"
   },
   {
    "duration": 20,
    "start_time": "2024-06-05T23:25:49.012Z"
   },
   {
    "duration": 13,
    "start_time": "2024-06-05T23:25:49.036Z"
   },
   {
    "duration": 13,
    "start_time": "2024-06-05T23:25:49.052Z"
   },
   {
    "duration": 55,
    "start_time": "2024-06-05T23:25:49.068Z"
   },
   {
    "duration": 4,
    "start_time": "2024-06-05T23:25:49.126Z"
   },
   {
    "duration": 13,
    "start_time": "2024-06-05T23:25:49.133Z"
   },
   {
    "duration": 7,
    "start_time": "2024-06-05T23:25:49.149Z"
   },
   {
    "duration": 17,
    "start_time": "2024-06-05T23:25:49.159Z"
   },
   {
    "duration": 67,
    "start_time": "2024-06-05T23:25:49.178Z"
   },
   {
    "duration": 416,
    "start_time": "2024-06-05T23:25:49.248Z"
   },
   {
    "duration": 418,
    "start_time": "2024-06-05T23:25:49.667Z"
   },
   {
    "duration": 38,
    "start_time": "2024-06-05T23:25:50.089Z"
   },
   {
    "duration": 39,
    "start_time": "2024-06-05T23:25:50.131Z"
   },
   {
    "duration": 473,
    "start_time": "2024-06-05T23:25:50.173Z"
   },
   {
    "duration": 1145,
    "start_time": "2024-06-05T23:25:50.650Z"
   },
   {
    "duration": 9,
    "start_time": "2024-06-05T23:25:51.798Z"
   },
   {
    "duration": 7,
    "start_time": "2024-06-05T23:25:51.822Z"
   },
   {
    "duration": 23,
    "start_time": "2024-06-05T23:25:51.832Z"
   },
   {
    "duration": 74,
    "start_time": "2024-06-05T23:25:51.857Z"
   },
   {
    "duration": 11441,
    "start_time": "2024-06-05T23:25:51.935Z"
   },
   {
    "duration": 8,
    "start_time": "2024-06-05T23:26:03.379Z"
   },
   {
    "duration": 548,
    "start_time": "2024-06-05T23:26:03.391Z"
   },
   {
    "duration": 8,
    "start_time": "2024-06-05T23:26:03.942Z"
   },
   {
    "duration": 69,
    "start_time": "2024-06-05T23:26:03.954Z"
   },
   {
    "duration": 229,
    "start_time": "2024-06-05T23:26:04.026Z"
   },
   {
    "duration": 13,
    "start_time": "2024-06-05T23:26:14.340Z"
   },
   {
    "duration": 475,
    "start_time": "2024-06-05T23:33:25.181Z"
   },
   {
    "duration": 8,
    "start_time": "2024-06-05T23:33:32.033Z"
   },
   {
    "duration": 6,
    "start_time": "2024-06-05T23:33:33.951Z"
   },
   {
    "duration": 295,
    "start_time": "2024-06-05T23:33:35.597Z"
   },
   {
    "duration": 17,
    "start_time": "2024-06-05T23:34:55.777Z"
   },
   {
    "duration": 6,
    "start_time": "2024-06-05T23:38:14.304Z"
   },
   {
    "duration": 3736,
    "start_time": "2024-06-05T23:38:15.593Z"
   },
   {
    "duration": 9,
    "start_time": "2024-06-05T23:40:42.568Z"
   },
   {
    "duration": 281,
    "start_time": "2024-06-05T23:49:49.247Z"
   },
   {
    "duration": 279,
    "start_time": "2024-06-06T00:02:25.262Z"
   },
   {
    "duration": 10,
    "start_time": "2024-06-06T00:02:28.490Z"
   },
   {
    "duration": 15395,
    "start_time": "2024-06-06T00:18:57.904Z"
   },
   {
    "duration": 9,
    "start_time": "2024-06-06T00:19:39.275Z"
   },
   {
    "duration": 133,
    "start_time": "2024-06-06T00:20:07.402Z"
   },
   {
    "duration": 8,
    "start_time": "2024-06-06T00:20:39.394Z"
   },
   {
    "duration": 3828,
    "start_time": "2024-06-06T00:20:58.507Z"
   },
   {
    "duration": 9,
    "start_time": "2024-06-06T00:21:18.952Z"
   },
   {
    "duration": 4053,
    "start_time": "2024-06-06T00:25:50.690Z"
   },
   {
    "duration": 9,
    "start_time": "2024-06-06T00:25:54.747Z"
   },
   {
    "duration": 1798,
    "start_time": "2024-06-06T00:34:18.568Z"
   },
   {
    "duration": 41,
    "start_time": "2024-06-06T00:34:20.371Z"
   },
   {
    "duration": 21,
    "start_time": "2024-06-06T00:34:20.415Z"
   },
   {
    "duration": 14,
    "start_time": "2024-06-06T00:34:20.439Z"
   },
   {
    "duration": 9,
    "start_time": "2024-06-06T00:34:24.870Z"
   },
   {
    "duration": 1338,
    "start_time": "2024-06-06T00:35:18.274Z"
   },
   {
    "duration": 1747,
    "start_time": "2024-06-06T00:36:52.284Z"
   },
   {
    "duration": 40,
    "start_time": "2024-06-06T00:36:54.035Z"
   },
   {
    "duration": 17,
    "start_time": "2024-06-06T00:36:54.079Z"
   },
   {
    "duration": 14,
    "start_time": "2024-06-06T00:36:54.122Z"
   },
   {
    "duration": 18,
    "start_time": "2024-06-06T00:36:54.139Z"
   },
   {
    "duration": 399,
    "start_time": "2024-06-06T00:36:54.161Z"
   },
   {
    "duration": 190,
    "start_time": "2024-06-06T00:36:54.563Z"
   },
   {
    "duration": 8,
    "start_time": "2024-06-06T00:36:54.756Z"
   },
   {
    "duration": 4,
    "start_time": "2024-06-06T00:36:54.768Z"
   },
   {
    "duration": 8,
    "start_time": "2024-06-06T00:36:54.779Z"
   },
   {
    "duration": 19,
    "start_time": "2024-06-06T00:36:54.825Z"
   },
   {
    "duration": 479,
    "start_time": "2024-06-06T00:36:54.847Z"
   },
   {
    "duration": 12,
    "start_time": "2024-06-06T00:36:55.329Z"
   },
   {
    "duration": 12,
    "start_time": "2024-06-06T00:36:55.344Z"
   },
   {
    "duration": 13,
    "start_time": "2024-06-06T00:36:55.359Z"
   },
   {
    "duration": 50,
    "start_time": "2024-06-06T00:36:55.375Z"
   },
   {
    "duration": 4,
    "start_time": "2024-06-06T00:36:55.428Z"
   },
   {
    "duration": 7,
    "start_time": "2024-06-06T00:36:55.436Z"
   },
   {
    "duration": 16,
    "start_time": "2024-06-06T00:36:55.446Z"
   },
   {
    "duration": 73,
    "start_time": "2024-06-06T00:36:55.464Z"
   },
   {
    "duration": 423,
    "start_time": "2024-06-06T00:36:55.540Z"
   },
   {
    "duration": 388,
    "start_time": "2024-06-06T00:36:55.974Z"
   },
   {
    "duration": 20,
    "start_time": "2024-06-06T00:36:56.365Z"
   },
   {
    "duration": 52,
    "start_time": "2024-06-06T00:36:56.388Z"
   },
   {
    "duration": 471,
    "start_time": "2024-06-06T00:36:56.444Z"
   },
   {
    "duration": 1134,
    "start_time": "2024-06-06T00:36:56.922Z"
   },
   {
    "duration": 13,
    "start_time": "2024-06-06T00:36:58.059Z"
   },
   {
    "duration": 7,
    "start_time": "2024-06-06T00:36:58.080Z"
   },
   {
    "duration": 52,
    "start_time": "2024-06-06T00:36:58.090Z"
   },
   {
    "duration": 88,
    "start_time": "2024-06-06T00:36:58.144Z"
   },
   {
    "duration": 11882,
    "start_time": "2024-06-06T00:36:58.235Z"
   },
   {
    "duration": 14,
    "start_time": "2024-06-06T00:37:10.119Z"
   },
   {
    "duration": 499,
    "start_time": "2024-06-06T00:37:10.137Z"
   },
   {
    "duration": 9,
    "start_time": "2024-06-06T00:37:10.641Z"
   },
   {
    "duration": 9,
    "start_time": "2024-06-06T00:37:10.654Z"
   },
   {
    "duration": 6,
    "start_time": "2024-06-06T00:37:10.666Z"
   },
   {
    "duration": 505,
    "start_time": "2024-06-06T00:37:10.725Z"
   },
   {
    "duration": 0,
    "start_time": "2024-06-06T00:37:11.233Z"
   },
   {
    "duration": 0,
    "start_time": "2024-06-06T00:37:11.236Z"
   },
   {
    "duration": 0,
    "start_time": "2024-06-06T00:37:11.239Z"
   },
   {
    "duration": 0,
    "start_time": "2024-06-06T00:37:11.241Z"
   },
   {
    "duration": 0,
    "start_time": "2024-06-06T00:37:11.243Z"
   },
   {
    "duration": 0,
    "start_time": "2024-06-06T00:37:11.245Z"
   },
   {
    "duration": 0,
    "start_time": "2024-06-06T00:37:11.248Z"
   },
   {
    "duration": 11,
    "start_time": "2024-06-06T00:41:50.092Z"
   },
   {
    "duration": 5672,
    "start_time": "2024-06-06T17:11:35.669Z"
   },
   {
    "duration": 131,
    "start_time": "2024-06-06T17:11:41.347Z"
   },
   {
    "duration": 18,
    "start_time": "2024-06-06T17:11:41.481Z"
   },
   {
    "duration": 17,
    "start_time": "2024-06-06T17:11:41.502Z"
   },
   {
    "duration": 34,
    "start_time": "2024-06-06T17:11:41.525Z"
   },
   {
    "duration": 380,
    "start_time": "2024-06-06T17:11:41.563Z"
   },
   {
    "duration": 194,
    "start_time": "2024-06-06T17:11:41.946Z"
   },
   {
    "duration": 6,
    "start_time": "2024-06-06T17:11:42.142Z"
   },
   {
    "duration": 14,
    "start_time": "2024-06-06T17:11:42.150Z"
   },
   {
    "duration": 33,
    "start_time": "2024-06-06T17:11:42.166Z"
   },
   {
    "duration": 16,
    "start_time": "2024-06-06T17:11:42.202Z"
   },
   {
    "duration": 562,
    "start_time": "2024-06-06T17:11:42.221Z"
   },
   {
    "duration": 16,
    "start_time": "2024-06-06T17:11:42.787Z"
   },
   {
    "duration": 34,
    "start_time": "2024-06-06T17:11:42.812Z"
   },
   {
    "duration": 23,
    "start_time": "2024-06-06T17:11:42.853Z"
   },
   {
    "duration": 19,
    "start_time": "2024-06-06T17:11:42.878Z"
   },
   {
    "duration": 5,
    "start_time": "2024-06-06T17:11:42.902Z"
   },
   {
    "duration": 10,
    "start_time": "2024-06-06T17:11:42.911Z"
   },
   {
    "duration": 24,
    "start_time": "2024-06-06T17:11:42.934Z"
   },
   {
    "duration": 37,
    "start_time": "2024-06-06T17:11:42.961Z"
   },
   {
    "duration": 426,
    "start_time": "2024-06-06T17:11:43.003Z"
   },
   {
    "duration": 409,
    "start_time": "2024-06-06T17:11:43.432Z"
   },
   {
    "duration": 21,
    "start_time": "2024-06-06T17:11:43.845Z"
   },
   {
    "duration": 40,
    "start_time": "2024-06-06T17:11:43.869Z"
   },
   {
    "duration": 513,
    "start_time": "2024-06-06T17:11:43.912Z"
   },
   {
    "duration": 1171,
    "start_time": "2024-06-06T17:11:44.433Z"
   },
   {
    "duration": 9,
    "start_time": "2024-06-06T17:11:45.609Z"
   },
   {
    "duration": 19,
    "start_time": "2024-06-06T17:11:45.622Z"
   },
   {
    "duration": 55,
    "start_time": "2024-06-06T17:11:45.643Z"
   },
   {
    "duration": 43,
    "start_time": "2024-06-06T17:11:45.735Z"
   },
   {
    "duration": 9600,
    "start_time": "2024-06-06T17:11:45.787Z"
   },
   {
    "duration": 10,
    "start_time": "2024-06-06T17:11:55.393Z"
   },
   {
    "duration": 10835,
    "start_time": "2024-06-06T17:11:55.406Z"
   },
   {
    "duration": 17,
    "start_time": "2024-06-06T17:12:06.246Z"
   },
   {
    "duration": 13,
    "start_time": "2024-06-06T17:12:06.270Z"
   },
   {
    "duration": 6,
    "start_time": "2024-06-06T17:12:06.286Z"
   },
   {
    "duration": 4619,
    "start_time": "2024-06-06T17:12:06.296Z"
   },
   {
    "duration": 572,
    "start_time": "2024-06-06T17:12:10.918Z"
   },
   {
    "duration": 0,
    "start_time": "2024-06-06T17:12:11.495Z"
   },
   {
    "duration": 0,
    "start_time": "2024-06-06T17:12:11.498Z"
   },
   {
    "duration": 0,
    "start_time": "2024-06-06T17:12:11.500Z"
   },
   {
    "duration": 0,
    "start_time": "2024-06-06T17:12:11.501Z"
   },
   {
    "duration": 0,
    "start_time": "2024-06-06T17:12:11.502Z"
   },
   {
    "duration": 0,
    "start_time": "2024-06-06T17:12:11.508Z"
   },
   {
    "duration": 5487,
    "start_time": "2024-06-06T18:56:10.213Z"
   },
   {
    "duration": 47,
    "start_time": "2024-06-06T18:56:15.704Z"
   },
   {
    "duration": 15,
    "start_time": "2024-06-06T18:56:15.754Z"
   },
   {
    "duration": 13,
    "start_time": "2024-06-06T18:56:15.773Z"
   },
   {
    "duration": 26,
    "start_time": "2024-06-06T18:56:15.814Z"
   },
   {
    "duration": 362,
    "start_time": "2024-06-06T18:56:15.843Z"
   },
   {
    "duration": 175,
    "start_time": "2024-06-06T18:56:16.213Z"
   },
   {
    "duration": 21,
    "start_time": "2024-06-06T18:56:16.392Z"
   },
   {
    "duration": 7,
    "start_time": "2024-06-06T18:56:16.418Z"
   },
   {
    "duration": 9,
    "start_time": "2024-06-06T18:56:16.428Z"
   },
   {
    "duration": 20,
    "start_time": "2024-06-06T18:56:16.440Z"
   },
   {
    "duration": 489,
    "start_time": "2024-06-06T18:56:16.463Z"
   },
   {
    "duration": 13,
    "start_time": "2024-06-06T18:56:16.955Z"
   },
   {
    "duration": 37,
    "start_time": "2024-06-06T18:56:16.975Z"
   },
   {
    "duration": 12,
    "start_time": "2024-06-06T18:56:17.015Z"
   },
   {
    "duration": 12,
    "start_time": "2024-06-06T18:56:17.031Z"
   },
   {
    "duration": 3,
    "start_time": "2024-06-06T18:56:17.046Z"
   },
   {
    "duration": 6,
    "start_time": "2024-06-06T18:56:17.053Z"
   },
   {
    "duration": 59,
    "start_time": "2024-06-06T18:56:17.063Z"
   },
   {
    "duration": 27,
    "start_time": "2024-06-06T18:56:17.125Z"
   },
   {
    "duration": 414,
    "start_time": "2024-06-06T18:56:17.155Z"
   },
   {
    "duration": 392,
    "start_time": "2024-06-06T18:56:17.572Z"
   },
   {
    "duration": 23,
    "start_time": "2024-06-06T18:56:17.968Z"
   },
   {
    "duration": 25,
    "start_time": "2024-06-06T18:56:18.016Z"
   },
   {
    "duration": 469,
    "start_time": "2024-06-06T18:56:18.044Z"
   },
   {
    "duration": 1136,
    "start_time": "2024-06-06T18:56:18.516Z"
   },
   {
    "duration": 10,
    "start_time": "2024-06-06T18:56:19.655Z"
   },
   {
    "duration": 6,
    "start_time": "2024-06-06T18:56:19.668Z"
   },
   {
    "duration": 43,
    "start_time": "2024-06-06T18:56:19.678Z"
   },
   {
    "duration": 9,
    "start_time": "2024-06-06T18:56:19.724Z"
   },
   {
    "duration": 15024,
    "start_time": "2024-06-06T18:56:19.735Z"
   },
   {
    "duration": 9,
    "start_time": "2024-06-06T18:56:34.762Z"
   },
   {
    "duration": 440,
    "start_time": "2024-06-06T18:56:34.774Z"
   },
   {
    "duration": 8,
    "start_time": "2024-06-06T18:56:35.217Z"
   },
   {
    "duration": 9,
    "start_time": "2024-06-06T18:56:35.228Z"
   },
   {
    "duration": 6,
    "start_time": "2024-06-06T18:56:35.240Z"
   },
   {
    "duration": 4111,
    "start_time": "2024-06-06T18:56:35.250Z"
   },
   {
    "duration": 482,
    "start_time": "2024-06-06T18:56:39.364Z"
   },
   {
    "duration": 0,
    "start_time": "2024-06-06T18:56:39.849Z"
   },
   {
    "duration": 0,
    "start_time": "2024-06-06T18:56:39.853Z"
   },
   {
    "duration": 0,
    "start_time": "2024-06-06T18:56:39.855Z"
   },
   {
    "duration": 0,
    "start_time": "2024-06-06T18:56:39.858Z"
   },
   {
    "duration": 0,
    "start_time": "2024-06-06T18:56:39.860Z"
   },
   {
    "duration": 0,
    "start_time": "2024-06-06T18:56:39.862Z"
   },
   {
    "duration": 4471,
    "start_time": "2024-06-06T19:00:26.144Z"
   },
   {
    "duration": 9,
    "start_time": "2024-06-06T19:00:39.894Z"
   },
   {
    "duration": 6,
    "start_time": "2024-06-06T19:00:41.387Z"
   },
   {
    "duration": 4526,
    "start_time": "2024-06-06T19:00:42.927Z"
   },
   {
    "duration": 7,
    "start_time": "2024-06-06T19:11:11.085Z"
   },
   {
    "duration": 586,
    "start_time": "2024-06-06T19:11:17.822Z"
   },
   {
    "duration": 199,
    "start_time": "2024-06-06T19:12:04.955Z"
   },
   {
    "duration": 1746,
    "start_time": "2024-06-06T19:14:54.058Z"
   },
   {
    "duration": 41,
    "start_time": "2024-06-06T19:14:55.808Z"
   },
   {
    "duration": 16,
    "start_time": "2024-06-06T19:14:55.851Z"
   },
   {
    "duration": 43,
    "start_time": "2024-06-06T19:14:55.870Z"
   },
   {
    "duration": 18,
    "start_time": "2024-06-06T19:14:55.918Z"
   },
   {
    "duration": 374,
    "start_time": "2024-06-06T19:14:55.939Z"
   },
   {
    "duration": 173,
    "start_time": "2024-06-06T19:14:56.317Z"
   },
   {
    "duration": 6,
    "start_time": "2024-06-06T19:14:56.493Z"
   },
   {
    "duration": 4,
    "start_time": "2024-06-06T19:14:56.514Z"
   },
   {
    "duration": 8,
    "start_time": "2024-06-06T19:14:56.521Z"
   },
   {
    "duration": 17,
    "start_time": "2024-06-06T19:14:56.532Z"
   },
   {
    "duration": 484,
    "start_time": "2024-06-06T19:14:56.552Z"
   },
   {
    "duration": 13,
    "start_time": "2024-06-06T19:14:57.040Z"
   },
   {
    "duration": 11,
    "start_time": "2024-06-06T19:14:57.060Z"
   },
   {
    "duration": 39,
    "start_time": "2024-06-06T19:14:57.074Z"
   },
   {
    "duration": 13,
    "start_time": "2024-06-06T19:14:57.117Z"
   },
   {
    "duration": 4,
    "start_time": "2024-06-06T19:14:57.133Z"
   },
   {
    "duration": 6,
    "start_time": "2024-06-06T19:14:57.141Z"
   },
   {
    "duration": 64,
    "start_time": "2024-06-06T19:14:57.151Z"
   },
   {
    "duration": 27,
    "start_time": "2024-06-06T19:14:57.217Z"
   },
   {
    "duration": 422,
    "start_time": "2024-06-06T19:14:57.247Z"
   },
   {
    "duration": 412,
    "start_time": "2024-06-06T19:14:57.672Z"
   },
   {
    "duration": 30,
    "start_time": "2024-06-06T19:14:58.087Z"
   },
   {
    "duration": 26,
    "start_time": "2024-06-06T19:14:58.120Z"
   },
   {
    "duration": 484,
    "start_time": "2024-06-06T19:14:58.149Z"
   },
   {
    "duration": 1115,
    "start_time": "2024-06-06T19:14:58.636Z"
   },
   {
    "duration": 12,
    "start_time": "2024-06-06T19:14:59.754Z"
   },
   {
    "duration": 7,
    "start_time": "2024-06-06T19:14:59.770Z"
   },
   {
    "duration": 51,
    "start_time": "2024-06-06T19:14:59.781Z"
   },
   {
    "duration": 83,
    "start_time": "2024-06-06T19:14:59.835Z"
   },
   {
    "duration": 14288,
    "start_time": "2024-06-06T19:14:59.920Z"
   },
   {
    "duration": 8,
    "start_time": "2024-06-06T19:15:14.214Z"
   },
   {
    "duration": 507,
    "start_time": "2024-06-06T19:15:14.226Z"
   },
   {
    "duration": 77,
    "start_time": "2024-06-06T19:15:14.736Z"
   },
   {
    "duration": 8,
    "start_time": "2024-06-06T19:15:14.817Z"
   },
   {
    "duration": 6,
    "start_time": "2024-06-06T19:15:14.829Z"
   },
   {
    "duration": 4044,
    "start_time": "2024-06-06T19:15:14.839Z"
   },
   {
    "duration": 4394,
    "start_time": "2024-06-06T19:15:18.886Z"
   },
   {
    "duration": 11,
    "start_time": "2024-06-06T19:15:23.283Z"
   },
   {
    "duration": 3510,
    "start_time": "2024-06-06T19:15:23.315Z"
   },
   {
    "duration": 10,
    "start_time": "2024-06-06T19:15:26.834Z"
   },
   {
    "duration": 365,
    "start_time": "2024-06-06T19:15:26.847Z"
   },
   {
    "duration": 10,
    "start_time": "2024-06-06T19:15:27.215Z"
   },
   {
    "duration": 10,
    "start_time": "2024-06-06T19:15:27.228Z"
   },
   {
    "duration": 243,
    "start_time": "2024-06-06T19:15:27.243Z"
   },
   {
    "duration": 4372,
    "start_time": "2024-06-06T19:16:47.565Z"
   },
   {
    "duration": 11,
    "start_time": "2024-06-06T19:16:54.462Z"
   },
   {
    "duration": 6278,
    "start_time": "2024-06-06T21:34:25.663Z"
   },
   {
    "duration": 49,
    "start_time": "2024-06-06T21:34:31.945Z"
   },
   {
    "duration": 31,
    "start_time": "2024-06-06T21:34:32.002Z"
   },
   {
    "duration": 24,
    "start_time": "2024-06-06T21:34:32.037Z"
   },
   {
    "duration": 19,
    "start_time": "2024-06-06T21:34:32.065Z"
   },
   {
    "duration": 392,
    "start_time": "2024-06-06T21:34:32.087Z"
   },
   {
    "duration": 199,
    "start_time": "2024-06-06T21:34:32.483Z"
   },
   {
    "duration": 6,
    "start_time": "2024-06-06T21:34:32.687Z"
   },
   {
    "duration": 5,
    "start_time": "2024-06-06T21:34:32.697Z"
   },
   {
    "duration": 8,
    "start_time": "2024-06-06T21:34:32.733Z"
   },
   {
    "duration": 21,
    "start_time": "2024-06-06T21:34:32.745Z"
   },
   {
    "duration": 480,
    "start_time": "2024-06-06T21:34:32.770Z"
   },
   {
    "duration": 16,
    "start_time": "2024-06-06T21:34:33.256Z"
   },
   {
    "duration": 13,
    "start_time": "2024-06-06T21:34:33.274Z"
   },
   {
    "duration": 40,
    "start_time": "2024-06-06T21:34:33.290Z"
   },
   {
    "duration": 13,
    "start_time": "2024-06-06T21:34:33.334Z"
   },
   {
    "duration": 4,
    "start_time": "2024-06-06T21:34:33.353Z"
   },
   {
    "duration": 10,
    "start_time": "2024-06-06T21:34:33.360Z"
   },
   {
    "duration": 22,
    "start_time": "2024-06-06T21:34:33.373Z"
   },
   {
    "duration": 58,
    "start_time": "2024-06-06T21:34:33.398Z"
   },
   {
    "duration": 421,
    "start_time": "2024-06-06T21:34:33.459Z"
   },
   {
    "duration": 408,
    "start_time": "2024-06-06T21:34:33.882Z"
   },
   {
    "duration": 19,
    "start_time": "2024-06-06T21:34:34.293Z"
   },
   {
    "duration": 27,
    "start_time": "2024-06-06T21:34:34.331Z"
   },
   {
    "duration": 560,
    "start_time": "2024-06-06T21:34:34.363Z"
   },
   {
    "duration": 1073,
    "start_time": "2024-06-06T21:34:34.931Z"
   },
   {
    "duration": 26,
    "start_time": "2024-06-06T21:34:36.007Z"
   },
   {
    "duration": 7,
    "start_time": "2024-06-06T21:34:36.042Z"
   },
   {
    "duration": 16,
    "start_time": "2024-06-06T21:34:36.054Z"
   },
   {
    "duration": 60,
    "start_time": "2024-06-06T21:34:36.072Z"
   },
   {
    "duration": 14891,
    "start_time": "2024-06-06T21:34:36.135Z"
   },
   {
    "duration": 11,
    "start_time": "2024-06-06T21:34:51.031Z"
   },
   {
    "duration": 56414,
    "start_time": "2024-06-06T21:34:51.045Z"
   },
   {
    "duration": 9,
    "start_time": "2024-06-06T21:35:47.461Z"
   },
   {
    "duration": 57,
    "start_time": "2024-06-06T21:35:47.474Z"
   },
   {
    "duration": 7,
    "start_time": "2024-06-06T21:35:47.534Z"
   },
   {
    "duration": 5229,
    "start_time": "2024-06-06T21:35:47.543Z"
   },
   {
    "duration": 11,
    "start_time": "2024-06-06T21:35:52.775Z"
   },
   {
    "duration": 3375,
    "start_time": "2024-06-06T21:35:52.790Z"
   },
   {
    "duration": 68,
    "start_time": "2024-06-06T21:35:56.167Z"
   },
   {
    "duration": 47393,
    "start_time": "2024-06-06T21:35:56.239Z"
   },
   {
    "duration": 10,
    "start_time": "2024-06-06T21:36:43.635Z"
   },
   {
    "duration": 11,
    "start_time": "2024-06-06T21:36:43.649Z"
   },
   {
    "duration": 276,
    "start_time": "2024-06-06T21:36:43.663Z"
   },
   {
    "duration": 227,
    "start_time": "2024-06-06T21:36:43.942Z"
   },
   {
    "duration": 241,
    "start_time": "2024-06-06T21:36:56.014Z"
   },
   {
    "duration": 251,
    "start_time": "2024-06-06T22:11:52.971Z"
   },
   {
    "duration": 240,
    "start_time": "2024-06-06T22:12:17.612Z"
   },
   {
    "duration": 320,
    "start_time": "2024-06-06T22:12:23.644Z"
   },
   {
    "duration": 14,
    "start_time": "2024-06-06T22:12:56.849Z"
   },
   {
    "duration": 199,
    "start_time": "2024-06-06T22:16:59.891Z"
   },
   {
    "duration": 5533,
    "start_time": "2024-06-07T18:11:25.750Z"
   },
   {
    "duration": 46,
    "start_time": "2024-06-07T18:11:31.286Z"
   },
   {
    "duration": 13,
    "start_time": "2024-06-07T18:11:31.335Z"
   },
   {
    "duration": 14,
    "start_time": "2024-06-07T18:11:31.352Z"
   },
   {
    "duration": 33,
    "start_time": "2024-06-07T18:11:31.371Z"
   },
   {
    "duration": 376,
    "start_time": "2024-06-07T18:11:31.407Z"
   },
   {
    "duration": 171,
    "start_time": "2024-06-07T18:11:31.790Z"
   },
   {
    "duration": 7,
    "start_time": "2024-06-07T18:11:31.963Z"
   },
   {
    "duration": 20,
    "start_time": "2024-06-07T18:11:31.973Z"
   },
   {
    "duration": 9,
    "start_time": "2024-06-07T18:11:31.996Z"
   },
   {
    "duration": 18,
    "start_time": "2024-06-07T18:11:32.007Z"
   },
   {
    "duration": 483,
    "start_time": "2024-06-07T18:11:32.031Z"
   },
   {
    "duration": 20,
    "start_time": "2024-06-07T18:11:32.518Z"
   },
   {
    "duration": 15,
    "start_time": "2024-06-07T18:11:32.548Z"
   },
   {
    "duration": 28,
    "start_time": "2024-06-07T18:11:32.566Z"
   },
   {
    "duration": 7,
    "start_time": "2024-06-07T18:11:32.599Z"
   },
   {
    "duration": 19,
    "start_time": "2024-06-07T18:11:32.609Z"
   },
   {
    "duration": 61,
    "start_time": "2024-06-07T18:11:32.631Z"
   },
   {
    "duration": 436,
    "start_time": "2024-06-07T18:11:32.695Z"
   },
   {
    "duration": 418,
    "start_time": "2024-06-07T18:11:33.136Z"
   },
   {
    "duration": 34,
    "start_time": "2024-06-07T18:11:33.559Z"
   },
   {
    "duration": 37,
    "start_time": "2024-06-07T18:11:33.598Z"
   },
   {
    "duration": 470,
    "start_time": "2024-06-07T18:11:33.638Z"
   },
   {
    "duration": 1210,
    "start_time": "2024-06-07T18:11:34.111Z"
   },
   {
    "duration": 11,
    "start_time": "2024-06-07T18:11:35.324Z"
   },
   {
    "duration": 7,
    "start_time": "2024-06-07T18:11:35.338Z"
   },
   {
    "duration": 59,
    "start_time": "2024-06-07T18:11:35.349Z"
   },
   {
    "duration": 89,
    "start_time": "2024-06-07T18:11:35.410Z"
   },
   {
    "duration": 12057,
    "start_time": "2024-06-07T18:11:35.502Z"
   },
   {
    "duration": 8,
    "start_time": "2024-06-07T18:11:47.562Z"
   },
   {
    "duration": 428,
    "start_time": "2024-06-07T18:11:47.573Z"
   },
   {
    "duration": 8,
    "start_time": "2024-06-07T18:11:48.004Z"
   },
   {
    "duration": 8,
    "start_time": "2024-06-07T18:11:48.016Z"
   },
   {
    "duration": 6,
    "start_time": "2024-06-07T18:11:48.091Z"
   },
   {
    "duration": 91865,
    "start_time": "2024-06-07T18:11:48.100Z"
   },
   {
    "duration": 0,
    "start_time": "2024-06-07T18:13:19.969Z"
   },
   {
    "duration": 0,
    "start_time": "2024-06-07T18:13:19.971Z"
   },
   {
    "duration": 0,
    "start_time": "2024-06-07T18:13:19.990Z"
   },
   {
    "duration": 0,
    "start_time": "2024-06-07T18:13:19.992Z"
   },
   {
    "duration": 0,
    "start_time": "2024-06-07T18:13:19.993Z"
   },
   {
    "duration": 0,
    "start_time": "2024-06-07T18:13:19.995Z"
   },
   {
    "duration": 0,
    "start_time": "2024-06-07T18:13:19.997Z"
   },
   {
    "duration": 0,
    "start_time": "2024-06-07T18:13:19.999Z"
   },
   {
    "duration": 1816,
    "start_time": "2024-06-07T18:13:22.785Z"
   },
   {
    "duration": 34,
    "start_time": "2024-06-07T18:13:24.604Z"
   },
   {
    "duration": 14,
    "start_time": "2024-06-07T18:13:24.641Z"
   },
   {
    "duration": 40,
    "start_time": "2024-06-07T18:13:24.658Z"
   },
   {
    "duration": 18,
    "start_time": "2024-06-07T18:13:24.702Z"
   },
   {
    "duration": 398,
    "start_time": "2024-06-07T18:13:24.723Z"
   },
   {
    "duration": 177,
    "start_time": "2024-06-07T18:13:25.126Z"
   },
   {
    "duration": 8,
    "start_time": "2024-06-07T18:13:25.307Z"
   },
   {
    "duration": 4,
    "start_time": "2024-06-07T18:13:25.318Z"
   },
   {
    "duration": 8,
    "start_time": "2024-06-07T18:13:25.325Z"
   },
   {
    "duration": 58,
    "start_time": "2024-06-07T18:13:25.335Z"
   },
   {
    "duration": 454,
    "start_time": "2024-06-07T18:13:25.397Z"
   },
   {
    "duration": 12,
    "start_time": "2024-06-07T18:13:25.855Z"
   },
   {
    "duration": 12,
    "start_time": "2024-06-07T18:13:25.890Z"
   },
   {
    "duration": 3,
    "start_time": "2024-06-07T18:13:25.906Z"
   },
   {
    "duration": 6,
    "start_time": "2024-06-07T18:13:25.912Z"
   },
   {
    "duration": 17,
    "start_time": "2024-06-07T18:13:25.922Z"
   },
   {
    "duration": 86,
    "start_time": "2024-06-07T18:13:25.941Z"
   },
   {
    "duration": 430,
    "start_time": "2024-06-07T18:13:26.033Z"
   },
   {
    "duration": 427,
    "start_time": "2024-06-07T18:13:26.466Z"
   },
   {
    "duration": 19,
    "start_time": "2024-06-07T18:13:26.902Z"
   },
   {
    "duration": 39,
    "start_time": "2024-06-07T18:13:26.925Z"
   },
   {
    "duration": 482,
    "start_time": "2024-06-07T18:13:26.966Z"
   },
   {
    "duration": 1123,
    "start_time": "2024-06-07T18:13:27.451Z"
   },
   {
    "duration": 16,
    "start_time": "2024-06-07T18:13:28.578Z"
   },
   {
    "duration": 8,
    "start_time": "2024-06-07T18:13:28.597Z"
   },
   {
    "duration": 85,
    "start_time": "2024-06-07T18:13:28.608Z"
   },
   {
    "duration": 12,
    "start_time": "2024-06-07T18:13:28.696Z"
   },
   {
    "duration": 9383,
    "start_time": "2024-06-07T18:13:28.711Z"
   },
   {
    "duration": 8,
    "start_time": "2024-06-07T18:13:38.097Z"
   },
   {
    "duration": 493,
    "start_time": "2024-06-07T18:13:38.108Z"
   },
   {
    "duration": 9,
    "start_time": "2024-06-07T18:13:38.603Z"
   },
   {
    "duration": 8,
    "start_time": "2024-06-07T18:13:38.615Z"
   },
   {
    "duration": 7,
    "start_time": "2024-06-07T18:13:38.626Z"
   },
   {
    "duration": 10,
    "start_time": "2024-06-07T18:13:38.692Z"
   },
   {
    "duration": 219,
    "start_time": "2024-06-07T18:13:38.706Z"
   },
   {
    "duration": 494,
    "start_time": "2024-06-07T18:13:38.928Z"
   },
   {
    "duration": 0,
    "start_time": "2024-06-07T18:13:39.426Z"
   },
   {
    "duration": 0,
    "start_time": "2024-06-07T18:13:39.428Z"
   },
   {
    "duration": 0,
    "start_time": "2024-06-07T18:13:39.431Z"
   }
  ],
  "kernelspec": {
   "display_name": "Python 3 (ipykernel)",
   "language": "python",
   "name": "python3"
  },
  "language_info": {
   "codemirror_mode": {
    "name": "ipython",
    "version": 3
   },
   "file_extension": ".py",
   "mimetype": "text/x-python",
   "name": "python",
   "nbconvert_exporter": "python",
   "pygments_lexer": "ipython3",
   "version": "3.12.5"
  },
  "toc": {
   "base_numbering": 1,
   "nav_menu": {},
   "number_sections": true,
   "sideBar": true,
   "skip_h1_title": true,
   "title_cell": "Table of Contents",
   "title_sidebar": "Contents",
   "toc_cell": false,
   "toc_position": {
    "height": "calc(100% - 180px)",
    "left": "10px",
    "top": "150px",
    "width": "275.222px"
   },
   "toc_section_display": true,
   "toc_window_display": true
  }
 },
 "nbformat": 4,
 "nbformat_minor": 2
}
